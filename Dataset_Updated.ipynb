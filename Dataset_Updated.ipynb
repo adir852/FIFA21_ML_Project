Jupyter Notebook
Dataset
Last Checkpoint: לפני שעתיים
(autosaved)
Current Kernel Logo
Python 3 
File
Edit
View
Insert
Cell
Kernel
Widgets
Help

-
# Importing libraries and Setting Dislplay Options
​
import pandas as pd
import numpy as np
import matplotlib.pyplot as plt
%matplotlib inline
import seaborn as sns
from bs4 import BeautifulSoup
import requests
import re
​
import statsmodels.api as sm
import statsmodels.formula.api as smf
import patsy
import scipy.stats as stats
​
​
from sklearn import linear_model
from sklearn.linear_model import LinearRegression, Ridge, Lasso, LassoCV, RidgeCV
from sklearn.preprocessing import MinMaxScaler
from sklearn.model_selection import train_test_split
from sklearn.model_selection import KFold
from sklearn.model_selection import cross_val_score
from sklearn.preprocessing import StandardScaler, PolynomialFeatures
from sklearn.metrics import r2_score
from sklearn import metrics
​
​
#Setting Options
pd.set_option('display.max_columns', 75)
pd.set_option('display.max_rows', 100)
Web Scraping
players = []
for i in range(0,30000,60):
    url_list = f'https://sofifa.com/?&showCol%5B%5D=pi&showCol%5B%5D=ae&showCol%5B%5D=hi&showCol%5B%5D=wi&showCol%5B%5D=pf&showCol%5B%5D=oa&showCol%5B%5D=pt&showCol%5B%5D=bo&showCol%5B%5D=bp&showCol%5B%5D=gu&showCol%5B%5D=vl&showCol%5B%5D=wg&showCol%5B%5D=rc&showCol%5B%5D=ta&showCol%5B%5D=cr&showCol%5B%5D=fi&showCol%5B%5D=he&showCol%5B%5D=sh&showCol%5B%5D=vo&showCol%5B%5D=ts&showCol%5B%5D=dr&showCol%5B%5D=cu&showCol%5B%5D=fr&showCol%5B%5D=lo&showCol%5B%5D=bl&showCol%5B%5D=to&showCol%5B%5D=ac&showCol%5B%5D=sp&showCol%5B%5D=ag&showCol%5B%5D=re&showCol%5B%5D=ba&showCol%5B%5D=tp&showCol%5B%5D=so&showCol%5B%5D=ju&showCol%5B%5D=st&showCol%5B%5D=sr&showCol%5B%5D=ln&showCol%5B%5D=te&showCol%5B%5D=ar&showCol%5B%5D=in&showCol%5B%5D=po&showCol%5B%5D=vi&showCol%5B%5D=pe&showCol%5B%5D=cm&showCol%5B%5D=td&showCol%5B%5D=ma&showCol%5B%5D=sa&showCol%5B%5D=sl&showCol%5B%5D=tg&showCol%5B%5D=gd&showCol%5B%5D=gh&showCol%5B%5D=gc&showCol%5B%5D=gp&showCol%5B%5D=gr&showCol%5B%5D=tt&showCol%5B%5D=bs&showCol%5B%5D=ir&showCol%5B%5D=pac&showCol%5B%5D=sho&showCol%5B%5D=pas&showCol%5B%5D=dri&showCol%5B%5D=def&showCol%5B%5D=phy&offset={i}'
    #print(url_list)
    response = requests.get(url_list)
    #print(response)
    page = response.text
    #print(page)
    soup = BeautifulSoup(page,"lxml")
    #print(soup.prettify)
    rows = soup.find_all("tr")
    #print(rows)
    for row in rows:
        cells = row.find_all('td')
        #print(cells)
        cells_to_string = str(cells)
        cells_sub = (re.sub(re.compile('<.*?>'),'',cells_to_string))
        #print(cells_sub)
        players.append(cells_sub)
        result = pd.DataFrame(players)
players = []
for i in range(0,30000,60):
    url_list = f'https://sofifa.com/?&showCol%5B%5D=pi&showCol%5B%5D=ae&showCol%5B%5D=hi&showCol%5B%5D=wi&showCol%5B%5D=pf&showCol%5B%5D=oa&showCol%5B%5D=pt&showCol%5B%5D=bo&showCol%5B%5D=bp&showCol%5B%5D=gu&showCol%5B%5D=vl&showCol%5B%5D=wg&showCol%5B%5D=rc&showCol%5B%5D=ta&showCol%5B%5D=cr&showCol%5B%5D=fi&showCol%5B%5D=he&showCol%5B%5D=sh&showCol%5B%5D=vo&showCol%5B%5D=ts&showCol%5B%5D=dr&showCol%5B%5D=cu&showCol%5B%5D=fr&showCol%5B%5D=lo&showCol%5B%5D=bl&showCol%5B%5D=to&showCol%5B%5D=ac&showCol%5B%5D=sp&showCol%5B%5D=ag&showCol%5B%5D=re&showCol%5B%5D=ba&showCol%5B%5D=tp&showCol%5B%5D=so&showCol%5B%5D=ju&showCol%5B%5D=st&showCol%5B%5D=sr&showCol%5B%5D=ln&showCol%5B%5D=te&showCol%5B%5D=ar&showCol%5B%5D=in&showCol%5B%5D=po&showCol%5B%5D=vi&showCol%5B%5D=pe&showCol%5B%5D=cm&showCol%5B%5D=td&showCol%5B%5D=ma&showCol%5B%5D=sa&showCol%5B%5D=sl&showCol%5B%5D=tg&showCol%5B%5D=gd&showCol%5B%5D=gh&showCol%5B%5D=gc&showCol%5B%5D=gp&showCol%5B%5D=gr&showCol%5B%5D=tt&showCol%5B%5D=bs&showCol%5B%5D=ir&showCol%5B%5D=pac&showCol%5B%5D=sho&showCol%5B%5D=pas&showCol%5B%5D=dri&showCol%5B%5D=def&showCol%5B%5D=phy&offset={i}'
    #print(url_list)
    response = requests.get(url_list)
    #print(response)
    page = response.text
    #print(page)
    soup = BeautifulSoup(page,"lxml")
    #print(soup.prettify)
    rows = soup.find_all("tr")
    #print(rows)
    for row in rows:
        cells = row.find_all('td')
        #print(cells)
        cells_to_string = str(cells)
        cells_sub = (re.sub(re.compile('<.*?>'),'',cells_to_string))
        #print(cells_sub)
        players.append(cells_sub)
        result = pd.DataFrame(players)
print("Number of rows before cleanning duplicates")
print(len(result));
print("")
print("Number of rows after cleanning duplicates")
result.drop_duplicates(subset=None, keep="first", inplace=True)
print(len(result))
Number of rows before cleanning duplicates
29739

Number of rows after cleanning duplicates
17751
Creating serializable file
#Saving result data frame as a Pickle File
result.to_pickle("PlayerListInitialPickle")
#Reading result from Pickle File as a data frame
result = pd.read_pickle("PlayerListInitialPickle")
# Getting table name (header)
table_players = soup.find("table",attrs={"class":"table table-hover persist-area"})
header_players = table_players.find_all("th")
column_name_players = []
for row in header_players:
    column_name_players.append(row.text)
column_name_players
['',
 'Name',
 'Age',
 'OVA',
 'POT',
 'Team & Contract',
 'ID',
 'Height',
 'Weight',
 'foot',
 'BOV',
 'BP',
 'Growth',
 'Value',
 'Wage',
 'Release Clause',
 'Attacking',
 'Crossing',
 'Finishing',
 'Heading Accuracy',
 'Short Passing',
 'Volleys',
 'Skill',
 'Dribbling',
 'Curve',
 'FK Accuracy',
 'Long Passing',
 'Ball Control',
 'Movement',
 'Acceleration',
 'Sprint Speed',
 'Agility',
 'Reactions',
 'Balance',
 'Power',
 'Shot Power',
 'Jumping',
 'Stamina',
 'Strength',
 'Long Shots',
 'Mentality',
 'Aggression',
 'Interceptions',
 'Positioning',
 'Vision',
 'Penalties',
 'Composure',
 'Defending',
 'Marking',
 'Standing Tackle',
 'Sliding Tackle',
 'Goalkeeping',
 'GK Diving',
 'GK Handling',
 'GK Kicking',
 'GK Positioning',
 'GK Reflexes',
 'Total Stats',
 'Base Stats',
 'IR',
 'PAC',
 'SHO',
 'PAS',
 'DRI',
 'DEF',
 'PHY',
 'Hits']
# Setting columns names
new_column_name_players = [
 'Name',
 'Age',
 'Overall',
 'Potential',
 'Team',
 'Height',
 'Weight',
 'Foot',
 'Best_Overall',
 'Position',
 'Growth',
 'Value',
 'Wage',
 'Release_Clause',
 'Attacking',
 'Crossing',
 'Finishing',
 'Heading_Accuracy',
 'Short_Passing',
 'Volleys',
 'Skill',
 'Dribbling',
 'Curve',
 'FK_Accuracy',
 'Long_Passing',
 'Ball_Control',
 'Movement',
 'Acceleration',
 'Sprint_Speed',
 'Agility',
 'Reactions',
 'Balance',
 'Power',
 'Shot_Power',
 'Jumping',
 'Stamina',
 'Strength',
 'Long_Shots',
 'Mentality',
 'Aggression',
 'Interceptions',
 'Positioning',
 'Vision',
 'Penalties',
 'Composure',
 'Defending',
 'Marking',
 'Standing_Tackle',
 'Sliding_Tackle',
 'Goalkeeping',
 'GK_Diving',
 'GK_Handling',
 'GK_Kicking',
 'GK_Positioning',
 'GK_Reflexes',
 'Total_Stats',
 'Base_Stats',
 'Int_Reputation',
 'PAC',
 'SHO',
 'PAS',
 'DRI',
 'DEF',
 'PHY',
 'Hits']
Data cleaning
​
result = pd.read_pickle("PlayerListInitialPickle")
#print(result)
result = result[0].str.split(',',expand=True)
​
​
result[1] = result[1].str.replace("\n ","")
#print(result)
​
chars_to_remove = ["GK","RB","RCB","CB","LCB","LB","RWB","RDM","CDM","LDM","LWB","RM","RCM","CM","LCM","LM","LAM","CAM","RAM","RW","RF","CF","LF","LW","LS","ST","RS"]
for char in chars_to_remove:
    result[1]=result[1].str.replace(char,"")
    result[1]=result[1].str.lstrip()
​
result[5] = result[5].str.replace("\n\n\n\n","")
result[5] = result[5].str.split("\n").str[0]
result[5] = result[5].str.strip()
​
result[6] = result[6].replace(r'Loan', np.nan, regex=True)
result = result.iloc[1:]
​
#result
result_WoLoan = result[result[6].notna()]
​
result_WoLoan.drop(result_WoLoan.columns[[0,6,66,67,68,69]],axis=1, inplace=True)
​
mask_loan = result[6].isnull()
​
result_loan = result.loc[mask_loan].shift(-1, axis=1)
​
result_loan.drop_duplicates(subset=[6], keep="first", inplace=True)
​
result_loan.drop(result_loan.columns[[5,6,66,67,68,69]],axis=1, inplace=True)
​
result_WoLoan.columns = new_column_name_players
​
result_loan.columns = new_column_name_players
​
result_master = pd.concat([result_WoLoan,result_loan]).reset_index()
del result_master["index"]
​
result_master.drop_duplicates(subset=None, keep="first",inplace=True)
​
#result_master
C:\Users\adir4\anaconda3\lib\site-packages\pandas\core\frame.py:4163: SettingWithCopyWarning: 
A value is trying to be set on a copy of a slice from a DataFrame

See the caveats in the documentation: https://pandas.pydata.org/pandas-docs/stable/user_guide/indexing.html#returning-a-view-versus-a-copy
  return super().drop(
#Cleaning some characters
​
result_master = result_master[~result_master["Height"].str.contains("~")]
result_master = result_master[~result_master["Age"].str.contains("\n")]
result_master = result_master[result_master["Height"].str.contains("'")]
#Converting Height column to cm
​
result_master["Height"] = result_master["Height"].str[:-1]
​
def parse_height(height):
    # format: 5'11"
    height = height.split("'")
    feet = float(height[0])
    inch = float(height[1])
    return ((feet*30.48) + (inch*2.54))
​
result_master["Height"]=round(result_master["Height"].apply(lambda x:parse_height(x)),0)
​
#Converting Weight column to kg
result_master["Weight"] = round(result_master["Weight"].str.split("lbs").str[0].astype(float)*0.45359237,0)
​
#Cleaning to Value column and convert to decimal
result_master["Value"] = result_master["Value"].str.replace("€","")
result_master["Value"] = result_master["Value"].str.replace("M","")
result_master.loc[result_master["Value"].str.contains("K"),"Value"]=result_master["Value"].str.split("K").str[0].astype(float)/1000
result_master["Value"] = round(result_master["Value"].astype(float),2)
result_master = result_master.loc[result_master["Value"]>0]
#Cleaning Wage column and convert to decimal
result_master["Wage"] = result_master["Wage"].str.replace("€","")
result_master.loc[result_master["Wage"].str.contains("K"),"Wage"]=result_master["Wage"].str.split("K").str[0].astype(float)*1000
result_master["Wage"] = round(result_master["Wage"].astype(float)/1000000,5)
#Cleaning Release_Clause column and convert to decimal
result_master["Release_Clause"] = result_master["Release_Clause"].str.replace("€","")
result_master["Release_Clause"] = result_master["Release_Clause"].str.replace("M","")
result_master.loc[result_master["Release_Clause"].str.contains("K"),"Release_Clause"]=result_master["Release_Clause"].str.split("K").str[0].astype(float)/1000
result_master["Release_Clause"] = round(result_master["Release_Clause"].astype(float),2)
#Checking Height,Weight,Value,Wage and Release_Clause columns
result_master.head(10)
Name	Age	Overall	Potential	Team	Height	Weight	Foot	Best_Overall	Position	Growth	Value	Wage	Release_Clause	Attacking	Crossing	Finishing	Heading_Accuracy	Short_Passing	Volleys	Skill	Dribbling	Curve	FK_Accuracy	Long_Passing	Ball_Control	Movement	Acceleration	Sprint_Speed	Agility	Reactions	Balance	Power	Shot_Power	Jumping	Stamina	Strength	Long_Shots	Mentality	Aggression	Interceptions	Positioning	Vision	Penalties	Composure	Defending	Marking	Standing_Tackle	Sliding_Tackle	Goalkeeping	GK_Diving	GK_Handling	GK_Kicking	GK_Positioning	GK_Reflexes	Total_Stats	Base_Stats	Int_Reputation	PAC	SHO	PAS	DRI	DEF	PHY	Hits
0	20 PC	25	64	66	Vancouver Whitecaps FC	173.0	73.0	Left	63	LB	2	0.48	0.0020	0.72	249	56	42	51	64	36	270	64	57	35	56	58	346	73	60	77	60	76	279	56	51	67	60	45	280	69	64	53	53	41	67	193	59	66	68	61	14	8	15	8	16	1678	358	1 ★	66	46	57	64	62	63	None
1	Adama Traoré	24	78	81	Wolverhampton Wanderers	178.0	72.0	Right	80	RM	3	19.00	0.0720	37.50	307	78	66	40	71	52	338	92	67	42	54	83	432	97	96	85	66	88	386	78	79	77	87	65	289	70	41	64	67	47	73	110	37	38	35	52	13	9	11	12	7	1914	435	1 ★	96	66	67	87	38	81	None
2	R. Gosens	25	83	83	Atalanta	183.0	76.0	Left	83	LM	0	40.50	0.0740	68.90	394	82	79	82	80	71	367	80	70	58	77	82	390	84	84	70	86	66	397	76	91	86	76	68	370	80	77	86	77	50	77	232	75	78	79	64	7	16	15	16	10	2214	473	1 ★	84	75	78	79	77	80	None
3	N. Kanté	29	88	88	Chelsea	168.0	70.0	Right	88	CDM	0	78.00	0.1900	148.20	328	68	65	54	85	56	336	79	49	49	79	80	420	79	76	82	91	92	381	71	77	96	72	65	386	90	91	72	79	54	85	264	89	90	85	54	15	12	10	7	10	2169	468	3 ★	77	66	76	81	86	82	None
4	N. Vlašić	22	80	86	PFC CSKA Moscow	178.0	79.0	Right	82	CAM	6	34.00	0.0470	61.20	365	71	76	65	81	72	380	85	70	68	77	80	409	82	83	78	78	88	365	80	55	80	69	81	319	68	26	77	82	66	77	146	54	55	37	58	6	14	15	9	14	2042	439	1 ★	83	77	77	83	48	71	None
5	M. Mount	21	82	88	Chelsea	178.0	70.0	Right	84	CAM	6	49.00	0.0810	102.90	379	82	79	59	85	74	408	81	79	82	82	84	384	78	70	79	81	76	343	80	51	80	52	80	349	68	58	80	83	60	81	147	51	56	40	56	11	12	13	8	12	2066	432	1 ★	74	78	83	81	54	62	None
6	N. Mazraoui	22	79	84	Ajax	183.0	62.0	Right	80	RB	5	25.00	0.0160	36.90	339	74	63	65	81	56	334	82	67	33	73	79	382	81	83	86	77	55	338	67	69	81	67	54	333	69	78	73	76	37	75	221	74	74	73	56	12	7	13	12	12	2003	442	2 ★	82	61	74	80	74	71	None
9	S. Giménez	19	66	83	Cruz Azul	183.0	69.0	Left	68	ST	17	2.20	0.0100	5.10	310	42	70	73	62	63	254	55	48	36	45	70	318	72	60	63	60	63	325	62	62	57	79	65	280	61	31	60	54	74	48	78	29	31	18	48	6	14	12	6	10	1613	347	1 ★	65	67	52	61	33	69	None
10	W. Faríñez	22	74	78	Racing Club de Lens	180.0	77.0	Right	74	GK	4	4.90	0.0200	10.20	94	18	19	17	25	15	108	14	22	18	29	25	306	51	54	69	67	65	239	52	75	41	51	20	144	23	17	15	66	23	45	62	25	16	21	361	71	69	69	74	78	1314	414	1 ★	71	69	69	78	53	74	None
11	N. Konstandopoulos	24	60	63	Adelaide United	180.0	78.0	Right	63	RM	3	0.32	0.0008	0.43	257	52	47	51	65	42	285	62	49	48	63	63	330	71	73	69	52	65	285	53	46	72	60	54	260	53	51	57	56	43	58	170	54	59	57	60	11	13	11	11	14	1647	360	1 ★	72	50	59	63	55	61	None
#Deleting some rows that composure columns is blank (Ronaldinho, Juninho, Xavi etc)
result_master = result_master.loc[result_master["Composure"]!=" "]
result_master = result_master[result_master["Base_Stats"]!=' ']
#Cleaning to IR column
result_master["Int_Reputation"]=result_master["Int_Reputation"].str[:-1]
#Checking null values
result_master.isnull().any()
Name                False
Age                 False
Overall             False
Potential           False
Team                False
Height              False
Weight              False
Foot                False
Best_Overall        False
Position            False
Growth              False
Value               False
Wage                False
Release_Clause      False
Attacking           False
Crossing            False
Finishing           False
Heading_Accuracy    False
Short_Passing       False
Volleys             False
Skill               False
Dribbling           False
Curve               False
FK_Accuracy         False
Long_Passing        False
Ball_Control        False
Movement            False
Acceleration        False
Sprint_Speed        False
Agility             False
Reactions           False
Balance             False
Power               False
Shot_Power          False
Jumping             False
Stamina             False
Strength            False
Long_Shots          False
Mentality           False
Aggression          False
Interceptions       False
Positioning         False
Vision              False
Penalties           False
Composure           False
Defending           False
Marking             False
Standing_Tackle     False
Sliding_Tackle      False
Goalkeeping         False
GK_Diving           False
GK_Handling         False
GK_Kicking          False
GK_Positioning      False
GK_Reflexes         False
Total_Stats         False
Base_Stats          False
Int_Reputation      False
PAC                 False
SHO                 False
PAS                 False
DRI                 False
DEF                 False
PHY                 False
Hits                 True
dtype: bool
#Checking columns dtypes
result_master.info()
<class 'pandas.core.frame.DataFrame'>
Int64Index: 15265 entries, 0 to 17749
Data columns (total 65 columns):
 #   Column            Non-Null Count  Dtype  
---  ------            --------------  -----  
 0   Name              15265 non-null  object 
 1   Age               15265 non-null  object 
 2   Overall           15265 non-null  object 
 3   Potential         15265 non-null  object 
 4   Team              15265 non-null  object 
 5   Height            15265 non-null  float64
 6   Weight            15265 non-null  float64
 7   Foot              15265 non-null  object 
 8   Best_Overall      15265 non-null  object 
 9   Position          15265 non-null  object 
 10  Growth            15265 non-null  object 
 11  Value             15265 non-null  float64
 12  Wage              15265 non-null  float64
 13  Release_Clause    15265 non-null  float64
 14  Attacking         15265 non-null  object 
 15  Crossing          15265 non-null  object 
 16  Finishing         15265 non-null  object 
 17  Heading_Accuracy  15265 non-null  object 
 18  Short_Passing     15265 non-null  object 
 19  Volleys           15265 non-null  object 
 20  Skill             15265 non-null  object 
 21  Dribbling         15265 non-null  object 
 22  Curve             15265 non-null  object 
 23  FK_Accuracy       15265 non-null  object 
 24  Long_Passing      15265 non-null  object 
 25  Ball_Control      15265 non-null  object 
 26  Movement          15265 non-null  object 
 27  Acceleration      15265 non-null  object 
 28  Sprint_Speed      15265 non-null  object 
 29  Agility           15265 non-null  object 
 30  Reactions         15265 non-null  object 
 31  Balance           15265 non-null  object 
 32  Power             15265 non-null  object 
 33  Shot_Power        15265 non-null  object 
 34  Jumping           15265 non-null  object 
 35  Stamina           15265 non-null  object 
 36  Strength          15265 non-null  object 
 37  Long_Shots        15265 non-null  object 
 38  Mentality         15265 non-null  object 
 39  Aggression        15265 non-null  object 
 40  Interceptions     15265 non-null  object 
 41  Positioning       15265 non-null  object 
 42  Vision            15265 non-null  object 
 43  Penalties         15265 non-null  object 
 44  Composure         15265 non-null  object 
 45  Defending         15265 non-null  object 
 46  Marking           15265 non-null  object 
 47  Standing_Tackle   15265 non-null  object 
 48  Sliding_Tackle    15265 non-null  object 
 49  Goalkeeping       15265 non-null  object 
 50  GK_Diving         15265 non-null  object 
 51  GK_Handling       15265 non-null  object 
 52  GK_Kicking        15265 non-null  object 
 53  GK_Positioning    15265 non-null  object 
 54  GK_Reflexes       15265 non-null  object 
 55  Total_Stats       15265 non-null  object 
 56  Base_Stats        15265 non-null  object 
 57  Int_Reputation    15265 non-null  object 
 58  PAC               15265 non-null  object 
 59  SHO               15265 non-null  object 
 60  PAS               15265 non-null  object 
 61  DRI               15265 non-null  object 
 62  DEF               15265 non-null  object 
 63  PHY               15265 non-null  object 
 64  Hits              0 non-null      object 
dtypes: float64(5), object(60)
memory usage: 7.7+ MB
#Converting to int dtypes
​
cols_to_convert=['Age',
 'Overall',
 'Potential',
 'Best_Overall',
 'Growth',
 'Attacking',
 'Crossing',
 'Finishing',
 'Heading_Accuracy',
 'Short_Passing',
 'Volleys',
 'Skill',
 'Dribbling',
 'Curve',
 'FK_Accuracy',
 'Long_Passing',
 'Ball_Control',
 'Movement',
 'Acceleration',
 'Sprint_Speed',
 'Agility',
 'Reactions',
 'Balance',
 'Power',
 'Shot_Power',
 'Jumping',
 'Stamina',
 'Strength',
 'Long_Shots',
 'Mentality',
 'Aggression',
 'Interceptions',
 'Positioning',
 'Vision',
 'Penalties',
 'Composure',
 'Defending',
 'Marking',
 'Standing_Tackle',
 'Sliding_Tackle',
 'Goalkeeping',
 'GK_Diving',
 'GK_Handling',
 'GK_Kicking',
 'GK_Positioning',
 'GK_Reflexes',
 'Total_Stats',
 'Base_Stats',
 'Int_Reputation',
 'PAC',
 'SHO',
 'PAS',
 'DRI',
 'DEF',
 'PHY']
​
for col in cols_to_convert:
    result_master[col] = result_master[col].astype("int")
result_master.info()
<class 'pandas.core.frame.DataFrame'>
Int64Index: 15265 entries, 0 to 17749
Data columns (total 65 columns):
 #   Column            Non-Null Count  Dtype  
---  ------            --------------  -----  
 0   Name              15265 non-null  object 
 1   Age               15265 non-null  int32  
 2   Overall           15265 non-null  int32  
 3   Potential         15265 non-null  int32  
 4   Team              15265 non-null  object 
 5   Height            15265 non-null  float64
 6   Weight            15265 non-null  float64
 7   Foot              15265 non-null  object 
 8   Best_Overall      15265 non-null  int32  
 9   Position          15265 non-null  object 
 10  Growth            15265 non-null  int32  
 11  Value             15265 non-null  float64
 12  Wage              15265 non-null  float64
 13  Release_Clause    15265 non-null  float64
 14  Attacking         15265 non-null  int32  
 15  Crossing          15265 non-null  int32  
 16  Finishing         15265 non-null  int32  
 17  Heading_Accuracy  15265 non-null  int32  
 18  Short_Passing     15265 non-null  int32  
 19  Volleys           15265 non-null  int32  
 20  Skill             15265 non-null  int32  
 21  Dribbling         15265 non-null  int32  
 22  Curve             15265 non-null  int32  
 23  FK_Accuracy       15265 non-null  int32  
 24  Long_Passing      15265 non-null  int32  
 25  Ball_Control      15265 non-null  int32  
 26  Movement          15265 non-null  int32  
 27  Acceleration      15265 non-null  int32  
 28  Sprint_Speed      15265 non-null  int32  
 29  Agility           15265 non-null  int32  
 30  Reactions         15265 non-null  int32  
 31  Balance           15265 non-null  int32  
 32  Power             15265 non-null  int32  
 33  Shot_Power        15265 non-null  int32  
 34  Jumping           15265 non-null  int32  
 35  Stamina           15265 non-null  int32  
 36  Strength          15265 non-null  int32  
 37  Long_Shots        15265 non-null  int32  
 38  Mentality         15265 non-null  int32  
 39  Aggression        15265 non-null  int32  
 40  Interceptions     15265 non-null  int32  
 41  Positioning       15265 non-null  int32  
 42  Vision            15265 non-null  int32  
 43  Penalties         15265 non-null  int32  
 44  Composure         15265 non-null  int32  
 45  Defending         15265 non-null  int32  
 46  Marking           15265 non-null  int32  
 47  Standing_Tackle   15265 non-null  int32  
 48  Sliding_Tackle    15265 non-null  int32  
 49  Goalkeeping       15265 non-null  int32  
 50  GK_Diving         15265 non-null  int32  
 51  GK_Handling       15265 non-null  int32  
 52  GK_Kicking        15265 non-null  int32  
 53  GK_Positioning    15265 non-null  int32  
 54  GK_Reflexes       15265 non-null  int32  
 55  Total_Stats       15265 non-null  int32  
 56  Base_Stats        15265 non-null  int32  
 57  Int_Reputation    15265 non-null  int32  
 58  PAC               15265 non-null  int32  
 59  SHO               15265 non-null  int32  
 60  PAS               15265 non-null  int32  
 61  DRI               15265 non-null  int32  
 62  DEF               15265 non-null  int32  
 63  PHY               15265 non-null  int32  
 64  Hits              0 non-null      object 
dtypes: float64(5), int32(55), object(5)
memory usage: 4.5+ MB
#Descriptive Statistics of numeric columns
result_master.describe()
Age	Overall	Potential	Height	Weight	Best_Overall	Growth	Value	Wage	Release_Clause	Attacking	Crossing	Finishing	Heading_Accuracy	Short_Passing	Volleys	Skill	Dribbling	Curve	FK_Accuracy	Long_Passing	Ball_Control	Movement	Acceleration	Sprint_Speed	Agility	Reactions	Balance	Power	Shot_Power	Jumping	Stamina	Strength	Long_Shots	Mentality	Aggression	Interceptions	Positioning	Vision	Penalties	Composure	Defending	Marking	Standing_Tackle	Sliding_Tackle	Goalkeeping	GK_Diving	GK_Handling	GK_Kicking	GK_Positioning	GK_Reflexes	Total_Stats	Base_Stats	Int_Reputation	PAC	SHO	PAS	DRI	DEF	PHY
count	15265.000000	15265.000000	15265.000000	15265.000000	15265.000000	15265.000000	15265.000000	15265.000000	15265.000000	15265.000000	15265.000000	15265.000000	15265.000000	15265.000000	15265.000000	15265.000000	15265.000000	15265.000000	15265.000000	15265.000000	15265.000000	15265.000000	15265.000000	15265.000000	15265.000000	15265.000000	15265.000000	15265.000000	15265.000000	15265.000000	15265.00000	15265.000000	15265.000000	15265.000000	15265.000000	15265.00000	15265.000000	15265.000000	15265.000000	15265.000000	15265.000000	15265.000000	15265.000000	15265.000000	15265.000000	15265.000000	15265.000000	15265.000000	15265.000000	15265.000000	15265.000000	15265.000000	15265.000000	15265.000000	15265.000000	15265.000000	15265.000000	15265.000000	15265.000000	15265.000000
mean	24.778578	67.010809	72.336652	181.256404	75.096757	67.921913	5.325843	3.320145	0.010944	5.761606	258.856797	51.595414	47.971962	53.575827	60.707239	45.006354	267.803734	58.014805	49.869047	44.441271	54.762791	60.715821	323.374648	65.506060	65.587815	64.636947	62.950344	64.693482	302.806813	59.882738	65.06171	63.385981	65.303963	49.172421	262.789125	57.23734	47.480445	52.397838	55.677367	49.996135	60.266164	142.899443	47.628366	48.756371	46.514707	77.735211	15.651228	15.486931	15.325712	15.513790	15.757550	1636.265771	362.436816	1.136259	68.245398	55.063151	59.123420	64.363053	50.672715	64.969080
std	4.916264	6.824571	5.756826	6.819612	7.103265	6.641743	5.706547	7.942117	0.020839	15.208060	72.444254	17.836083	19.337077	17.001928	13.893535	17.729068	76.902922	18.108713	18.217068	17.438894	14.729959	15.884313	54.509783	14.585103	14.318779	14.313858	8.960972	13.923239	49.494979	13.291720	11.79247	15.245922	12.564257	19.087473	63.507154	17.03545	20.879553	19.169457	13.589211	15.672731	11.672347	61.708160	20.296261	21.457968	21.110510	81.226946	16.861590	16.145490	15.787530	16.374758	17.155087	262.642868	40.012229	0.431693	10.895650	13.700356	9.970303	9.683020	16.833748	9.680947
min	16.000000	45.000000	46.000000	155.000000	48.000000	44.000000	0.000000	0.010000	0.000500	0.000000	43.000000	6.000000	3.000000	7.000000	8.000000	3.000000	40.000000	5.000000	6.000000	5.000000	9.000000	7.000000	120.000000	12.000000	12.000000	11.000000	28.000000	17.000000	109.000000	12.000000	18.00000	11.000000	16.000000	4.000000	50.000000	10.00000	4.000000	2.000000	10.000000	7.000000	12.000000	20.000000	3.000000	7.000000	6.000000	5.000000	1.000000	1.000000	1.000000	1.000000	1.000000	752.000000	232.000000	1.000000	23.000000	14.000000	25.000000	28.000000	12.000000	27.000000
25%	21.000000	63.000000	68.000000	175.000000	70.000000	64.000000	0.000000	0.570000	0.002000	0.760000	232.000000	41.000000	33.000000	46.000000	56.000000	32.000000	234.000000	53.000000	38.000000	32.000000	46.000000	57.000000	296.000000	59.000000	59.000000	57.000000	57.000000	57.000000	272.000000	51.000000	58.00000	56.000000	58.000000	36.000000	236.000000	46.00000	27.000000	43.000000	47.000000	40.000000	53.000000	85.000000	30.000000	29.000000	26.000000	48.000000	8.000000	8.000000	8.000000	8.000000	8.000000	1502.000000	335.000000	1.000000	62.000000	46.000000	53.000000	59.000000	35.000000	59.000000
50%	24.000000	67.000000	72.000000	180.000000	75.000000	68.000000	4.000000	1.200000	0.004000	1.800000	272.000000	56.000000	52.000000	57.000000	64.000000	47.000000	281.000000	63.000000	52.000000	43.000000	58.000000	65.000000	332.000000	68.000000	68.000000	67.000000	63.000000	67.000000	309.000000	61.000000	66.00000	66.000000	67.000000	54.000000	272.000000	60.00000	54.000000	58.000000	57.000000	51.000000	61.000000	162.000000	53.000000	56.000000	53.000000	53.000000	11.000000	11.000000	11.000000	11.000000	11.000000	1670.000000	364.000000	1.000000	69.000000	58.000000	60.000000	65.000000	54.000000	66.000000
75%	28.000000	72.000000	76.000000	185.000000	80.000000	72.000000	9.000000	2.500000	0.012000	4.200000	306.000000	65.000000	63.000000	65.000000	70.000000	59.000000	319.000000	70.000000	64.000000	58.000000	65.000000	70.000000	361.000000	75.000000	75.000000	75.000000	69.000000	74.000000	339.000000	70.000000	73.00000	74.000000	74.000000	64.000000	305.000000	70.00000	65.000000	66.000000	65.000000	62.000000	68.000000	195.000000	65.000000	67.000000	64.000000	59.000000	14.000000	14.000000	14.000000	14.000000	14.000000	1817.000000	390.000000	1.000000	76.000000	65.000000	66.000000	71.000000	65.000000	72.000000
max	45.000000	93.000000	95.000000	206.000000	110.000000	93.000000	26.000000	185.500000	0.560000	357.100000	437.000000	94.000000	95.000000	93.000000	94.000000	90.000000	470.000000	96.000000	94.000000	94.000000	93.000000	96.000000	461.000000	97.000000	96.000000	95.000000	95.000000	97.000000	444.000000	95.000000	95.00000	96.000000	97.000000	94.000000	414.000000	96.00000	93.000000	96.000000	95.000000	96.000000	96.000000	272.000000	94.000000	93.000000	95.000000	444.000000	90.000000	92.000000	93.000000	91.000000	90.000000	2347.000000	501.000000	5.000000	96.000000	93.000000	93.000000	95.000000	91.000000	91.000000
#Saving Final Player List as Pickle
result_master.to_pickle("PlayerListFinalPickle")
#Reading Final Player List
players= pd.read_pickle("PlayerListFinalPickle")
Exploratory Data Analyis
#Top 5 Valuable Player
players.nlargest(5,columns="Value")[["Name","Age","Team","Value"]]
Name	Age	Team	Value
51	K. Mbappé	21	Paris Saint-Germain	185.5
81	K. De Bruyne	29	Manchester City	127.5
150	R. Lewandowski	31	FC Bayern München	124.5
101	H. Kane	26	Tottenham Hotspur	123.0
134	Bruno Fernandes	25	Manchester United	121.0
#Top 5 Rating Player
players.nlargest(5,columns="Overall")[["Name","Age","Team","Overall"]]
Name	Age	Team	Overall
45	L. Messi	33	FC Barcelona	93
56	Cristiano Ronaldo	35	Juventus	92
150	R. Lewandowski	31	FC Bayern München	92
81	K. De Bruyne	29	Manchester City	91
412	J. Oblak	27	Atlético Madrid	91
#Mean Value (Top 5) based on Position
​
pd.DataFrame(players.groupby("Position").Value.mean().sort_values(ascending=False)).head(5)
Value
Position	
CF	10.406000
CM	4.944525
LW	4.520611
RW	4.206786
CAM	4.032728
​
#Top 5 Clup (Mean Value)
​
pd.DataFrame(players.groupby("Team").Value.mean().sort_values(ascending=False).head(5))
Value
Team	
FC Bayern München	38.611852
Manchester City	35.842812
Liverpool	32.371818
Real Madrid	31.205161
FC Barcelona	28.218182
#Top 5 Clup (Total Value)
​
pd.DataFrame(players.groupby("Team").Value.sum().sort_values(ascending=False).head(5))
Value
Team	
Manchester City	1146.97
Liverpool	1068.27
FC Bayern München	1042.52
Real Madrid	967.36
FC Barcelona	931.20
#Age , Height and Weight Stats
players[["Age","Height","Weight"]].describe()
Age	Height	Weight
count	15265.000000	15265.000000	15265.000000
mean	24.778578	181.256404	75.096757
std	4.916264	6.819612	7.103265
min	16.000000	155.000000	48.000000
25%	21.000000	175.000000	70.000000
50%	24.000000	180.000000	75.000000
75%	28.000000	185.000000	80.000000
max	45.000000	206.000000	110.000000
plt.figure(figsize=(8,5))
sns.boxenplot(y='Value', data=players, width=0.5)
plt.show()

x = players.Value
sns.set(style="whitegrid")
plt.figure(figsize=(10,6))
sns.distplot(x).set_title('Frequency Distribution Plot of Player Actual Values')
plt.show()
C:\Users\adir4\anaconda3\lib\site-packages\seaborn\distributions.py:2551: FutureWarning: `distplot` is a deprecated function and will be removed in a future version. Please adapt your code to use either `displot` (a figure-level function with similar flexibility) or `histplot` (an axes-level function for histograms).
  warnings.warn(msg, FutureWarning)

plt.figure(1, figsize=(10, 6))
sns.set(style="whitegrid")
plt.hist( x= 'Value', bins=25,data=players)
plt.title('Value distribution of all players')
plt.show()

plt.figure(figsize=(10,6))
sns.regplot(x="Overall",y="Value",data=players)
plt.show()

plt.figure(figsize=(10,10))
loc=players.Position.value_counts()
loc.plot(kind='pie' ,autopct='%.1f',fontsize=10,subplots=True)
plt.title("Player's Positions Distribution")
plt.ylabel("")
plt.show()

plt.figure(figsize=(10,10),dpi=200)
graph = sns.catplot(y="Position", x="Value", kind="bar",  data=players)
plt.show()
<Figure size 2000x2000 with 0 Axes>

#Changing columns order
players = players[['Name','Value','Age','Overall','Potential','Team','Height','Weight','Foot','Best_Overall',
                           'Position','Growth','Wage','Release_Clause','Attacking','Crossing','Finishing',
                           'Heading_Accuracy','Short_Passing','Volleys','Skill','Dribbling','Curve','FK_Accuracy',
                           'Long_Passing','Ball_Control','Movement','Acceleration','Sprint_Speed','Agility',
                           'Reactions','Balance','Power','Shot_Power','Jumping','Stamina','Strength','Long_Shots',
                           'Mentality','Aggression','Interceptions','Positioning','Vision','Penalties','Composure',
                           'Defending','Marking','Standing_Tackle','Sliding_Tackle','Goalkeeping','GK_Diving',
                           'GK_Handling','GK_Kicking','GK_Positioning','GK_Reflexes','Total_Stats','Base_Stats',
                           'Int_Reputation','PAC','SHO','PAS','DRI','DEF','PHY']]
players
Name	Value	Age	Overall	Potential	Team	Height	Weight	Foot	Best_Overall	Position	Growth	Wage	Release_Clause	Attacking	Crossing	Finishing	Heading_Accuracy	Short_Passing	Volleys	Skill	Dribbling	Curve	FK_Accuracy	Long_Passing	Ball_Control	Movement	Acceleration	Sprint_Speed	Agility	Reactions	Balance	Power	Shot_Power	Jumping	Stamina	Strength	Long_Shots	Mentality	Aggression	Interceptions	Positioning	Vision	Penalties	Composure	Defending	Marking	Standing_Tackle	Sliding_Tackle	Goalkeeping	GK_Diving	GK_Handling	GK_Kicking	GK_Positioning	GK_Reflexes	Total_Stats	Base_Stats	Int_Reputation	PAC	SHO	PAS	DRI	DEF	PHY
0	20 PC	0.48	25	64	66	Vancouver Whitecaps FC	173.0	73.0	Left	63	LB	2	0.002	0.72	249	56	42	51	64	36	270	64	57	35	56	58	346	73	60	77	60	76	279	56	51	67	60	45	280	69	64	53	53	41	67	193	59	66	68	61	14	8	15	8	16	1678	358	1	66	46	57	64	62	63
1	Adama Traoré	19.00	24	78	81	Wolverhampton Wanderers	178.0	72.0	Right	80	RM	3	0.072	37.50	307	78	66	40	71	52	338	92	67	42	54	83	432	97	96	85	66	88	386	78	79	77	87	65	289	70	41	64	67	47	73	110	37	38	35	52	13	9	11	12	7	1914	435	1	96	66	67	87	38	81
2	R. Gosens	40.50	25	83	83	Atalanta	183.0	76.0	Left	83	LM	0	0.074	68.90	394	82	79	82	80	71	367	80	70	58	77	82	390	84	84	70	86	66	397	76	91	86	76	68	370	80	77	86	77	50	77	232	75	78	79	64	7	16	15	16	10	2214	473	1	84	75	78	79	77	80
3	N. Kanté	78.00	29	88	88	Chelsea	168.0	70.0	Right	88	CDM	0	0.190	148.20	328	68	65	54	85	56	336	79	49	49	79	80	420	79	76	82	91	92	381	71	77	96	72	65	386	90	91	72	79	54	85	264	89	90	85	54	15	12	10	7	10	2169	468	3	77	66	76	81	86	82
4	N. Vlašić	34.00	22	80	86	PFC CSKA Moscow	178.0	79.0	Right	82	CAM	6	0.047	61.20	365	71	76	65	81	72	380	85	70	68	77	80	409	82	83	78	78	88	365	80	55	80	69	81	319	68	26	77	82	66	77	146	54	55	37	58	6	14	15	9	14	2042	439	1	83	77	77	83	48	71
...	...	...	...	...	...	...	...	...	...	...	...	...	...	...	...	...	...	...	...	...	...	...	...	...	...	...	...	...	...	...	...	...	...	...	...	...	...	...	...	...	...	...	...	...	...	...	...	...	...	...	...	...	...	...	...	...	...	...	...	...	...	...	...	...
17745	19 D. Depetris	1.80	28	70	70	Club Olimpo	183.0	75.0	Right	69	ST	0	0.010	0.00	316	41	71	72	64	68	278	66	67	39	35	71	320	67	71	68	54	60	364	72	72	82	72	66	282	51	38	71	51	71	65	61	18	22	21	51	13	8	11	10	9	1672	356	1	69	70	51	67	29	70
17746	20 Carlos Castro	0.57	24	64	67	CD Lugo	178.0	68.0	Left	65	ST	3	0.006	0.00	293	57	62	55	57	62	280	61	51	57	51	60	368	75	77	72	69	75	342	62	75	75	71	59	275	56	31	64	59	65	62	94	32	31	31	57	10	16	8	10	13	1709	360	1	76	62	56	63	34	69
17747	J. Silva	1.10	25	66	70	Club América	190.0	87.0	Right	68	CB	4	0.006	0.00	212	28	29	74	51	30	182	29	29	33	43	48	234	40	45	51	62	36	295	47	71	66	83	28	225	54	68	26	32	45	60	201	68	65	68	44	8	6	15	8	7	1393	294	1	43	33	39	39	68	72
17748	18 J. García Sancho	0.42	22	63	69	Lobos BUAP	183.0	81.0	Right	62	CB	6	0.002	0.00	210	33	28	60	57	32	191	48	27	35	34	47	270	60	54	43	52	61	246	40	71	43	69	23	224	64	58	31	28	43	51	193	62	66	65	55	9	7	13	11	15	1389	301	1	57	31	40	48	63	62
17749	J. Cristaldo	1.60	31	71	71	Newell's Old Boys	175.0	73.0	Right	71	ST	0	0.013	0.00	337	59	69	71	67	71	320	74	67	49	57	73	371	73	75	77	69	77	345	75	63	67	71	69	307	75	35	67	65	65	77	63	19	23	21	63	13	13	16	12	9	1806	380	1	74	70	63	74	29	70
15265 rows × 64 columns

#View the correlations
corr_mat = players.corr()
corr_mat
Value	Age	Overall	Potential	Height	Weight	Best_Overall	Growth	Wage	Release_Clause	Attacking	Crossing	Finishing	Heading_Accuracy	Short_Passing	Volleys	Skill	Dribbling	Curve	FK_Accuracy	Long_Passing	Ball_Control	Movement	Acceleration	Sprint_Speed	Agility	Reactions	Balance	Power	Shot_Power	Jumping	Stamina	Strength	Long_Shots	Mentality	Aggression	Interceptions	Positioning	Vision	Penalties	Composure	Defending	Marking	Standing_Tackle	Sliding_Tackle	Goalkeeping	GK_Diving	GK_Handling	GK_Kicking	GK_Positioning	GK_Reflexes	Total_Stats	Base_Stats	Int_Reputation	PAC	SHO	PAS	DRI	DEF	PHY
Value	1.000000	0.063538	0.567847	0.538294	0.004608	0.036773	0.577887	-0.136062	0.793371	0.975712	0.254052	0.218149	0.202387	0.154850	0.296550	0.216999	0.261466	0.228619	0.232567	0.196868	0.280133	0.262605	0.238709	0.153335	0.158570	0.167620	0.507111	0.112155	0.290522	0.290260	0.123389	0.213819	0.129473	0.218974	0.270171	0.171759	0.145894	0.213765	0.323052	0.172134	0.392502	0.126806	0.148785	0.121167	0.104459	-0.000841	-0.000936	-0.001257	-0.001027	-0.000795	-0.000177	0.345785	0.475341	0.453532	0.200380	0.280891	0.400286	0.393802	0.166010	0.246789
Age	0.063538	1.000000	0.508411	-0.244876	0.086720	0.249796	0.441032	-0.855052	0.217573	0.054648	0.194903	0.160580	0.108621	0.186998	0.183762	0.193053	0.176150	0.046835	0.189342	0.227305	0.227910	0.121378	-0.036372	-0.178838	-0.167919	-0.024707	0.498431	-0.077757	0.328884	0.311594	0.226110	0.082481	0.359665	0.193511	0.280206	0.288242	0.198991	0.123662	0.240200	0.197495	0.435201	0.134092	0.174869	0.119724	0.102146	0.110164	0.105797	0.108591	0.106717	0.117617	0.104948	0.293096	0.414165	0.390108	-0.180257	0.301057	0.391473	0.232496	0.236770	0.441177
Overall	0.567847	0.508411	1.000000	0.600072	0.026832	0.148932	0.986031	-0.590560	0.603841	0.532194	0.437895	0.385434	0.307785	0.323882	0.507044	0.357910	0.445004	0.356893	0.394625	0.361097	0.493870	0.440592	0.320306	0.156383	0.170037	0.236595	0.874675	0.109148	0.566223	0.540374	0.280344	0.365879	0.358539	0.390506	0.500730	0.395262	0.318958	0.339795	0.512106	0.314815	0.714743	0.270854	0.312900	0.257336	0.229332	0.018165	0.016905	0.017043	0.013461	0.025037	0.017066	0.614597	0.834597	0.452740	0.207884	0.473250	0.696288	0.637489	0.361185	0.562986
Potential	0.538294	-0.244876	0.600072	1.000000	-0.026784	-0.042724	0.639492	0.291172	0.467709	0.513174	0.237670	0.201982	0.180418	0.143493	0.328411	0.176213	0.266649	0.267611	0.211416	0.156577	0.290650	0.301986	0.273662	0.207066	0.206999	0.190361	0.482154	0.135587	0.238630	0.274319	0.080184	0.195140	0.041831	0.194819	0.242839	0.138790	0.140012	0.190392	0.309267	0.145594	0.373027	0.140198	0.146813	0.139043	0.127331	-0.013827	-0.012558	-0.013706	-0.017447	-0.010891	-0.013777	0.332780	0.478625	0.266511	0.271194	0.245338	0.396775	0.449761	0.167017	0.176871
Height	0.004608	0.086720	0.026832	-0.026784	1.000000	0.760550	0.014731	-0.059110	0.022009	0.004089	-0.359414	-0.495444	-0.374263	0.056302	-0.347199	-0.343898	-0.459266	-0.487646	-0.450533	-0.409018	-0.314814	-0.409895	-0.635050	-0.555026	-0.457020	-0.641119	0.006114	-0.779651	-0.134308	-0.181651	0.023652	-0.271143	0.555437	-0.385427	-0.306253	-0.017965	-0.031473	-0.435853	-0.377764	-0.318867	-0.155693	-0.049134	-0.045057	-0.048479	-0.051026	0.349748	0.344973	0.345346	0.343070	0.345149	0.346742	-0.368153	-0.125962	0.038870	-0.386345	-0.109484	-0.214846	-0.319088	0.097019	0.440872
Weight	0.036773	0.249796	0.148932	-0.042724	0.760550	1.000000	0.126885	-0.221211	0.072287	0.031932	-0.259387	-0.392122	-0.284629	0.094107	-0.257267	-0.243609	-0.356563	-0.399794	-0.347717	-0.306423	-0.229687	-0.322308	-0.534300	-0.494989	-0.404339	-0.555099	0.116111	-0.661509	0.003501	-0.054328	0.103622	-0.210961	0.646127	-0.273918	-0.199369	0.065525	-0.005381	-0.335271	-0.280104	-0.218972	-0.041230	-0.029459	-0.016886	-0.031396	-0.037966	0.320305	0.314598	0.316085	0.314149	0.318487	0.316798	-0.242249	0.001038	0.114424	-0.345439	-0.010719	-0.106892	-0.215283	0.115165	0.533404
Best_Overall	0.577887	0.441032	0.986031	0.639492	0.014731	0.126885	1.000000	-0.534087	0.600516	0.542102	0.471190	0.399352	0.340932	0.353849	0.547962	0.383000	0.477445	0.395851	0.414202	0.377834	0.526621	0.482039	0.357540	0.197034	0.211391	0.267061	0.873471	0.139262	0.591357	0.554578	0.283216	0.401323	0.354434	0.418408	0.528952	0.410746	0.332985	0.369206	0.535120	0.337724	0.729566	0.290154	0.331647	0.277388	0.247340	-0.030598	-0.031324	-0.031224	-0.034655	-0.022887	-0.030962	0.642021	0.831485	0.430972	0.225003	0.462506	0.685379	0.634679	0.364859	0.553720
Growth	-0.136062	-0.855052	-0.590560	0.291172	-0.059110	-0.221211	-0.534087	1.000000	-0.250315	-0.118766	-0.283923	-0.257187	-0.186079	-0.242580	-0.275079	-0.250266	-0.263190	-0.156847	-0.258660	-0.273887	-0.297418	-0.222265	-0.106987	0.021870	0.005473	-0.090910	-0.559639	0.006250	-0.436424	-0.369508	-0.254379	-0.240703	-0.386585	-0.270478	-0.353855	-0.332689	-0.240203	-0.214298	-0.300445	-0.229616	-0.478462	-0.182487	-0.226097	-0.167485	-0.145810	-0.035673	-0.032886	-0.034208	-0.033699	-0.040929	-0.034307	-0.399296	-0.515268	-0.272582	0.024971	-0.318469	-0.432433	-0.308662	-0.263461	-0.494857
Wage	0.793371	0.217573	0.603841	0.467709	0.022009	0.072287	0.600516	-0.250315	1.000000	0.760960	0.286581	0.246502	0.209877	0.201626	0.323803	0.247015	0.290009	0.238067	0.260800	0.233377	0.314977	0.285249	0.210455	0.107224	0.113098	0.147035	0.545306	0.093187	0.324753	0.330717	0.153124	0.200539	0.167408	0.246830	0.314089	0.221954	0.181596	0.228522	0.341562	0.213871	0.442101	0.156516	0.180354	0.149940	0.131708	-0.008868	-0.008623	-0.008459	-0.009557	-0.007857	-0.009255	0.378819	0.492795	0.560802	0.129843	0.296512	0.429887	0.396307	0.202480	0.279801
Release_Clause	0.975712	0.054648	0.532194	0.513174	0.004089	0.031932	0.542102	-0.118766	0.760960	1.000000	0.231971	0.200227	0.183979	0.140872	0.274783	0.195344	0.239786	0.207588	0.212554	0.179328	0.262374	0.240298	0.219826	0.140368	0.144880	0.151813	0.476289	0.101977	0.266124	0.264795	0.116985	0.197415	0.118553	0.197688	0.248414	0.156547	0.137406	0.193901	0.300584	0.155595	0.363301	0.119978	0.139766	0.115008	0.099432	0.004720	0.004517	0.004198	0.004031	0.004801	0.005668	0.319685	0.444298	0.423640	0.187424	0.260001	0.375473	0.365948	0.157891	0.230160
Attacking	0.254052	0.194903	0.437895	0.237670	-0.359414	-0.259387	0.471190	-0.283923	0.286581	0.231971	1.000000	0.847802	0.881684	0.708199	0.885310	0.898680	0.931230	0.917931	0.855404	0.778961	0.742105	0.937617	0.713829	0.614514	0.611450	0.650578	0.455302	0.560247	0.831739	0.720179	0.189908	0.691711	0.141799	0.892083	0.893336	0.541915	0.332303	0.913587	0.723227	0.843634	0.720206	0.338011	0.368052	0.334604	0.294073	-0.776342	-0.768201	-0.766944	-0.762539	-0.763376	-0.768601	0.908715	0.444048	0.225297	0.196224	0.346648	0.379213	0.383193	0.131408	0.121554
Crossing	0.218149	0.160580	0.385434	0.201982	-0.495444	-0.392122	0.399352	-0.257187	0.246502	0.200227	0.847802	1.000000	0.663611	0.443255	0.797410	0.684467	0.885572	0.858032	0.840595	0.752401	0.739109	0.833774	0.741149	0.647024	0.618108	0.694938	0.369733	0.635770	0.640162	0.549044	0.083195	0.645463	-0.052574	0.745299	0.799794	0.453124	0.405450	0.792582	0.691009	0.639594	0.598865	0.416676	0.426389	0.412062	0.389200	-0.662153	-0.654571	-0.652655	-0.651751	-0.651875	-0.655563	0.854112	0.492262	0.181680	0.313507	0.215165	0.507299	0.446863	0.231852	0.004643
Finishing	0.202387	0.108621	0.307785	0.180418	-0.374263	-0.284629	0.340932	-0.186079	0.209877	0.183979	0.881684	0.663611	1.000000	0.451481	0.660752	0.893640	0.796636	0.827172	0.771572	0.702264	0.504364	0.790266	0.670082	0.592688	0.573579	0.641910	0.332263	0.538887	0.705676	0.736725	0.054327	0.500748	-0.010832	0.890436	0.684292	0.247996	-0.038913	0.900310	0.703999	0.843499	0.570298	-0.042714	-0.001426	-0.039937	-0.082892	-0.591994	-0.585398	-0.585668	-0.580840	-0.582741	-0.585655	0.720849	0.377118	0.155380	0.301404	0.605721	0.339754	0.477985	-0.234320	-0.058319
Heading_Accuracy	0.154850	0.186998	0.323882	0.143493	0.056302	0.094107	0.353849	-0.242580	0.201626	0.140872	0.708199	0.443255	0.451481	1.000000	0.648083	0.488611	0.540859	0.539954	0.416085	0.369763	0.506846	0.649813	0.308609	0.273272	0.341449	0.201253	0.355045	0.135394	0.700883	0.379753	0.415298	0.602225	0.512584	0.477985	0.706264	0.705457	0.532600	0.520272	0.248462	0.533722	0.535731	0.552379	0.568283	0.542531	0.516834	-0.727991	-0.720709	-0.719710	-0.715786	-0.714666	-0.720319	0.625251	0.130659	0.154709	-0.161948	-0.130874	-0.081514	-0.143602	0.408036	0.425573
Short_Passing	0.296550	0.183762	0.507044	0.328411	-0.347199	-0.257267	0.547962	-0.275079	0.323803	0.274783	0.885310	0.797410	0.660752	0.648083	1.000000	0.689474	0.903373	0.844815	0.766969	0.716451	0.894048	0.915252	0.650798	0.529056	0.518438	0.583730	0.508746	0.532983	0.754644	0.596026	0.187699	0.714244	0.153553	0.754258	0.896109	0.626004	0.551142	0.761178	0.709114	0.670580	0.738863	0.558372	0.575509	0.552838	0.516929	-0.734029	-0.727294	-0.724806	-0.719788	-0.721143	-0.727777	0.906844	0.490131	0.232748	0.105632	0.151233	0.466211	0.348511	0.386417	0.192190
Volleys	0.216999	0.193053	0.357910	0.176213	-0.343898	-0.243609	0.383000	-0.250266	0.247015	0.195344	0.898680	0.684467	0.893640	0.488611	0.689474	1.000000	0.818759	0.805572	0.808057	0.744026	0.552014	0.790122	0.634400	0.536981	0.517333	0.608674	0.386918	0.514383	0.721410	0.755622	0.087690	0.493687	0.032230	0.874758	0.719816	0.320921	0.049733	0.858316	0.698234	0.846448	0.625617	0.041275	0.080541	0.042746	-0.000232	-0.587080	-0.580895	-0.580303	-0.576174	-0.577407	-0.581247	0.757417	0.398514	0.237596	0.230195	0.546335	0.381422	0.459499	-0.134842	-0.003100
Skill	0.261466	0.176150	0.445004	0.266649	-0.459266	-0.356563	0.477445	-0.263190	0.290009	0.239786	0.931230	0.885572	0.796636	0.540859	0.903373	0.818759	1.000000	0.936496	0.935281	0.889582	0.843348	0.942458	0.744575	0.625359	0.593570	0.705613	0.447853	0.635861	0.762581	0.696594	0.105778	0.674933	0.013884	0.878754	0.889782	0.509432	0.388794	0.869467	0.793064	0.782696	0.721065	0.392043	0.413190	0.389239	0.353083	-0.725891	-0.718269	-0.716737	-0.712149	-0.714514	-0.719065	0.930669	0.512116	0.225834	0.229460	0.323446	0.516062	0.485302	0.194738	0.045122
Dribbling	0.228619	0.046835	0.356893	0.267611	-0.487646	-0.399794	0.395851	-0.156847	0.238067	0.207588	0.917931	0.858032	0.827172	0.539954	0.844815	0.805572	0.936496	1.000000	0.847822	0.742507	0.715432	0.943001	0.811955	0.731698	0.705927	0.758870	0.363371	0.672332	0.719995	0.629515	0.100806	0.678552	-0.033930	0.846692	0.831509	0.447035	0.288091	0.904090	0.728369	0.762295	0.641680	0.304313	0.324719	0.301919	0.270455	-0.770015	-0.761653	-0.760826	-0.756715	-0.757715	-0.761601	0.866016	0.425815	0.148688	0.343645	0.280949	0.368267	0.493719	0.076228	-0.030074
Curve	0.232567	0.189342	0.394625	0.211416	-0.450533	-0.347717	0.414202	-0.258660	0.260800	0.212554	0.855404	0.840595	0.771572	0.416085	0.766969	0.808057	0.935281	0.847822	1.000000	0.856649	0.699253	0.825771	0.697733	0.585945	0.545615	0.677930	0.396481	0.604602	0.686118	0.691564	0.060001	0.565656	-0.050664	0.842038	0.784200	0.389507	0.253363	0.826231	0.755554	0.751048	0.645631	0.250793	0.275050	0.248929	0.215627	-0.607016	-0.600055	-0.598918	-0.595889	-0.598311	-0.601193	0.844721	0.494653	0.222823	0.266606	0.408888	0.528728	0.506596	0.075889	-0.017461
FK_Accuracy	0.196868	0.227305	0.361097	0.156577	-0.409018	-0.306423	0.377834	-0.273887	0.233377	0.179328	0.778961	0.752401	0.702264	0.369763	0.716451	0.744026	0.889582	0.742507	0.856649	1.000000	0.687913	0.742127	0.579728	0.459192	0.417185	0.575114	0.368573	0.531127	0.638379	0.663674	0.027351	0.496790	-0.037701	0.804313	0.738009	0.368230	0.262916	0.726296	0.712506	0.733835	0.602087	0.252316	0.272657	0.253198	0.218039	-0.543328	-0.537963	-0.536004	-0.532137	-0.535448	-0.538553	0.785652	0.451535	0.224453	0.146541	0.397978	0.526574	0.432258	0.099812	-0.010129
Long_Passing	0.280133	0.227910	0.493870	0.290650	-0.314814	-0.229687	0.526621	-0.297418	0.314977	0.262374	0.742105	0.739109	0.504364	0.506846	0.894048	0.552014	0.843348	0.715432	0.699253	0.687913	1.000000	0.782890	0.531104	0.395733	0.375823	0.491112	0.485543	0.460855	0.658130	0.534963	0.146653	0.629610	0.127587	0.656562	0.825513	0.596201	0.613051	0.610532	0.697699	0.528588	0.690495	0.612882	0.618166	0.607313	0.579886	-0.587771	-0.582443	-0.580697	-0.575114	-0.577352	-0.583657	0.847709	0.537755	0.243377	0.037476	0.128912	0.569033	0.346235	0.490994	0.211860
Ball_Control	0.262605	0.121378	0.440592	0.301986	-0.409895	-0.322308	0.482039	-0.222265	0.285249	0.240298	0.937617	0.833774	0.790266	0.649813	0.915252	0.790122	0.942458	0.943001	0.825771	0.742127	0.782890	1.000000	0.749980	0.650372	0.636679	0.686728	0.444385	0.608134	0.773128	0.637009	0.162360	0.716077	0.087081	0.831594	0.884751	0.552897	0.406167	0.867662	0.713454	0.763154	0.717679	0.418147	0.442214	0.413636	0.376685	-0.798790	-0.790236	-0.788833	-0.784204	-0.786027	-0.791071	0.901063	0.432236	0.196194	0.217754	0.220243	0.366477	0.410071	0.203983	0.087424
Movement	0.238709	-0.036372	0.320306	0.273662	-0.635050	-0.534300	0.357540	-0.106987	0.210455	0.219826	0.713829	0.741149	0.670082	0.308609	0.650798	0.634400	0.744575	0.811955	0.697733	0.579728	0.531104	0.749980	1.000000	0.934366	0.897414	0.925268	0.337682	0.844773	0.573301	0.463315	0.190167	0.644617	-0.201158	0.664014	0.629495	0.283913	0.177361	0.747180	0.595162	0.575956	0.497159	0.186936	0.206947	0.180518	0.163980	-0.583987	-0.577253	-0.577329	-0.574963	-0.574198	-0.577161	0.746015	0.465699	0.065486	0.709010	0.242547	0.323064	0.508957	0.022817	-0.097908
Acceleration	0.153335	-0.178838	0.156383	0.207066	-0.555026	-0.494989	0.197034	0.021870	0.107224	0.140368	0.614514	0.647024	0.592688	0.273272	0.529056	0.536981	0.625359	0.731698	0.585945	0.459192	0.395733	0.650372	0.934366	1.000000	0.927638	0.824749	0.140090	0.718486	0.470160	0.343198	0.141758	0.589886	-0.204610	0.556104	0.503911	0.202710	0.105291	0.661027	0.440396	0.490924	0.335551	0.130003	0.140945	0.125535	0.116900	-0.583893	-0.577258	-0.576771	-0.574301	-0.575661	-0.576448	0.606942	0.318302	-0.041606	0.766264	0.126189	0.143221	0.358530	-0.043879	-0.155231
Sprint_Speed	0.158570	-0.167919	0.170037	0.206999	-0.457020	-0.404339	0.211391	0.005473	0.113098	0.144880	0.611450	0.618108	0.573579	0.341449	0.518438	0.517333	0.593570	0.705927	0.545615	0.417185	0.375823	0.636679	0.897414	0.927638	1.000000	0.762060	0.147489	0.634890	0.499358	0.340606	0.177361	0.603462	-0.097994	0.530600	0.501826	0.242082	0.123362	0.642460	0.396464	0.476406	0.336482	0.151331	0.163162	0.145965	0.137121	-0.592723	-0.585839	-0.585579	-0.583909	-0.583429	-0.585278	0.596398	0.311972	-0.045242	0.768059	0.093838	0.092708	0.299223	-0.018158	-0.071013
Agility	0.167620	-0.024707	0.236595	0.190361	-0.641119	-0.555099	0.267061	-0.090910	0.147035	0.151813	0.650578	0.694938	0.641910	0.201253	0.583730	0.608674	0.705613	0.758870	0.677930	0.575114	0.491112	0.686728	0.925268	0.824749	0.762060	1.000000	0.238885	0.792978	0.491736	0.436209	0.126728	0.546563	-0.279091	0.640198	0.558173	0.198309	0.099790	0.700166	0.594645	0.541296	0.437797	0.105715	0.125520	0.101750	0.084912	-0.516248	-0.508997	-0.510496	-0.507202	-0.509288	-0.510728	0.670900	0.404777	0.047309	0.613654	0.275463	0.338494	0.526460	-0.056637	-0.184204
Reactions	0.507111	0.498431	0.874675	0.482154	0.006114	0.116111	0.873471	-0.559639	0.545306	0.476289	0.455302	0.369733	0.332263	0.355045	0.508746	0.386918	0.447853	0.363371	0.396481	0.368573	0.485543	0.444385	0.337682	0.140090	0.147489	0.238885	1.000000	0.134418	0.569589	0.510664	0.289313	0.387009	0.335873	0.412428	0.538114	0.426904	0.340724	0.380972	0.521809	0.344127	0.703226	0.281635	0.324729	0.268821	0.237798	-0.043842	-0.044268	-0.043967	-0.046904	-0.037150	-0.044072	0.616868	0.750664	0.416435	0.126191	0.432765	0.621682	0.562357	0.357055	0.524487
Balance	0.112155	-0.077757	0.109148	0.135587	-0.779651	-0.661509	0.139262	0.006250	0.093187	0.101977	0.560247	0.635770	0.538887	0.135394	0.532983	0.514383	0.635861	0.672332	0.604602	0.531127	0.460855	0.608134	0.844773	0.718486	0.634890	0.792978	0.134418	1.000000	0.366313	0.326982	0.097128	0.474181	-0.401671	0.547821	0.500377	0.171594	0.135330	0.607062	0.513854	0.472719	0.346170	0.150106	0.156723	0.147500	0.138170	-0.506164	-0.501008	-0.500740	-0.497273	-0.497483	-0.500423	0.584792	0.269694	0.029839	0.471134	0.159167	0.271328	0.406117	-0.017607	-0.295857
Power	0.290522	0.328884	0.566223	0.238630	-0.134308	0.003501	0.591357	-0.436424	0.324753	0.266124	0.831739	0.640162	0.705676	0.700883	0.754644	0.721410	0.762581	0.719995	0.686118	0.638379	0.658130	0.773128	0.573301	0.470160	0.499358	0.491736	0.569589	0.366313	1.000000	0.773826	0.497327	0.777020	0.479362	0.810771	0.835252	0.646887	0.408569	0.743902	0.616466	0.692686	0.720847	0.388994	0.424875	0.381419	0.340885	-0.584660	-0.580256	-0.579235	-0.572082	-0.572524	-0.579852	0.872680	0.591503	0.222824	0.161568	0.371091	0.372253	0.343015	0.278530	0.526943
Shot_Power	0.290260	0.311594	0.540374	0.274319	-0.181651	-0.054328	0.554578	-0.369508	0.330717	0.264795	0.720179	0.549044	0.736725	0.379753	0.596026	0.755622	0.696594	0.629515	0.691564	0.663674	0.534963	0.637009	0.463315	0.343198	0.340606	0.436209	0.510664	0.326982	0.773826	1.000000	0.110250	0.395880	0.173864	0.811454	0.633026	0.326425	0.062899	0.685677	0.684275	0.694505	0.637132	0.040694	0.081901	0.038886	0.000685	-0.315524	-0.313378	-0.315402	-0.303392	-0.310824	-0.313213	0.709642	0.606341	0.281272	0.195944	0.698690	0.562059	0.561444	-0.033138	0.213952
Jumping	0.123389	0.226110	0.280344	0.080184	0.023652	0.103622	0.283216	-0.254379	0.153124	0.116985	0.189908	0.083195	0.054327	0.415298	0.187699	0.087690	0.105778	0.100806	0.060001	0.027351	0.146653	0.162360	0.190167	0.141758	0.177361	0.126728	0.289313	0.097128	0.497327	0.110250	1.000000	0.330734	0.366334	0.089704	0.266987	0.398566	0.296192	0.105644	0.027164	0.101269	0.255768	0.279210	0.293405	0.265375	0.264328	-0.151640	-0.151805	-0.150193	-0.149516	-0.145099	-0.151337	0.299804	0.231860	0.110014	0.059655	-0.061286	-0.014931	-0.019018	0.307992	0.476735
Stamina	0.213819	0.082481	0.365879	0.195140	-0.271143	-0.210961	0.401323	-0.240703	0.200539	0.197415	0.691711	0.645463	0.500748	0.602225	0.714244	0.493687	0.674933	0.678552	0.565656	0.496790	0.629610	0.716077	0.644617	0.589886	0.603462	0.546563	0.387009	0.474181	0.777020	0.395880	0.330734	1.000000	0.249461	0.571908	0.762777	0.628196	0.560981	0.632192	0.465741	0.483600	0.535878	0.565937	0.577306	0.558535	0.531525	-0.674300	-0.668477	-0.666062	-0.661305	-0.662344	-0.668007	0.777500	0.421651	0.025554	0.245393	-0.014321	0.189746	0.165432	0.416482	0.401719
Strength	0.129473	0.359665	0.358539	0.041831	0.555437	0.646127	0.354434	-0.386585	0.167408	0.118553	0.141799	-0.052574	-0.010832	0.512584	0.153553	0.032230	0.013884	-0.033930	-0.050664	-0.037701	0.127587	0.087081	-0.201158	-0.204610	-0.097994	-0.279091	0.335873	-0.401671	0.479362	0.173864	0.366334	0.249461	1.000000	0.038118	0.251461	0.486554	0.338659	0.007602	-0.046254	0.069719	0.290665	0.313349	0.333569	0.305217	0.285006	-0.083034	-0.084522	-0.082830	-0.082063	-0.076519	-0.083563	0.200509	0.218266	0.138817	-0.279486	-0.051303	-0.041650	-0.176498	0.376825	0.853457
Long_Shots	0.218974	0.193511	0.390506	0.194819	-0.385427	-0.273918	0.418408	-0.270478	0.246830	0.197688	0.892083	0.745299	0.890436	0.477985	0.754258	0.874758	0.878754	0.846692	0.842038	0.804313	0.656562	0.831594	0.664014	0.556104	0.530600	0.640198	0.412428	0.547821	0.810771	0.811454	0.089704	0.571908	0.038118	1.000000	0.785316	0.381832	0.161654	0.876276	0.763692	0.817825	0.648156	0.149551	0.182738	0.150980	0.107998	-0.609410	-0.603054	-0.603034	-0.597572	-0.599092	-0.603415	0.830522	0.487866	0.202175	0.233618	0.558794	0.458963	0.494284	-0.025665	0.040221
Mentality	0.270171	0.280206	0.500730	0.242839	-0.306253	-0.199369	0.528952	-0.353855	0.314089	0.248414	0.893336	0.799794	0.684292	0.706264	0.896109	0.719816	0.889782	0.831509	0.784200	0.738009	0.825513	0.884751	0.629495	0.503911	0.501826	0.558173	0.538114	0.500377	0.835252	0.633026	0.266987	0.762777	0.251461	0.785316	1.000000	0.774101	0.630827	0.814643	0.730494	0.740491	0.758879	0.608318	0.623180	0.604244	0.564842	-0.737892	-0.730478	-0.728911	-0.724275	-0.724604	-0.731641	0.951508	0.531219	0.253190	0.075137	0.185102	0.415045	0.311204	0.450890	0.326307
Aggression	0.171759	0.288242	0.395262	0.138790	-0.017965	0.065525	0.410746	-0.332689	0.221954	0.156547	0.541915	0.453124	0.247996	0.705457	0.626004	0.320921	0.509432	0.447035	0.389507	0.368230	0.596201	0.552897	0.283913	0.202710	0.242082	0.198309	0.426904	0.171594	0.646887	0.326425	0.398566	0.628196	0.486554	0.381832	0.774101	1.000000	0.740265	0.389664	0.292232	0.333587	0.546811	0.737932	0.733226	0.731267	0.708804	-0.565732	-0.559689	-0.559542	-0.556418	-0.554844	-0.560266	0.665063	0.336905	0.177878	-0.154628	-0.171041	0.113097	-0.050647	0.654235	0.605105
Interceptions	0.145894	0.198991	0.318958	0.140012	-0.031473	-0.005381	0.332985	-0.240203	0.181596	0.137406	0.332303	0.405450	-0.038913	0.532600	0.551142	0.049733	0.388794	0.288091	0.253363	0.262916	0.613051	0.406167	0.177361	0.105291	0.123362	0.099790	0.340724	0.135330	0.408569	0.062899	0.296192	0.560981	0.338659	0.161654	0.630827	0.740265	1.000000	0.153484	0.176368	0.078660	0.406302	0.956125	0.927447	0.949208	0.938344	-0.462787	-0.457393	-0.456779	-0.456263	-0.453030	-0.459453	0.553355	0.293456	0.125326	-0.221410	-0.412955	0.126258	-0.147887	0.927595	0.451413
Positioning	0.213765	0.123662	0.339795	0.190392	-0.435853	-0.335271	0.369206	-0.214298	0.228522	0.193901	0.913587	0.792582	0.900310	0.520272	0.761178	0.858316	0.869467	0.904090	0.826231	0.726296	0.610532	0.867662	0.747180	0.661027	0.642460	0.700166	0.380972	0.607062	0.743902	0.685677	0.105644	0.632192	0.007602	0.876276	0.814643	0.389664	0.153484	1.000000	0.742939	0.805698	0.622382	0.151936	0.183570	0.152187	0.112944	-0.686106	-0.679290	-0.677860	-0.673399	-0.675201	-0.678777	0.822325	0.423615	0.161482	0.318671	0.439846	0.373416	0.473336	-0.053248	0.004297
Vision	0.323052	0.240200	0.512106	0.309267	-0.377764	-0.280104	0.535120	-0.300445	0.341562	0.300584	0.723227	0.691009	0.703999	0.248462	0.709114	0.698234	0.793064	0.728369	0.755554	0.712506	0.697699	0.713454	0.595162	0.440396	0.396464	0.594645	0.521809	0.513854	0.616466	0.684275	0.027164	0.465741	-0.046254	0.763692	0.730494	0.292232	0.176368	0.742939	1.000000	0.631660	0.672065	0.147483	0.178949	0.147078	0.109561	-0.354713	-0.352213	-0.350069	-0.345090	-0.348592	-0.353546	0.772977	0.647991	0.284140	0.262623	0.567467	0.733629	0.669582	0.056124	0.056684
Penalties	0.172134	0.197495	0.314815	0.145594	-0.318867	-0.218972	0.337724	-0.229616	0.213871	0.155595	0.843634	0.639594	0.843499	0.533722	0.670580	0.846448	0.782696	0.762295	0.751048	0.733835	0.528588	0.763154	0.575956	0.490924	0.476406	0.541296	0.344127	0.472719	0.692686	0.694505	0.101269	0.483600	0.069719	0.817825	0.740491	0.333587	0.078660	0.805698	0.631660	1.000000	0.595436	0.075376	0.112944	0.075372	0.035131	-0.611802	-0.606017	-0.604252	-0.599326	-0.601434	-0.606830	0.719497	0.315421	0.221762	0.150020	0.456100	0.297829	0.353584	-0.103376	0.008720
Composure	0.392502	0.435201	0.714743	0.373027	-0.155693	-0.041230	0.729566	-0.478462	0.442101	0.363301	0.720206	0.598865	0.570298	0.535731	0.738863	0.625617	0.721065	0.641680	0.645631	0.602087	0.690495	0.717679	0.497159	0.335551	0.336482	0.437797	0.703226	0.346170	0.720847	0.637132	0.255768	0.535878	0.290665	0.648156	0.758879	0.546811	0.406302	0.622382	0.672065	0.595436	1.000000	0.377735	0.417122	0.367286	0.329792	-0.410817	-0.408468	-0.405389	-0.404793	-0.398950	-0.408825	0.794003	0.629015	0.389950	0.095495	0.364865	0.545056	0.476286	0.323428	0.375817
Defending	0.126806	0.134092	0.270854	0.140198	-0.049134	-0.029459	0.290154	-0.182487	0.156516	0.119978	0.338011	0.416676	-0.042714	0.552379	0.558372	0.041275	0.392043	0.304313	0.250793	0.252316	0.612882	0.418147	0.186936	0.130003	0.151331	0.105715	0.281635	0.150106	0.388994	0.040694	0.279210	0.565937	0.313349	0.149551	0.608318	0.737932	0.956125	0.151936	0.147483	0.075376	0.377735	1.000000	0.969794	0.988586	0.985856	-0.512221	-0.505980	-0.505866	-0.505130	-0.501776	-0.508065	0.543757	0.242805	0.091615	-0.217856	-0.469924	0.073542	-0.192405	0.932400	0.409155
Marking	0.148785	0.174869	0.312900	0.146813	-0.045057	-0.016886	0.331647	-0.226097	0.180354	0.139766	0.368052	0.426389	-0.001426	0.568283	0.575509	0.080541	0.413190	0.324719	0.275050	0.272657	0.618166	0.442214	0.206947	0.140945	0.163162	0.125520	0.324729	0.156723	0.424875	0.081901	0.293405	0.577306	0.333569	0.182738	0.623180	0.733226	0.927447	0.183570	0.178949	0.112944	0.417122	0.969794	1.000000	0.932957	0.925064	-0.512152	-0.505663	-0.506598	-0.504701	-0.501385	-0.508128	0.565668	0.271322	0.112742	-0.204985	-0.421069	0.097140	-0.157962	0.908303	0.426541
Standing_Tackle	0.121167	0.119724	0.257336	0.139043	-0.048479	-0.031396	0.277388	-0.167485	0.149940	0.115008	0.334604	0.412062	-0.039937	0.542531	0.552838	0.042746	0.389239	0.301919	0.248929	0.253198	0.607313	0.413636	0.180518	0.125535	0.145965	0.101750	0.268821	0.147500	0.381419	0.038886	0.265375	0.558535	0.305217	0.150980	0.604244	0.731267	0.949208	0.152187	0.147078	0.075372	0.367286	0.988586	0.932957	1.000000	0.976306	-0.509882	-0.503619	-0.503319	-0.502947	-0.499831	-0.505570	0.536293	0.235211	0.085709	-0.221150	-0.464990	0.071307	-0.194006	0.920536	0.399026
Sliding_Tackle	0.104459	0.102146	0.229332	0.127331	-0.051026	-0.037966	0.247340	-0.145810	0.131708	0.099432	0.294073	0.389200	-0.082892	0.516834	0.516929	-0.000232	0.353083	0.270455	0.215627	0.218039	0.579886	0.376685	0.163980	0.116900	0.137121	0.084912	0.237798	0.138170	0.340885	0.000685	0.264328	0.531525	0.285006	0.107998	0.564842	0.708804	0.938344	0.112944	0.109561	0.035131	0.329792	0.985856	0.925064	0.976306	1.000000	-0.486602	-0.480963	-0.480035	-0.480085	-0.476638	-0.482705	0.500487	0.209804	0.072287	-0.214948	-0.496165	0.049097	-0.213352	0.916545	0.380319
Goalkeeping	-0.000841	0.110164	0.018165	-0.013827	0.349748	0.320305	-0.030598	-0.035673	-0.008868	0.004720	-0.776342	-0.662153	-0.591994	-0.727991	-0.734029	-0.587080	-0.725891	-0.770015	-0.607016	-0.543328	-0.587771	-0.798790	-0.583987	-0.583893	-0.592723	-0.516248	-0.043842	-0.506164	-0.584660	-0.315524	-0.151640	-0.674300	-0.083034	-0.609410	-0.737892	-0.565732	-0.462787	-0.686106	-0.354713	-0.611802	-0.410817	-0.512221	-0.512152	-0.509882	-0.486602	1.000000	0.987922	0.986685	0.983807	0.986673	0.988050	-0.647564	0.072157	0.020847	-0.016608	0.241397	0.157075	0.147533	-0.218175	0.045342
GK_Diving	-0.000936	0.105797	0.016905	-0.012558	0.344973	0.314598	-0.031324	-0.032886	-0.008623	0.004517	-0.768201	-0.654571	-0.585398	-0.720709	-0.727294	-0.580895	-0.718269	-0.761653	-0.600055	-0.537963	-0.582443	-0.790236	-0.577253	-0.577258	-0.585839	-0.508997	-0.044268	-0.501008	-0.580256	-0.313378	-0.151805	-0.668477	-0.084522	-0.603054	-0.730478	-0.559689	-0.457393	-0.679290	-0.352213	-0.606017	-0.408468	-0.505980	-0.505663	-0.503619	-0.480963	0.987922	1.000000	0.968629	0.964176	0.968336	0.971553	-0.641336	0.069921	0.021461	-0.014049	0.237216	0.151801	0.145997	-0.215187	0.040910
GK_Handling	-0.001257	0.108591	0.017043	-0.013706	0.345346	0.316085	-0.031224	-0.034208	-0.008459	0.004198	-0.766944	-0.652655	-0.585668	-0.719710	-0.724806	-0.580303	-0.716737	-0.760826	-0.598918	-0.536004	-0.580697	-0.788833	-0.577329	-0.576771	-0.585579	-0.510496	-0.043967	-0.500740	-0.579235	-0.315402	-0.150193	-0.666062	-0.082830	-0.603034	-0.728911	-0.559542	-0.456779	-0.677860	-0.350069	-0.604252	-0.405389	-0.505866	-0.506598	-0.503319	-0.480035	0.986685	0.968629	1.000000	0.963317	0.967610	0.968489	-0.640341	0.069114	0.020925	-0.017345	0.238632	0.153177	0.142837	-0.216529	0.043356
GK_Kicking	-0.001027	0.106717	0.013461	-0.017447	0.343070	0.314149	-0.034655	-0.033699	-0.009557	0.004031	-0.762539	-0.651751	-0.580840	-0.715786	-0.719788	-0.576174	-0.712149	-0.756715	-0.595889	-0.532137	-0.575114	-0.784204	-0.574963	-0.574301	-0.583909	-0.507202	-0.046904	-0.497273	-0.572082	-0.303392	-0.149516	-0.661305	-0.082063	-0.597572	-0.724275	-0.556418	-0.456263	-0.673399	-0.345090	-0.599326	-0.404793	-0.505130	-0.504701	-0.502947	-0.480085	0.983807	0.964176	0.963317	1.000000	0.963109	0.964301	-0.635539	0.070587	0.017817	-0.019842	0.238014	0.164402	0.142235	-0.215906	0.041087
GK_Positioning	-0.000795	0.117617	0.025037	-0.010891	0.345149	0.318487	-0.022887	-0.040929	-0.007857	0.004801	-0.763376	-0.651875	-0.582741	-0.714666	-0.721143	-0.577407	-0.714514	-0.757715	-0.598311	-0.535448	-0.577352	-0.786027	-0.574198	-0.575661	-0.583429	-0.509288	-0.037150	-0.497483	-0.572524	-0.310824	-0.145099	-0.662344	-0.076519	-0.599092	-0.724604	-0.554844	-0.453030	-0.675201	-0.348592	-0.601434	-0.398950	-0.501776	-0.501385	-0.499831	-0.476638	0.986673	0.968336	0.967610	0.963109	1.000000	0.968480	-0.634792	0.076829	0.023794	-0.016597	0.240006	0.155487	0.147430	-0.211059	0.055972
GK_Reflexes	-0.000177	0.104948	0.017066	-0.013777	0.346742	0.316798	-0.030962	-0.034307	-0.009255	0.005668	-0.768601	-0.655563	-0.585655	-0.720319	-0.727777	-0.581247	-0.719065	-0.761601	-0.601193	-0.538553	-0.583657	-0.791071	-0.577161	-0.576448	-0.585278	-0.510728	-0.044072	-0.500423	-0.579852	-0.313213	-0.151337	-0.668007	-0.083563	-0.603415	-0.731641	-0.560266	-0.459453	-0.678777	-0.353546	-0.606830	-0.408825	-0.508065	-0.508128	-0.505570	-0.482705	0.988050	0.971553	0.968489	0.964301	0.968480	1.000000	-0.642315	0.069589	0.018810	-0.014399	0.237106	0.150652	0.148996	-0.217581	0.042433
Total_Stats	0.345785	0.293096	0.614597	0.332780	-0.368153	-0.242249	0.642021	-0.399296	0.378819	0.319685	0.908715	0.854112	0.720849	0.625251	0.906844	0.757417	0.930669	0.866016	0.844721	0.785652	0.847709	0.901063	0.746015	0.606942	0.596398	0.670900	0.616868	0.584792	0.872680	0.709642	0.299804	0.777500	0.200509	0.830522	0.951508	0.665063	0.553355	0.822325	0.772977	0.719497	0.794003	0.543757	0.565668	0.536293	0.500487	-0.647564	-0.641336	-0.640341	-0.635539	-0.634792	-0.642315	1.000000	0.688364	0.273044	0.260755	0.319597	0.559118	0.493736	0.411110	0.314777
Base_Stats	0.475341	0.414165	0.834597	0.478625	-0.125962	0.001038	0.831485	-0.515268	0.492795	0.444298	0.444048	0.492262	0.377118	0.130659	0.490131	0.398514	0.512116	0.425815	0.494653	0.451535	0.537755	0.432236	0.465699	0.318302	0.311972	0.404777	0.750664	0.269694	0.591503	0.606341	0.231860	0.421651	0.218266	0.487866	0.531219	0.336905	0.293456	0.423615	0.647991	0.315421	0.629015	0.242805	0.271322	0.235211	0.209804	0.072157	0.069921	0.069114	0.070587	0.076829	0.069589	0.688364	1.000000	0.344186	0.434407	0.617988	0.853249	0.801080	0.341622	0.495573
Int_Reputation	0.453532	0.390108	0.452740	0.266511	0.038870	0.114424	0.430972	-0.272582	0.560802	0.423640	0.225297	0.181680	0.155380	0.154709	0.232748	0.237596	0.225834	0.148688	0.222823	0.224453	0.243377	0.196194	0.065486	-0.041606	-0.045242	0.047309	0.416435	0.029839	0.222824	0.281272	0.110014	0.025554	0.138817	0.202175	0.253190	0.177878	0.125326	0.161482	0.284140	0.221762	0.389950	0.091615	0.112742	0.085709	0.072287	0.020847	0.021461	0.020925	0.017817	0.023794	0.018810	0.273044	0.344186	1.000000	-0.049689	0.269634	0.360685	0.287248	0.141924	0.191332
PAC	0.200380	-0.180257	0.207884	0.271194	-0.386345	-0.345439	0.225003	0.024971	0.129843	0.187424	0.196224	0.313507	0.301404	-0.161948	0.105632	0.230195	0.229460	0.343645	0.266606	0.146541	0.037476	0.217754	0.709010	0.766264	0.768059	0.613654	0.126191	0.471134	0.161568	0.195944	0.059655	0.245393	-0.279486	0.233618	0.075137	-0.154628	-0.221410	0.318671	0.262623	0.150020	0.095495	-0.217856	-0.204985	-0.221150	-0.214948	-0.016608	-0.014049	-0.017345	-0.019842	-0.016597	-0.014399	0.260755	0.434407	-0.049689	1.000000	0.319882	0.255857	0.534794	-0.259192	-0.130437
SHO	0.280891	0.301057	0.473250	0.245338	-0.109484	-0.010719	0.462506	-0.318469	0.296512	0.260001	0.346648	0.215165	0.605721	-0.130874	0.151233	0.546335	0.323446	0.280949	0.408888	0.397978	0.128912	0.220243	0.242547	0.126189	0.093838	0.275463	0.432765	0.159167	0.371091	0.698690	-0.061286	-0.014321	-0.051303	0.558794	0.185102	-0.171041	-0.412955	0.439846	0.567467	0.456100	0.364865	-0.469924	-0.421069	-0.464990	-0.496165	0.241397	0.237216	0.238632	0.238014	0.240006	0.237106	0.319597	0.617988	0.269634	0.319882	1.000000	0.658749	0.767530	-0.408600	0.043355
PAS	0.400286	0.391473	0.696288	0.396775	-0.214846	-0.106892	0.685379	-0.432433	0.429887	0.375473	0.379213	0.507299	0.339754	-0.081514	0.466211	0.381422	0.516062	0.368267	0.528728	0.526574	0.569033	0.366477	0.323064	0.143221	0.092708	0.338494	0.621682	0.271328	0.372253	0.562059	-0.014931	0.189746	-0.041650	0.458963	0.415045	0.113097	0.126258	0.373416	0.733629	0.297829	0.545056	0.073542	0.097140	0.071307	0.049097	0.157075	0.151801	0.153177	0.164402	0.155487	0.150652	0.559118	0.853249	0.360685	0.255857	0.658749	1.000000	0.821183	0.157316	0.181546
DRI	0.393802	0.232496	0.637489	0.449761	-0.319088	-0.215283	0.634679	-0.308662	0.396307	0.365948	0.383193	0.446863	0.477985	-0.143602	0.348511	0.459499	0.485302	0.493719	0.506596	0.432258	0.346235	0.410071	0.508957	0.358530	0.299223	0.526460	0.562357	0.406117	0.343015	0.561444	-0.019018	0.165432	-0.176498	0.494284	0.311204	-0.050647	-0.147887	0.473336	0.669582	0.353584	0.476286	-0.192405	-0.157962	-0.194006	-0.213352	0.147533	0.145997	0.142837	0.142235	0.147430	0.148996	0.493736	0.801080	0.287248	0.534794	0.767530	0.821183	1.000000	-0.145838	0.030492
DEF	0.166010	0.236770	0.361185	0.167017	0.097019	0.115165	0.364859	-0.263461	0.202480	0.157891	0.131408	0.231852	-0.234320	0.408036	0.386417	-0.134842	0.194738	0.076228	0.075889	0.099812	0.490994	0.203983	0.022817	-0.043879	-0.018158	-0.056637	0.357055	-0.017607	0.278530	-0.033138	0.307992	0.416482	0.376825	-0.025665	0.450890	0.654235	0.927595	-0.053248	0.056124	-0.103376	0.323428	0.932400	0.908303	0.920536	0.916545	-0.218175	-0.215187	-0.216529	-0.215906	-0.211059	-0.217581	0.411110	0.341622	0.141924	-0.259192	-0.408600	0.157316	-0.145838	1.000000	0.526914
PHY	0.246789	0.441177	0.562986	0.176871	0.440872	0.533404	0.553720	-0.494857	0.279801	0.230160	0.121554	0.004643	-0.058319	0.425573	0.192190	-0.003100	0.045122	-0.030074	-0.017461	-0.010129	0.211860	0.087424	-0.097908	-0.155231	-0.071013	-0.184204	0.524487	-0.295857	0.526943	0.213952	0.476735	0.401719	0.853457	0.040221	0.326307	0.605105	0.451413	0.004297	0.056684	0.008720	0.375817	0.409155	0.426541	0.399026	0.380319	0.045342	0.040910	0.043356	0.041087	0.055972	0.042433	0.314777	0.495573	0.191332	-0.130437	0.043355	0.181546	0.030492	0.526914	1.000000
​
#Correlation With Value (most correlated)
pd.DataFrame(corr_mat["Value"]).sort_values("Value", ascending=False).head(10)
Value
Value	1.000000
Release_Clause	0.975712
Wage	0.793371
Best_Overall	0.577887
Overall	0.567847
Potential	0.538294
Reactions	0.507111
Base_Stats	0.475341
Int_Reputation	0.453532
PAS	0.400286
#Correlation With Value (least correlated)
pd.DataFrame(corr_mat["Value"]).sort_values("Value", ascending=True).head(10)
Value
Growth	-0.136062
GK_Handling	-0.001257
GK_Kicking	-0.001027
GK_Diving	-0.000936
Goalkeeping	-0.000841
GK_Positioning	-0.000795
GK_Reflexes	-0.000177
Height	0.004608
Weight	0.036773
Age	0.063538
Machine learning
# Slice data into faeture and target
​
Xb= players.drop(columns=["Value","Name","Team","Foot","Position"])
yb= players.loc[:,"Value"]
​
# fit model with target as player market value 
player_modelb = sm.OLS(yb, Xb, data=players)
​
resultsb = player_modelb.fit()
​
print(resultsb.summary())
                                 OLS Regression Results                                
=======================================================================================
Dep. Variable:                  Value   R-squared (uncentered):                   0.967
Model:                            OLS   Adj. R-squared (uncentered):              0.967
Method:                 Least Squares   F-statistic:                              9019.
Date:                Mon, 31 May 2021   Prob (F-statistic):                        0.00
Time:                        17:40:27   Log-Likelihood:                         -28550.
No. Observations:               15265   AIC:                                  5.720e+04
Df Residuals:                   15216   BIC:                                  5.757e+04
Df Model:                          49                                                  
Covariance Type:            nonrobust                                                  
====================================================================================
                       coef    std err          t      P>|t|      [0.025      0.975]
------------------------------------------------------------------------------------
Age                 -0.1078      0.006    -18.415      0.000      -0.119      -0.096
Overall              0.0490      0.009      5.182      0.000       0.030       0.068
Potential            0.0077      0.005      1.479      0.139      -0.003       0.018
Height              -0.0106      0.002     -5.662      0.000      -0.014      -0.007
Weight               0.0050      0.003      1.541      0.123      -0.001       0.011
Best_Overall         0.0035      0.014      0.238      0.812      -0.025       0.032
Growth              -0.0413      0.005     -7.665      0.000      -0.052      -0.031
Wage                37.2087      1.072     34.719      0.000      35.108      39.309
Release_Clause       0.4489      0.001    327.209      0.000       0.446       0.452
Attacking           -0.0002      0.001     -0.170      0.865      -0.003       0.002
Crossing            -0.0043      0.002     -1.988      0.047      -0.008   -5.94e-05
Finishing           -0.0001      0.004     -0.025      0.980      -0.009       0.008
Heading_Accuracy    -0.0012      0.002     -0.489      0.625      -0.006       0.004
Short_Passing       -0.0007      0.003     -0.199      0.842      -0.007       0.006
Volleys              0.0060      0.002      2.951      0.003       0.002       0.010
Skill               -0.0004      0.002     -0.276      0.782      -0.004       0.003
Dribbling            0.0052      0.005      1.067      0.286      -0.004       0.015
Curve                0.0018      0.002      0.786      0.432      -0.003       0.006
FK_Accuracy          0.0028      0.002      1.372      0.170      -0.001       0.007
Long_Passing        -0.0061      0.003     -2.266      0.023      -0.011      -0.001
Ball_Control        -0.0041      0.004     -1.121      0.262      -0.011       0.003
Movement             0.0011      0.002      0.703      0.482      -0.002       0.004
Acceleration        -0.0063      0.004     -1.493      0.135      -0.015       0.002
Sprint_Speed        -0.0005      0.005     -0.098      0.922      -0.010       0.009
Agility              0.0025      0.003      0.821      0.412      -0.003       0.008
Reactions            0.0040      0.003      1.196      0.232      -0.003       0.010
Balance              0.0015      0.003      0.554      0.580      -0.004       0.007
Power                0.0015      0.001      1.266      0.206      -0.001       0.004
Shot_Power          -0.0022      0.002     -0.915      0.360      -0.007       0.003
Jumping             -0.0044      0.002     -2.888      0.004      -0.007      -0.001
Stamina              0.0043      0.002      2.289      0.022       0.001       0.008
Strength             0.0049      0.003      1.791      0.073      -0.000       0.010
Long_Shots          -0.0010      0.003     -0.396      0.692      -0.006       0.004
Mentality            0.0003      0.001      0.428      0.669      -0.001       0.002
Aggression           0.0026      0.002      1.440      0.150      -0.001       0.006
Interceptions        0.0008      0.003      0.283      0.777      -0.005       0.006
Positioning          0.0022      0.002      1.016      0.309      -0.002       0.007
Vision               0.0001      0.002      0.056      0.956      -0.004       0.005
Penalties           -0.0054      0.002     -3.072      0.002      -0.009      -0.002
Composure            0.0051      0.002      2.262      0.024       0.001       0.010
Defending           -0.0017      0.002     -1.040      0.298      -0.005       0.002
Marking              0.0030      0.002      1.417      0.156      -0.001       0.007
Standing_Tackle     -0.0052      0.003     -1.559      0.119      -0.012       0.001
Sliding_Tackle       0.0004      0.003      0.141      0.888      -0.006       0.006
Goalkeeping         -0.0020      0.001     -2.485      0.013      -0.004      -0.000
GK_Diving           -0.0017      0.004     -0.434      0.664      -0.010       0.006
GK_Handling        5.09e-05      0.004      0.013      0.990      -0.008       0.008
GK_Kicking           0.0074      0.004      1.945      0.052   -5.65e-05       0.015
GK_Positioning      -0.0031      0.004     -0.783      0.433      -0.011       0.005
GK_Reflexes         -0.0047      0.004     -1.182      0.237      -0.012       0.003
Total_Stats         -0.0015      0.001     -2.556      0.011      -0.003      -0.000
Base_Stats           0.0048      0.002      2.186      0.029       0.000       0.009
Int_Reputation       0.5260      0.040     13.035      0.000       0.447       0.605
PAC                  0.0024      0.010      0.242      0.809      -0.017       0.022
SHO                  0.0024      0.010      0.227      0.820      -0.018       0.023
PAS                  0.0056      0.008      0.718      0.472      -0.010       0.021
DRI                 -0.0072      0.011     -0.667      0.505      -0.028       0.014
DEF                  0.0085      0.009      0.925      0.355      -0.009       0.026
PHY                 -0.0067      0.006     -1.099      0.272      -0.019       0.005
==============================================================================
Omnibus:                    21831.057   Durbin-Watson:                   1.269
Prob(Omnibus):                  0.000   Jarque-Bera (JB):         14654214.984
Skew:                           8.252   Prob(JB):                         0.00
Kurtosis:                     153.888   Cond. No.                     1.02e+16
==============================================================================

Notes:
[1] R² is computed without centering (uncentered) since the model does not contain a constant.
[2] Standard Errors assume that the covariance matrix of the errors is correctly specified.
[3] The smallest eigenvalue is 5.09e-22. This might indicate that there are
strong multicollinearity problems or that the design matrix is singular.
X=Xb
y=yb
#what coefficients our regression model has chosen
regressor = LinearRegression()
regressor.fit(X,y)
coeff_df = pd.DataFrame(regressor.coef_, X.columns, columns=['Coefficient']) 
coeff_df.sort_values("Coefficient",ascending=False).T
Total_Stats	Overall	Growth	Volleys	Short_Passing	Finishing	Heading_Accuracy	Crossing	Base_Stats	Wage	Int_Reputation	Release_Clause	Height	Weight	Best_Overall	Composure	Age	Dribbling	FK_Accuracy	Curve	Ball_Control	Long_Passing	PAS	DEF	SHO	PAC	DRI	PHY	Balance	Reactions	Agility	Sprint_Speed	Acceleration	Aggression	Positioning	Interceptions	Vision	Penalties	Stamina	Strength	Long_Shots	Shot_Power	Jumping	GK_Kicking	GK_Handling	GK_Diving	GK_Positioning	GK_Reflexes	Marking	Sliding_Tackle	Standing_Tackle	Defending	Potential	Goalkeeping	Power	Mentality	Movement	Skill	Attacking
Coefficient	8.162220e+09	6.019283e+09	6.019283e+09	1.301156e+09	1.301156e+09	1.301156e+09	1.301156e+09	1.301156e+09	8.498426e+08	36.689889	0.514422	0.448686	0.00548	0.004297	0.004007	0.003932	-0.09866	-2.498648e+08	-2.498648e+08	-2.498648e+08	-2.498648e+08	-2.498648e+08	-8.498426e+08	-8.498426e+08	-8.498426e+08	-8.498426e+08	-8.498426e+08	-8.498426e+08	-9.075107e+08	-9.075107e+08	-9.075107e+08	-9.075107e+08	-9.075107e+08	-9.994770e+08	-9.994770e+08	-9.994770e+08	-9.994770e+08	-9.994770e+08	-1.155480e+09	-1.155480e+09	-1.155480e+09	-1.155480e+09	-1.155480e+09	-1.405656e+09	-1.405656e+09	-1.405656e+09	-1.405656e+09	-1.405656e+09	-2.287709e+09	-2.287709e+09	-2.287709e+09	-5.874511e+09	-6.019283e+09	-6.756564e+09	-7.006739e+09	-7.162743e+09	-7.254709e+09	-7.912355e+09	-9.463375e+09
#Prediction on all data and calculate difference between tha actual value and predicted value
y_pred = regressor.predict(X)
df = pd.DataFrame({'Name':players.Name,'Actual': y, 'Predicted': y_pred})
df["Difference"] = df["Actual"]-df["Predicted"]
df_under = round(df.sort_values('Difference').set_index('Name').head(10),2)
df_over = round(df.sort_values('Difference').set_index('Name').tail(10),2)
df_under
Actual	Predicted	Difference
Name			
L. Messi	103.5	119.33	-15.83
Sergio Ramos	33.5	44.19	-10.69
O. Dembélé	57.5	67.12	-9.62
K. Benzema	83.5	92.57	-9.07
19 Malcom	31.0	39.22	-8.22
T. Courtois	88.0	96.22	-8.22
Piqué	32.5	40.19	-7.69
E. Hazard	66.5	74.07	-7.57
F. Valverde	58.0	65.46	-7.46
T. Kroos	87.5	94.87	-7.37
df_over
Actual	Predicted	Difference
Name			
M. Dembélé	25.5	3.97	21.53
N. Lang	23.5	1.91	21.59
M. Politano	28.0	5.83	22.17
L. Torreira	27.5	4.62	22.88
M. Perin	28.0	4.13	23.87
F. Chiesa	28.0	4.05	23.95
M. Kean	31.0	4.04	26.96
Pedro Porro	36.5	4.43	32.07
Morata	39.5	5.57	33.93
M. Ødegaard	58.5	7.94	50.56
#Plot the comparision of Actual and Predicted Values for Under Predicted
df_over[["Actual","Predicted"]].plot(kind='bar',figsize=(10,5))
plt.grid(which='major', linestyle='-', linewidth='0.5', color='green')
plt.grid(which='minor', linestyle=':', linewidth='0.5', color='black')
plt.title("Actual vs Predicted Values for Under Predicted")
plt.xlabel("Player Name")
plt.ylabel('Value')
plt.show()

#Plot the comparision of Actual and Predicted Values for Over Predicted
​
df_under[["Actual","Predicted"]].plot(kind='bar',figsize=(10,5))
plt.grid(which='major', linestyle='-', linewidth='0.5', color='green')
plt.grid(which='minor', linestyle=':', linewidth='0.5', color='black')
plt.title("Actual vs Predicted Values for Over Predicted")
plt.xlabel("Player Name")
plt.ylabel('Value')
plt.show()

#Calculating MAE, MSE, RMSE and R^2 values of our model
print('Mean Absolute Error:', metrics.mean_absolute_error(y, y_pred))  
print('Mean Squared Error:', metrics.mean_squared_error(y, y_pred))  
print('Root Mean Squared Error:', np.sqrt(metrics.mean_squared_error(y, y_pred)))
print('Linear Regression R^2:',regressor.score(X,y))
Mean Absolute Error: 0.6808665518416576
Mean Squared Error: 2.462396613141665
Root Mean Squared Error: 1.5692025405095624
Linear Regression R^2: 0.9609596337431809
#Plotting Residuals
plt.figure(figsize=(10,6),dpi=100),
plt.style.use('default')
plt.scatter(resultsb.predict(), resultsb.resid);
plt.title("Predicted Values and Residuals")
plt.ylabel("Residuals")
plt.xlabel("Predicted Values")
plt.show()

# Actual Values vs Predicted Values
plt.figure(figsize=(10,6),dpi=100),
plt.style.use('default')
plt.scatter(y, resultsb.predict(X))
plt.title ("Actual vs Predicted Value")
plt.ylabel("Predicted Value")
plt.xlabel("Actual Value")
plt.show()

#Model based on most selected columns
​
X1= players.loc[:,['Overall','Age','Int_Reputation','Growth','Release_Clause']]
y1= players.loc[:,"Value"]
​
player_model1 = sm.OLS(y1, X1, data=players)
​
results1 = player_model1.fit()
​
print(results1.summary());
                                 OLS Regression Results                                
=======================================================================================
Dep. Variable:                  Value   R-squared (uncentered):                   0.963
Model:                            OLS   Adj. R-squared (uncentered):              0.963
Method:                 Least Squares   F-statistic:                          8.047e+04
Date:                Mon, 31 May 2021   Prob (F-statistic):                        0.00
Time:                        17:40:29   Log-Likelihood:                         -29263.
No. Observations:               15265   AIC:                                  5.854e+04
Df Residuals:                   15260   BIC:                                  5.857e+04
Df Model:                           5                                                  
Covariance Type:            nonrobust                                                  
==================================================================================
                     coef    std err          t      P>|t|      [0.025      0.975]
----------------------------------------------------------------------------------
Overall            0.0561      0.002     30.592      0.000       0.052       0.060
Age               -0.1575      0.005    -33.962      0.000      -0.167      -0.148
Int_Reputation     1.0520      0.038     27.804      0.000       0.978       1.126
Growth            -0.0933      0.003    -30.713      0.000      -0.099      -0.087
Release_Clause     0.4819      0.001    440.179      0.000       0.480       0.484
==============================================================================
Omnibus:                    23066.503   Durbin-Watson:                   1.131
Prob(Omnibus):                  0.000   Jarque-Bera (JB):         18318081.913
Skew:                           9.188   Prob(JB):                         0.00
Kurtosis:                     171.708   Cond. No.                         206.
==============================================================================

Notes:
[1] R² is computed without centering (uncentered) since the model does not contain a constant.
[2] Standard Errors assume that the covariance matrix of the errors is correctly specified.
#Correlation matrics of selected features
players_selected_features= players[['Value','Overall','Age','Int_Reputation','Growth','Release_Clause']]
​
players_selected_features.corr()
Value	Overall	Age	Int_Reputation	Growth	Release_Clause
Value	1.000000	0.567847	0.063538	0.453532	-0.136062	0.975712
Overall	0.567847	1.000000	0.508411	0.452740	-0.590560	0.532194
Age	0.063538	0.508411	1.000000	0.390108	-0.855052	0.054648
Int_Reputation	0.453532	0.452740	0.390108	1.000000	-0.272582	0.423640
Growth	-0.136062	-0.590560	-0.855052	-0.272582	1.000000	-0.118766
Release_Clause	0.975712	0.532194	0.054648	0.423640	-0.118766	1.000000
#Heatmap of correlation values
plt.figure(1, figsize=(18, 7))
sns.set(style="whitegrid")
sns.heatmap(players_selected_features.corr(), cmap="seismic", annot=True, vmin=-1, vmax=1)
plt.yticks(rotation=0); 
plt.show()

#Pairplot of selected features
plt.figure(1, figsize=(18, 7))
sns.set(style="whitegrid")
g=sns.pairplot(players_selected_features, height=1.2, aspect=1.5)
plt.yticks(rotation=90); 
plt.show()
<Figure size 1800x700 with 0 Axes>

#Split data into train, test and validation (%60 - %20)
​
X_train, X_test, y_train, y_test = train_test_split(X1,y1,test_size=0.2, random_state=10)
​
X_train, X_val, y_train, y_val = train_test_split(X1,y1, test_size=.25, random_state=10)
​
lr = LinearRegression()
lr.fit(X_train,y_train)
pred = lr.predict(X_val)
mse = np.mean((pred-y_val)**2)
​
print(lr.score(X_test,y_test))
print(mse)
print(lr.coef_)
0.9546017321231222
2.9695479786798984
[ 0.0931678  -0.09896426  0.80967122 -0.02929413  0.47660271]
coeff = pd.DataFrame(X_train.columns)
​
coeff['CoefficientEstimate'] = lr.coef_
​
coeff.sort_values("CoefficientEstimate")
0	CoefficientEstimate
1	Age	-0.098964
3	Growth	-0.029294
0	Overall	0.093168
4	Release_Clause	0.476603
2	Int_Reputation	0.809671
#set up the 4 models we're choosing from:
​
lm = LinearRegression()
​
#Feature scaling for train, val, and test so that we can run our ridge model on each
scaler = StandardScaler()
​
X_train_scaled = scaler.fit_transform(X_train.values)
X_val_scaled = scaler.transform(X_val.values)
X_test_scaled = scaler.transform(X_test.values)
​
lm_reg = Ridge(alpha=0.05, normalize=True)
​
lm_lasso = Lasso(alpha=0.05, normalize=True)
​
#Feature transforms for train, val, and test so that we can run our poly model on each
poly = PolynomialFeatures(degree=2) 
​
X1_poly = poly.fit_transform(X.values)
X_train_poly = poly.fit_transform(X_train.values)
X_val_poly = poly.transform(X_val.values)
X_test_poly = poly.transform(X_test.values)
​
lm_poly = LinearRegression()
​
lm.fit(X_train, y_train)
print(f'Linear Regression for all data R^2: {lm.score(X1, y1):.3f}')
print(f'Linear Regression for test data R^2: {lm.score(X_test, y_test):.3f}')
print(f'Linear Regression for validation data R^2: {lm.score(X_val, y_val):.3f}')
print("")
​
lm_reg.fit(X_train_scaled, y_train)
print(f'Ridge Regression for test data R^2: {lm_reg.score(X_test_scaled, y_test):.3f}')
print(f'Ridge Regression for validation data R^2: {lm_reg.score(X_val_scaled, y_val):.3f}')
print("")
​
​
lm_lasso.fit(X_train,y_train)
print(f'Lasso Regression for test data R^2: {lm_lasso.score(X_test, y_test):.6f}')
print(f'Lasso Regression for validation data R^2: {lm_lasso.score(X_val, y_val):.6f}')
print("")
​
lm_poly.fit(X_train_poly, y_train)
print(f'Degree 2 polynomial regression for test data R^2: {lm_poly.score(X_test_poly, y_test):.3f}')
print(f'Degree 2 polynomial regression for validayion data R^2: {lm_poly.score(X_val_poly, y_val):.3f}')
Linear Regression for all data R^2: 0.958
Linear Regression for test data R^2: 0.955
Linear Regression for validation data R^2: 0.955

Ridge Regression for test data R^2: 0.951
Ridge Regression for validation data R^2: 0.952

Lasso Regression for test data R^2: 0.487370
Lasso Regression for validation data R^2: 0.487816

Degree 2 polynomial regression for test data R^2: 0.977
Degree 2 polynomial regression for validayion data R^2: 0.977
model= sm.OLS(y1, X1, data=players_selected_features)
​
results = model.fit()
​
print(results.summary())
                                 OLS Regression Results                                
=======================================================================================
Dep. Variable:                  Value   R-squared (uncentered):                   0.963
Model:                            OLS   Adj. R-squared (uncentered):              0.963
Method:                 Least Squares   F-statistic:                          8.047e+04
Date:                Mon, 31 May 2021   Prob (F-statistic):                        0.00
Time:                        17:40:44   Log-Likelihood:                         -29263.
No. Observations:               15265   AIC:                                  5.854e+04
Df Residuals:                   15260   BIC:                                  5.857e+04
Df Model:                           5                                                  
Covariance Type:            nonrobust                                                  
==================================================================================
                     coef    std err          t      P>|t|      [0.025      0.975]
----------------------------------------------------------------------------------
Overall            0.0561      0.002     30.592      0.000       0.052       0.060
Age               -0.1575      0.005    -33.962      0.000      -0.167      -0.148
Int_Reputation     1.0520      0.038     27.804      0.000       0.978       1.126
Growth            -0.0933      0.003    -30.713      0.000      -0.099      -0.087
Release_Clause     0.4819      0.001    440.179      0.000       0.480       0.484
==============================================================================
Omnibus:                    23066.503   Durbin-Watson:                   1.131
Prob(Omnibus):                  0.000   Jarque-Bera (JB):         18318081.913
Skew:                           9.188   Prob(JB):                         0.00
Kurtosis:                     171.708   Cond. No.                         206.
==============================================================================

Notes:
[1] R² is computed without centering (uncentered) since the model does not contain a constant.
[2] Standard Errors assume that the covariance matrix of the errors is correctly specified.
​
# Dummy Variables for Position
X2 = pd.concat([players.drop('Position', axis=1), pd.get_dummies(players['Position'])],axis=1)
​
X2 = X2.drop(columns=["Value","Name","Team","Foot"])
​
y2 = yb= players.loc[:,"Value"]
# fit model with target as player market value 
player_model2 = sm.OLS(y2, X2, data=players)
​
results2 = player_model2.fit()
​
print(results2.summary())
                            OLS Regression Results                            
==============================================================================
Dep. Variable:                  Value   R-squared:                       0.961
Model:                            OLS   Adj. R-squared:                  0.961
Method:                 Least Squares   F-statistic:                     5953.
Date:                Mon, 31 May 2021   Prob (F-statistic):               0.00
Time:                        17:40:44   Log-Likelihood:                -28521.
No. Observations:               15265   AIC:                         5.717e+04
Df Residuals:                   15201   BIC:                         5.766e+04
Df Model:                          63                                         
Covariance Type:            nonrobust                                         
====================================================================================
                       coef    std err          t      P>|t|      [0.025      0.975]
------------------------------------------------------------------------------------
Age                 -0.0967      0.006    -15.698      0.000      -0.109      -0.085
Overall              0.0542      0.010      5.457      0.000       0.035       0.074
Potential            0.0143      0.005      2.613      0.009       0.004       0.025
Height               0.0046      0.004      1.246      0.213      -0.003       0.012
Weight               0.0039      0.003      1.213      0.225      -0.002       0.010
Best_Overall        -0.0019      0.016     -0.125      0.901      -0.033       0.029
Growth              -0.0399      0.006     -7.064      0.000      -0.051      -0.029
Wage                36.6555      1.077     34.029      0.000      34.544      38.767
Release_Clause       0.4485      0.001    326.817      0.000       0.446       0.451
Attacking            0.0007      0.001      0.523      0.601      -0.002       0.003
Crossing            -0.0043      0.002     -1.894      0.058      -0.009       0.000
Finishing            0.0035      0.004      0.789      0.430      -0.005       0.012
Heading_Accuracy    -0.0017      0.003     -0.682      0.495      -0.007       0.003
Short_Passing       -0.0009      0.003     -0.249      0.803      -0.008       0.006
Volleys              0.0041      0.002      1.965      0.049    9.62e-06       0.008
Skill               -0.0011      0.002     -0.702      0.483      -0.004       0.002
Dribbling            0.0058      0.005      1.198      0.231      -0.004       0.015
Curve                0.0008      0.002      0.366      0.715      -0.004       0.005
FK_Accuracy          0.0026      0.002      1.239      0.215      -0.002       0.007
Long_Passing        -0.0066      0.003     -2.416      0.016      -0.012      -0.001
Ball_Control        -0.0037      0.004     -1.015      0.310      -0.011       0.003
Movement             0.0027      0.002      1.724      0.085      -0.000       0.006
Acceleration        -0.0034      0.004     -0.801      0.423      -0.012       0.005
Sprint_Speed         0.0015      0.005      0.290      0.772      -0.009       0.012
Agility              0.0006      0.003      0.211      0.833      -0.005       0.007
Reactions            0.0008      0.003      0.244      0.808      -0.006       0.007
Balance              0.0032      0.003      1.149      0.251      -0.002       0.009
Power                0.0006      0.001      0.471      0.638      -0.002       0.003
Shot_Power           0.0006      0.003      0.249      0.803      -0.004       0.006
Jumping             -0.0046      0.002     -3.016      0.003      -0.008      -0.002
Stamina              0.0029      0.002      1.470      0.142      -0.001       0.007
Strength             0.0007      0.003      0.255      0.799      -0.005       0.006
Long_Shots           0.0010      0.003      0.350      0.726      -0.004       0.006
Mentality            0.0003      0.001      0.348      0.728      -0.001       0.002
Aggression           0.0006      0.002      0.305      0.761      -0.003       0.004
Interceptions        0.0014      0.003      0.515      0.606      -0.004       0.007
Positioning          0.0031      0.002      1.380      0.168      -0.001       0.008
Vision           -3.094e-05      0.002     -0.014      0.989      -0.005       0.004
Penalties           -0.0048      0.002     -2.723      0.006      -0.008      -0.001
Composure            0.0037      0.002      1.593      0.111      -0.001       0.008
Defending           -0.0003      0.002     -0.205      0.837      -0.004       0.003
Marking              0.0040      0.002      1.858      0.063      -0.000       0.008
Standing_Tackle     -0.0042      0.003     -1.255      0.210      -0.011       0.002
Sliding_Tackle      -0.0001      0.003     -0.043      0.966      -0.006       0.006
Goalkeeping         -0.0031      0.001     -3.571      0.000      -0.005      -0.001
GK_Diving           -0.0016      0.004     -0.392      0.695      -0.009       0.006
GK_Handling          0.0003      0.004      0.084      0.933      -0.007       0.008
GK_Kicking           0.0069      0.004      1.795      0.073      -0.001       0.014
GK_Positioning      -0.0038      0.004     -0.979      0.328      -0.011       0.004
GK_Reflexes         -0.0049      0.004     -1.238      0.216      -0.013       0.003
Total_Stats         -0.0003      0.001     -0.451      0.652      -0.001       0.001
Base_Stats          -0.0005      0.003     -0.208      0.835      -0.006       0.004
Int_Reputation       0.5187      0.040     12.835      0.000       0.439       0.598
PAC                 -0.0002      0.010     -0.016      0.987      -0.019       0.019
SHO                 -0.0053      0.011     -0.502      0.616      -0.026       0.016
PAS                  0.0038      0.008      0.483      0.629      -0.012       0.019
DRI                 -0.0042      0.011     -0.391      0.696      -0.025       0.017
DEF                  0.0009      0.009      0.102      0.919      -0.017       0.019
PHY                  0.0045      0.007      0.650      0.516      -0.009       0.018
 CAM                -3.6744      0.736     -4.996      0.000      -5.116      -2.233
 CB                 -3.7094      0.742     -4.996      0.000      -5.165      -2.254
 CDM                -3.7781      0.736     -5.133      0.000      -5.221      -2.335
 CF                 -3.9579      0.766     -5.167      0.000      -5.459      -2.457
 CM                 -3.6892      0.736     -5.011      0.000      -5.132      -2.246
 GK                 -2.2566      0.803     -2.810      0.005      -3.830      -0.683
 LB                 -3.8165      0.737     -5.177      0.000      -5.261      -2.372
 LM                 -3.7860      0.737     -5.135      0.000      -5.231      -2.341
 LW                 -3.7791      0.745     -5.073      0.000      -5.239      -2.319
 LWB                -3.7633      0.741     -5.077      0.000      -5.216      -2.310
 RB                 -3.8406      0.738     -5.206      0.000      -5.287      -2.394
 RM                 -3.7935      0.735     -5.158      0.000      -5.235      -2.352
 RW                 -3.9268      0.741     -5.296      0.000      -5.380      -2.473
 RWB                -3.5401      0.743     -4.767      0.000      -4.996      -2.084
 ST                 -3.8342      0.737     -5.204      0.000      -5.278      -2.390
==============================================================================
Omnibus:                    21833.009   Durbin-Watson:                   1.271
Prob(Omnibus):                  0.000   Jarque-Bera (JB):         14648291.230
Skew:                           8.254   Prob(JB):                         0.00
Kurtosis:                     153.857   Cond. No.                     1.02e+16
==============================================================================

Notes:
[1] Standard Errors assume that the covariance matrix of the errors is correctly specified.
[2] The smallest eigenvalue is 5.09e-22. This might indicate that there are
strong multicollinearity problems or that the design matrix is singular.
# Dummy Variables for Team
​
X3 = pd.concat([players.drop('Team', axis=1), pd.get_dummies(players['Team'])],axis=1)
​
X3 = X3.drop(columns=["Value","Name","Position","Foot"])
​
y3 = yb= players.loc[:,"Value"]
# fit model with target as player market value 
player_model3 = sm.OLS(y3, X3, data=players)
​
results3 = player_model3.fit()
​
print(results3.summary())
                            OLS Regression Results                            
==============================================================================
Dep. Variable:                  Value   R-squared:                       0.968
Model:                            OLS   Adj. R-squared:                  0.966
Method:                 Least Squares   F-statistic:                     475.9
Date:                Mon, 31 May 2021   Prob (F-statistic):               0.00
Time:                        17:40:50   Log-Likelihood:                -27049.
No. Observations:               15265   AIC:                         5.592e+04
Df Residuals:                   14355   BIC:                         6.286e+04
Df Model:                         909                                         
Covariance Type:            nonrobust                                         
========================================================================================================
                                           coef    std err          t      P>|t|      [0.025      0.975]
--------------------------------------------------------------------------------------------------------
Age                                     -0.0973      0.006    -15.776      0.000      -0.109      -0.085
Overall                                  0.0625      0.009      6.624      0.000       0.044       0.081
Potential                                0.0305      0.005      5.735      0.000       0.020       0.041
Height                                   0.0005      0.004      0.133      0.894      -0.007       0.008
Weight                                   0.0004      0.003      0.114      0.909      -0.006       0.007
Best_Overall                            -0.0053      0.014     -0.374      0.708      -0.033       0.023
Growth                                  -0.0320      0.005     -5.877      0.000      -0.043      -0.021
Wage                                    54.2229      1.327     40.854      0.000      51.621      56.824
Release_Clause                           0.4414      0.001    314.750      0.000       0.439       0.444
Attacking                               -0.0004      0.001     -0.354      0.723      -0.003       0.002
Crossing                                -0.0044      0.002     -2.138      0.033      -0.009      -0.000
Finishing                                0.0020      0.004      0.484      0.629      -0.006       0.010
Heading_Accuracy                         0.0001      0.002      0.056      0.956      -0.005       0.005
Short_Passing                           -0.0020      0.003     -0.602      0.547      -0.009       0.005
Volleys                                  0.0039      0.002      1.937      0.053   -4.57e-05       0.008
Skill                                   -0.0005      0.002     -0.309      0.757      -0.003       0.003
Dribbling                                0.0056      0.005      1.193      0.233      -0.004       0.015
Curve                                    0.0019      0.002      0.869      0.385      -0.002       0.006
FK_Accuracy                              0.0024      0.002      1.190      0.234      -0.002       0.006
Long_Passing                            -0.0078      0.003     -2.974      0.003      -0.013      -0.003
Ball_Control                            -0.0025      0.004     -0.710      0.478      -0.009       0.004
Movement                                 0.0013      0.002      0.848      0.397      -0.002       0.004
Acceleration                            -0.0057      0.004     -1.386      0.166      -0.014       0.002
Sprint_Speed                            -0.0024      0.005     -0.489      0.625      -0.012       0.007
Agility                                  0.0012      0.003      0.406      0.684      -0.005       0.007
Reactions                                0.0042      0.003      1.301      0.193      -0.002       0.011
Balance                                  0.0039      0.003      1.452      0.146      -0.001       0.009
Power                                    0.0006      0.001      0.573      0.566      -0.002       0.003
Shot_Power                              -0.0032      0.002     -1.349      0.177      -0.008       0.001
Jumping                                 -0.0043      0.001     -2.908      0.004      -0.007      -0.001
Stamina                                  0.0011      0.002      0.636      0.525      -0.002       0.005
Strength                                 0.0061      0.003      2.310      0.021       0.001       0.011
Long_Shots                               0.0009      0.003      0.336      0.737      -0.004       0.006
Mentality                             1.634e-05      0.001      0.022      0.983      -0.001       0.001
Aggression                               0.0039      0.002      2.192      0.028       0.000       0.007
Interceptions                           -0.0002      0.003     -0.090      0.929      -0.005       0.005
Positioning                              0.0032      0.002      1.510      0.131      -0.001       0.007
Vision                                  -0.0029      0.002     -1.316      0.188      -0.007       0.001
Penalties                               -0.0040      0.002     -2.310      0.021      -0.007      -0.001
Composure                                0.0030      0.002      1.329      0.184      -0.001       0.007
Defending                               -0.0010      0.002     -0.641      0.522      -0.004       0.002
Marking                                  0.0026      0.002      1.241      0.215      -0.001       0.007
Standing_Tackle                         -0.0059      0.003     -1.833      0.067      -0.012       0.000
Sliding_Tackle                           0.0023      0.003      0.766      0.443      -0.004       0.008
Goalkeeping                             -0.0006      0.001     -0.759      0.448      -0.002       0.001
GK_Diving                                0.0013      0.004      0.331      0.741      -0.006       0.009
GK_Handling                              0.0023      0.004      0.603      0.547      -0.005       0.010
GK_Kicking                               0.0045      0.004      1.228      0.219      -0.003       0.012
GK_Positioning                          -0.0040      0.004     -1.073      0.283      -0.011       0.003
GK_Reflexes                             -0.0047      0.004     -1.225      0.221      -0.012       0.003
Total_Stats                             -0.0006      0.001     -1.030      0.303      -0.002       0.001
Base_Stats                               0.0017      0.002      0.777      0.437      -0.003       0.006
Int_Reputation                           0.2127      0.040      5.306      0.000       0.134       0.291
PAC                                      0.0035      0.009      0.375      0.708      -0.015       0.022
SHO                                     -0.0004      0.010     -0.039      0.969      -0.020       0.019
PAS                                      0.0146      0.007      1.950      0.051   -7.38e-05       0.029
DRI                                     -0.0116      0.010     -1.111      0.266      -0.032       0.009
DEF                                      0.0057      0.009      0.638      0.523      -0.012       0.023
PHY                                     -0.0102      0.006     -1.717      0.086      -0.022       0.001
1. FC Heidenheim 1846                   -3.7367      0.812     -4.602      0.000      -5.328      -2.145
1. FC Kaiserslautern                    -3.1784      0.801     -3.966      0.000      -4.749      -1.608
1. FC Köln                              -3.9481      0.807     -4.890      0.000      -5.531      -2.365
1. FC Magdeburg                         -3.1423      0.811     -3.875      0.000      -4.732      -1.553
1. FC Nürnberg                          -3.4893      0.819     -4.261      0.000      -5.094      -1.884
1. FC Saarbrücken                       -3.1795      0.833     -3.816      0.000      -4.813      -1.547
1. FC Union Berlin                      -4.0387      0.806     -5.009      0.000      -5.619      -2.458
1. FSV Mainz 05                         -3.9117      0.806     -4.853      0.000      -5.492      -2.332
113974                                  -3.1884      1.647     -1.936      0.053      -6.417       0.040
12 de Octubre FC                        -3.9838      1.653     -2.409      0.016      -7.225      -0.743
AC Ajaccio                              -3.4084      0.822     -4.148      0.000      -5.019      -1.798
AC Horsens                              -3.1359      0.861     -3.642      0.000      -4.824      -1.448
AC Mineros de Guayana                   -3.4610      0.959     -3.610      0.000      -5.340      -1.582
AC Monza                                -3.4140      0.814     -4.193      0.000      -5.010      -1.818
AD Alcorcón                             -3.1304      0.851     -3.678      0.000      -4.799      -1.462
ADO Den Haag                            -3.4273      0.802     -4.276      0.000      -4.999      -1.856
AEK Athens                              -4.0050      0.815     -4.915      0.000      -5.602      -2.408
AFC Eskilstuna                          -2.9404      1.051     -2.797      0.005      -5.001      -0.880
AFC Wimbledon                           -3.2663      0.827     -3.951      0.000      -4.887      -1.646
AIK                                     -3.1992      0.829     -3.858      0.000      -4.825      -1.574
AJ Auxerre                              -3.5583      0.820     -4.341      0.000      -5.165      -1.952
AS Monaco                               -4.6091      0.797     -5.786      0.000      -6.171      -3.048
AS Nancy Lorraine                       -3.3515      0.804     -4.168      0.000      -4.927      -1.775
AS Saint-Étienne                        -4.3521      0.795     -5.477      0.000      -5.910      -2.794
AZ Alkmaar                              -2.8292      0.808     -3.503      0.000      -4.413      -1.246
Aalborg BK                              -3.1627      0.846     -3.739      0.000      -4.821      -1.505
Aalesunds FK                            -3.1872      0.894     -3.564      0.000      -4.940      -1.434
Aarhus GF                               -3.2198      0.807     -3.988      0.000      -4.802      -1.637
Aberdeen                                -3.3602      0.825     -4.071      0.000      -4.978      -1.742
Abha Club                               -3.4943      0.998     -3.500      0.000      -5.451      -1.538
Academia Puerto Cabello                 -3.9555      0.981     -4.030      0.000      -5.879      -2.032
Academica Clinceni                      -3.1370      0.933     -3.362      0.001      -4.966      -1.308
Accrington Stanley                      -3.2636      0.813     -4.015      0.000      -4.857      -1.670
Adanaspor                               -2.9244      1.291     -2.265      0.024      -5.455      -0.394
Adelaide United                         -3.1458      0.803     -3.918      0.000      -4.720      -1.572
Ajax                                    -0.6844      0.801     -0.855      0.393      -2.254       0.885
Akhisar Belediyespor                    -3.5780      1.009     -3.548      0.000      -5.555      -1.601
Al Adalah                               -3.3441      1.278     -2.616      0.009      -5.850      -0.838
Al Ahli                                 -3.2192      0.818     -3.935      0.000      -4.823      -1.616
Al Ain                                  -3.3763      0.897     -3.763      0.000      -5.135      -1.617
Al Ain FC                               -3.7141      0.832     -4.463      0.000      -5.345      -2.083
Al Batin                                -3.3975      0.931     -3.649      0.000      -5.222      -1.573
Al Faisaly                              -3.4551      0.879     -3.929      0.000      -5.179      -1.731
Al Fateh                                -3.5431      0.854     -4.150      0.000      -5.217      -1.869
Al Fayha                                -2.2232      1.271     -1.749      0.080      -4.715       0.269
Al Hazem                                -3.3977      0.905     -3.753      0.000      -5.172      -1.623
Al Hilal                                -4.0457      0.813     -4.973      0.000      -5.640      -2.451
Al Ittihad                              -4.0353      0.835     -4.835      0.000      -5.671      -2.399
Al Khaleej                              -2.6992      1.273     -2.120      0.034      -5.195      -0.204
Al Nassr                                -4.0067      0.839     -4.774      0.000      -5.652      -2.362
Al Qadisiyah                            -3.2789      0.920     -3.562      0.000      -5.083      -1.475
Al Raed                                 -3.1576      0.969     -3.260      0.001      -5.056      -1.259
Al Shabab                               -2.9618      0.890     -3.328      0.001      -4.707      -1.217
Al Taawoun                              -3.3471      0.864     -3.875      0.000      -5.040      -1.654
Al Wehda                                -3.4264      0.860     -3.986      0.000      -5.111      -1.742
Alanyaspor                              -3.5832      0.822     -4.360      0.000      -5.194      -1.972
Albacete BP                             -3.2222      0.811     -3.972      0.000      -4.812      -1.632
Albirex Niigata                         -2.8858      1.275     -2.264      0.024      -5.384      -0.387
Alianza Lima                            -3.7725      1.007     -3.748      0.000      -5.746      -1.799
Alianza Petrolera                       -3.2593      1.647     -1.979      0.048      -6.488      -0.031
Always Ready                            -3.2473      0.907     -3.580      0.000      -5.025      -1.470
Amiens SC                               -3.2540      0.801     -4.061      0.000      -4.825      -1.683
Amkar Perm                              -3.7455      1.647     -2.274      0.023      -6.974      -0.517
América de Cali                         -3.2141      0.880     -3.652      0.000      -4.939      -1.489
Angers SCO                              -3.9051      0.806     -4.847      0.000      -5.484      -2.326
Antalyaspor                             -4.0235      0.809     -4.974      0.000      -5.609      -2.438
Aragua FC                               -3.4424      1.039     -3.312      0.001      -5.479      -1.405
Argentinos Juniors                      -3.3956      0.790     -4.296      0.000      -4.945      -1.846
Arka Gdynia                             -3.0559      0.967     -3.161      0.002      -4.951      -1.161
Arsenal                                 -3.7445      0.797     -4.697      0.000      -5.307      -2.182
Arsenal Tula                            -3.3828      0.965     -3.504      0.000      -5.275      -1.491
Arsenal de Sarandí                      -2.8931      0.818     -3.536      0.000      -4.497      -1.289
Ascoli                                  -2.9701      1.053     -2.819      0.005      -5.035      -0.905
Aston Villa                             -4.6784      0.819     -5.714      0.000      -6.283      -3.074
Astra Giurgiu                           -3.3039      0.862     -3.835      0.000      -4.993      -1.615
Atalanta                                -2.8300      0.807     -3.508      0.000      -4.411      -1.249
Athletic Club de Bilbao                 -4.8525      0.808     -6.002      0.000      -6.437      -3.268
Atiker Konyaspor                        -3.9140      0.819     -4.777      0.000      -5.520      -2.308
Atlanta United                          -3.2787      0.794     -4.129      0.000      -4.835      -1.722
Atlético Bucaramanga                    -2.9115      1.051     -2.771      0.006      -4.971      -0.852
Atlético Clube Goianiense               -4.2871      0.893     -4.798      0.000      -6.038      -2.536
Atlético Huila                          -3.2392      1.289     -2.512      0.012      -5.766      -0.712
Atlético Madrid                         -4.1535      0.795     -5.223      0.000      -5.712      -2.595
Atlético Mineiro                        -3.9850      0.837     -4.764      0.000      -5.625      -2.345
Atlético Nacional                       -3.0286      0.814     -3.721      0.000      -4.624      -1.433
Atlético Palmaflor                      -3.8504      1.265     -3.043      0.002      -6.330      -1.370
Atlético Tucumán                        -3.3510      0.814     -4.116      0.000      -4.947      -1.755
Atlético de San Luis                    -3.2114      0.820     -3.916      0.000      -4.819      -1.604
Audax Italiano                          -3.1071      1.039     -2.991      0.003      -5.144      -1.071
Avellino                                -3.3266      1.657     -2.008      0.045      -6.574      -0.079
BB Erzurumspor                          -3.6396      0.849     -4.289      0.000      -5.303      -1.976
BK Häcken                               -3.1247      0.885     -3.529      0.000      -4.860      -1.389
BSC Young Boys                          -3.5481      0.822     -4.318      0.000      -5.159      -1.937
Bahia                                   -4.1511      0.850     -4.882      0.000      -5.818      -2.485
Barcelona Sporting Club                 -3.7177      0.934     -3.981      0.000      -5.548      -1.887
Barnet                                  -3.1004      1.653     -1.876      0.061      -6.340       0.139
Barnsley                                -3.7989      0.801     -4.741      0.000      -5.369      -2.228
Barrow                                  -3.0366      0.819     -3.708      0.000      -4.642      -1.431
Bayer 04 Leverkusen                     -3.6327      0.799     -4.546      0.000      -5.199      -2.066
Bayern München II                       -3.4392      0.811     -4.241      0.000      -5.029      -1.850
Beerschot AC                            -3.3705      0.836     -4.031      0.000      -5.010      -1.731
Beijing Sinobo Guoan FC                 -2.5306      0.821     -3.082      0.002      -4.140      -0.921
Belgrano de Córdoba                     -3.9123      1.636     -2.391      0.017      -7.120      -0.705
Benevento                               -3.2972      0.807     -4.087      0.000      -4.878      -1.716
Beşiktaş JK                             -4.3296      0.802     -5.398      0.000      -5.902      -2.758
Birmingham City                         -3.7483      0.798     -4.699      0.000      -5.312      -2.185
Blackburn Rovers                        -4.2479      0.821     -5.176      0.000      -5.857      -2.639
Blackpool                               -3.3239      0.793     -4.192      0.000      -4.878      -1.770
Boavista FC                             -3.5005      0.805     -4.350      0.000      -5.078      -1.923
Boca Juniors                            -2.7113      0.808     -3.357      0.001      -4.294      -1.128
Bohemian FC                             -3.0651      0.852     -3.596      0.000      -4.736      -1.394
Bologna                                 -3.8000      0.808     -4.706      0.000      -5.383      -2.217
Bolton Wanderers                        -3.1688      0.786     -4.031      0.000      -4.710      -1.628
Borussia Dortmund                       -2.9851      0.811     -3.682      0.000      -4.574      -1.396
Borussia Mönchengladbach                -3.1039      0.800     -3.880      0.000      -4.672      -1.536
Botafogo                                -3.9720      0.879     -4.518      0.000      -5.695      -2.249
Bournemouth                             -3.9176      0.809     -4.840      0.000      -5.504      -2.331
Bradford City                           -3.2161      0.806     -3.991      0.000      -4.796      -1.636
Bray Wanderers                          -2.7919      0.961     -2.904      0.004      -4.676      -0.907
Brentford                               -4.4666      0.801     -5.578      0.000      -6.036      -2.897
Brescia                                 -3.3227      0.803     -4.136      0.000      -4.897      -1.748
Brighton &amp; Hove Albion              -5.0708      0.798     -6.355      0.000      -6.635      -3.507
Brisbane Roar                           -3.0407      0.846     -3.596      0.000      -4.698      -1.383
Bristol City                            -4.4290      0.802     -5.524      0.000      -6.000      -2.858
Bristol Rovers                          -3.3039      0.821     -4.023      0.000      -4.914      -1.694
Brøndby IF                              -3.5476      0.817     -4.340      0.000      -5.150      -1.946
Burnley                                 -4.5910      0.806     -5.699      0.000      -6.170      -3.012
Bursaspor                               -4.3982      1.060     -4.148      0.000      -6.477      -2.320
Burton Albion                           -3.0524      0.808     -3.778      0.000      -4.636      -1.469
Bury                                    -2.6186      1.138     -2.300      0.021      -4.850      -0.387
Busan IPark                             -3.0086      0.894     -3.365      0.001      -4.761      -1.256
C.D. Castellón                          -3.1961      0.841     -3.801      0.000      -4.844      -1.548
CA Osasuna                              -3.8478      0.803     -4.791      0.000      -5.422      -2.273
CD Antofagasta                          -3.9549      0.860     -4.600      0.000      -5.640      -2.270
CD Aves                                 -3.8976      0.937     -4.160      0.000      -5.734      -2.061
CD Cobresal                             -3.7983      0.929     -4.089      0.000      -5.619      -1.977
CD Everton de Viña del Mar              -3.3057      0.990     -3.339      0.001      -5.246      -1.365
CD Huachipato                           -3.4096      0.876     -3.891      0.000      -5.127      -1.692
CD Leganés                              -3.2929      0.801     -4.112      0.000      -4.862      -1.723
CD Lugo                                 -3.0227      0.816     -3.706      0.000      -4.621      -1.424
CD Mirandés                             -2.7483      0.807     -3.406      0.001      -4.330      -1.167
CD Nacional                             -3.5707      0.831     -4.299      0.000      -5.199      -1.943
CD Numancia                             -3.5872      0.941     -3.812      0.000      -5.432      -1.743
CD O'Higgins                            -3.7200      0.999     -3.723      0.000      -5.678      -1.762
CD Palestino                            -3.7222      0.820     -4.539      0.000      -5.330      -2.115
CD Tenerife                             -3.3634      0.804     -4.182      0.000      -4.940      -1.787
CD Tondela                              -3.7494      0.833     -4.501      0.000      -5.382      -2.117
CD Universidad de Concepción            -2.8033      0.930     -3.013      0.003      -4.627      -0.980
CE Sabadell FC                          -2.8350      0.847     -3.347      0.001      -4.495      -1.175
CF Fuenlabrada                          -3.2794      0.819     -4.003      0.000      -4.885      -1.674
CF Reus Deportiu                        -3.6594      1.277     -2.865      0.004      -6.163      -1.156
CFR Cluj                                -3.4163      0.837     -4.080      0.000      -5.058      -1.775
Cagliari                                -2.7704      0.797     -3.475      0.001      -4.333      -1.208
Cambridge United                        -3.1147      0.807     -3.860      0.000      -4.696      -1.533
Caracas FC                              -3.9561      1.130     -3.501      0.000      -6.171      -1.741
Cardiff City                            -3.7722      0.795     -4.743      0.000      -5.331      -2.213
Carlisle United                         -3.2150      0.813     -3.953      0.000      -4.809      -1.621
Carlos A. Mannucci                      -3.7673      0.844     -4.462      0.000      -5.422      -2.112
Carpi                                   -3.1089      1.056     -2.943      0.003      -5.180      -1.038
Castellammare di Stabia                 -3.3238      1.057     -3.145      0.002      -5.395      -1.252
Ceará Sporting Club                     -4.0474      0.838     -4.828      0.000      -5.691      -2.404
Celtic                                  -4.5053      0.812     -5.545      0.000      -6.098      -2.913
Central Coast Mariners                  -2.9906      0.832     -3.594      0.000      -4.621      -1.360
Central Córdoba                         -3.1130      0.862     -3.613      0.000      -4.802      -1.424
Centro Atlético Fénix                   -3.5290      0.928     -3.805      0.000      -5.347      -1.711
Cerezo Osaka                            -3.2555      0.811     -4.016      0.000      -4.845      -1.666
Cerro Largo                             -3.5231      1.044     -3.374      0.001      -5.570      -1.476
Cerro Porteño                           -4.1272      0.869     -4.752      0.000      -5.830      -2.425
Chamois Niortais Football Club          -3.4577      0.799     -4.327      0.000      -5.024      -1.892
Changchun Yatai FC                      -4.6847      1.654     -2.832      0.005      -7.927      -1.443
Chapecoense                             -4.1878      1.652     -2.534      0.011      -7.427      -0.949
Charlton Athletic                       -3.2861      0.801     -4.104      0.000      -4.856      -1.717
Chelsea                                 -5.3815      0.806     -6.677      0.000      -6.961      -3.802
Cheltenham Town                         -3.2360      0.831     -3.892      0.000      -4.866      -1.606
Chemnitzer FC                           -3.1615      1.294     -2.442      0.015      -5.699      -0.624
Chesterfield                            -3.3701      0.967     -3.484      0.000      -5.266      -1.474
Chicago Fire                            -3.2446      0.829     -3.912      0.000      -4.870      -1.619
Chievo Verona                           -3.5253      0.810     -4.350      0.000      -5.114      -1.937
Chindia Târgovişte                      -2.9784      0.899     -3.314      0.001      -4.740      -1.217
Chongqing Dangdai Lifan FC SWM Team     -2.7081      0.866     -3.127      0.002      -4.406      -1.010
Cittadella                              -3.4348      0.963     -3.568      0.000      -5.322      -1.548
Clermont Foot 63                        -3.4496      0.825     -4.181      0.000      -5.067      -1.832
Club América                            -4.1247      0.789     -5.227      0.000      -5.672      -2.578
Club Athletico Paranaense               -4.2742      0.860     -4.972      0.000      -5.959      -2.589
Club Atlas                              -3.5071      0.811     -4.325      0.000      -5.097      -1.917
Club Atlético Aldosivi                  -3.3090      0.803     -4.120      0.000      -4.883      -1.735
Club Atlético Banfield                  -3.5320      0.795     -4.443      0.000      -5.090      -1.974
Club Atlético Colón                     -3.4225      0.821     -4.170      0.000      -5.031      -1.814
Club Atlético Grau                      -3.0698      1.118     -2.746      0.006      -5.261      -0.879
Club Atlético Huracán                   -3.3311      0.816     -4.082      0.000      -4.931      -1.731
Club Atlético Lanús                     -3.6302      0.801     -4.531      0.000      -5.201      -2.060
Club Atlético Talleres                  -3.3101      0.804     -4.117      0.000      -4.886      -1.734
Club Atlético Tigre                     -3.5510      0.927     -3.832      0.000      -5.367      -1.735
Club Bolívar                            -3.7013      0.813     -4.550      0.000      -5.296      -2.107
Club Brugge KV                          -2.4579      0.812     -3.026      0.002      -4.050      -0.866
Club Deportes Temuco                    -2.9518      1.286     -2.296      0.022      -5.472      -0.432
Club Guaraní                            -4.0907      0.964     -4.245      0.000      -5.979      -2.202
Club León                               -3.6011      0.791     -4.550      0.000      -5.152      -2.050
Club Libertad                           -3.8690      0.875     -4.421      0.000      -5.584      -2.154
Club Necaxa                             -3.2925      0.802     -4.105      0.000      -4.865      -1.720
Club Olimpo                             -2.4862      1.650     -1.507      0.132      -5.721       0.748
Club Plaza Colonia                      -3.6820      1.123     -3.280      0.001      -5.883      -1.481
Club Tijuana                            -3.7945      0.812     -4.671      0.000      -5.387      -2.202
Clube Sport Marítimo                    -3.9246      0.819     -4.792      0.000      -5.530      -2.319
Colchester United                       -3.3721      0.799     -4.221      0.000      -4.938      -1.806
Colo-Colo                               -3.2031      0.806     -3.974      0.000      -4.783      -1.623
Colorado Rapids                         -3.3476      0.809     -4.138      0.000      -4.933      -1.762
Columbus Crew SC                        -3.1990      0.793     -4.032      0.000      -4.754      -1.644
Coquimbo Unido                          -3.1073      0.961     -3.234      0.001      -4.991      -1.224
Corinthians                             -5.2624      0.932     -5.645      0.000      -7.090      -3.435
Coritiba                                -4.3694      0.929     -4.702      0.000      -6.191      -2.548
Cork City                               -2.8231      0.812     -3.478      0.001      -4.414      -1.232
Cosenza                                 -3.3157      1.005     -3.301      0.001      -5.285      -1.347
Coventry City                           -3.6293      0.799     -4.545      0.000      -5.195      -2.064
Cracovia                                -3.2871      0.822     -3.998      0.000      -4.899      -1.676
Crawley Town                            -2.9775      0.829     -3.593      0.000      -4.602      -1.353
Crewe Alexandra                         -3.2195      0.832     -3.868      0.000      -4.851      -1.588
Crotone                                 -3.0505      0.804     -3.795      0.000      -4.626      -1.475
Cruz Azul                               -4.4402      0.798     -5.564      0.000      -6.004      -2.876
Crystal Palace                          -4.5328      0.800     -5.667      0.000      -6.101      -2.965
Curicó Unido                            -3.1607      1.127     -2.805      0.005      -5.369      -0.952
Cusco FC                                -3.5108      1.265     -2.775      0.006      -5.991      -1.031
Cádiz CF                                -4.0929      0.804     -5.092      0.000      -5.669      -2.517
Córdoba CF                              -3.1450      0.997     -3.154      0.002      -5.099      -1.191
Cúcuta Deportivo                        -3.2723      1.048     -3.123      0.002      -5.326      -1.219
DC United                               -3.3118      0.798     -4.149      0.000      -4.876      -1.747
DSC Arminia Bielefeld                   -3.2302      0.812     -3.977      0.000      -4.822      -1.638
Daegu FC                                -2.9497      0.879     -3.357      0.001      -4.672      -1.227
Dalian YiFang FC                        -2.9295      0.859     -3.409      0.001      -4.614      -1.245
Damac FC                                -3.4415      0.913     -3.768      0.000      -5.232      -1.651
De Graafschap                           -3.4780      1.131     -3.075      0.002      -5.695      -1.261
Defensa y Justicia                      -3.2428      0.827     -3.923      0.000      -4.863      -1.623
Delfín SC                               -3.3688      1.295     -2.602      0.009      -5.906      -0.831
Denizlispor                             -3.8085      0.839     -4.538      0.000      -5.453      -2.163
Deportes Iquique                        -3.0951      0.884     -3.502      0.000      -4.827      -1.363
Deportes Tolima                         -4.1739      0.901     -4.635      0.000      -5.939      -2.409
Deportivo Alavés                        -3.9108      0.809     -4.832      0.000      -5.497      -2.324
Deportivo Binacional                    -2.8408      1.134     -2.506      0.012      -5.063      -0.619
Deportivo Cali                          -3.1807      0.838     -3.797      0.000      -4.823      -1.539
Deportivo La Guaira                     -3.9068      0.891     -4.385      0.000      -5.653      -2.160
Deportivo Pasto                         -3.0848      0.885     -3.485      0.000      -4.820      -1.350
Deportivo Toluca                        -3.5326      0.795     -4.446      0.000      -5.090      -1.975
Deportivo Táchira                       -4.2377      1.132     -3.744      0.000      -6.456      -2.019
Deportivo de La Coruña                  -3.5501      0.934     -3.803      0.000      -5.380      -1.720
Derby County                            -3.8548      0.796     -4.844      0.000      -5.415      -2.295
Derry City                              -2.8452      0.839     -3.390      0.001      -4.490      -1.200
Dijon FCO                               -3.8075      0.809     -4.708      0.000      -5.393      -2.222
Dinamo Bucureşti                        -3.1807      0.845     -3.766      0.000      -4.836      -1.525
Dinamo Moscow                           -4.0611      1.291     -3.145      0.002      -6.592      -1.530
Dinamo Zagreb                           -4.2757      0.818     -5.229      0.000      -5.879      -2.673
Djurgårdens IF                          -3.1636      0.819     -3.862      0.000      -4.769      -1.558
Doncaster Rovers                        -3.3487      0.814     -4.113      0.000      -4.945      -1.753
Dundalk                                 -3.1253      0.842     -3.713      0.000      -4.775      -1.475
Dundee FC                               -3.5093      1.279     -2.743      0.006      -6.017      -1.002
Dundee United                           -3.3559      0.845     -3.973      0.000      -5.012      -1.700
Dynamo Kyiv                             -4.5711      0.810     -5.641      0.000      -6.159      -2.983
ESTAC Troyes                            -3.3502      0.811     -4.129      0.000      -4.940      -1.760
Eintracht Braunschweig                  -3.3428      0.818     -4.085      0.000      -4.947      -1.739
Eintracht Frankfurt                     -2.9828      0.807     -3.696      0.000      -4.565      -1.401
El Nacional                             -3.4411      1.128     -3.049      0.002      -5.653      -1.229
Elche CF                                -3.6640      0.797     -4.600      0.000      -5.225      -2.103
Emelec                                  -3.5569      0.894     -3.979      0.000      -5.309      -1.805
Empoli                                  -3.5157      0.823     -4.274      0.000      -5.128      -1.903
En Avant de Guingamp                    -3.6825      0.816     -4.513      0.000      -5.282      -2.083
Envigado FC                             -3.3211      0.961     -3.457      0.001      -5.204      -1.438
Esbjerg fB                              -3.1654      1.132     -2.796      0.005      -5.384      -0.946
Estoril Praia                           -3.4682      1.057     -3.281      0.001      -5.540      -1.396
Estudiantes de La Plata                 -3.4498      0.805     -4.286      0.000      -5.027      -1.872
Estudiantes de Mérida                   -4.1961      1.646     -2.549      0.011      -7.423      -0.969
Ettifaq FC                              -3.5030      0.834     -4.199      0.000      -5.138      -1.868
Everton                                 -5.2602      0.797     -6.603      0.000      -6.822      -3.699
Excelsior                               -3.5795      1.051     -3.406      0.001      -5.640      -1.519
Exeter City                             -3.2405      0.813     -3.987      0.000      -4.834      -1.647
Extremadura UD                          -3.2398      1.055     -3.071      0.002      -5.307      -1.172
FC Admira Wacker Mödling                -3.4014      0.860     -3.955      0.000      -5.087      -1.715
FC Anzhi Makhachkala                    -3.6548      1.132     -3.228      0.001      -5.874      -1.435
FC Argeș                                -2.9198      1.144     -2.552      0.011      -5.162      -0.677
FC Arouca                               -2.8330      1.279     -2.215      0.027      -5.340      -0.327
FC Augsburg                             -4.0977      0.803     -5.105      0.000      -5.671      -2.524
FC Barcelona                           -10.0430      0.800    -12.557      0.000     -11.611      -8.475
FC Barcelona B                          -4.6900      1.654     -2.835      0.005      -7.932      -1.448
FC Basel 1893                           -3.0843      0.816     -3.779      0.000      -4.684      -1.484
FC Bayern München                        1.1875      0.815      1.457      0.145      -0.410       2.785
FC Botoşani                             -3.2209      0.853     -3.776      0.000      -4.893      -1.549
FC Carl Zeiss Jena                      -3.1986      1.293     -2.474      0.013      -5.732      -0.665
FC Cartagena                            -3.2089      0.801     -4.006      0.000      -4.779      -1.639
FC Chambly Oise                         -3.1311      0.804     -3.894      0.000      -4.707      -1.555
FC Cincinnati                           -3.3240      0.811     -4.097      0.000      -4.914      -1.734
FC Dallas                               -3.4146      0.818     -4.173      0.000      -5.019      -1.811
FC Emmen                                -3.3148      0.814     -4.070      0.000      -4.911      -1.718
FC Erzgebirge Aue                       -3.2977      0.827     -3.990      0.000      -4.918      -1.678
FC Girondins de Bordeaux                -4.7981      0.801     -5.992      0.000      -6.368      -3.229
FC Groningen                            -3.4443      0.812     -4.241      0.000      -5.036      -1.852
FC Hansa Rostock                        -3.1550      0.843     -3.742      0.000      -4.807      -1.503
FC Helsingør                            -2.8967      1.656     -1.749      0.080      -6.143       0.350
FC Hermannstadt                         -2.9996      1.054     -2.847      0.004      -5.065      -0.934
FC Ingolstadt 04                        -3.4517      0.805     -4.286      0.000      -5.030      -1.873
FC Juárez                               -3.0222      0.802     -3.767      0.000      -4.595      -1.450
FC Krasnodar                            -2.8545      0.917     -3.112      0.002      -4.653      -1.056
FC København                            -3.3342      0.812     -4.104      0.000      -4.927      -1.742
FC Lausanne-Sport                       -3.3076      0.827     -3.998      0.000      -4.929      -1.686
FC Lorient                              -3.9206      0.804     -4.875      0.000      -5.497      -2.344
FC Lugano                               -3.1983      0.842     -3.799      0.000      -4.849      -1.548
FC Luzern                               -3.1704      0.834     -3.803      0.000      -4.804      -1.537
FC Metz                                 -4.1037      0.799     -5.138      0.000      -5.669      -2.538
FC Midtjylland                          -3.5322      0.821     -4.300      0.000      -5.142      -1.922
FC Nantes                               -4.3159      0.793     -5.446      0.000      -5.869      -2.762
FC Nordsjælland                         -3.4216      0.830     -4.122      0.000      -5.049      -1.795
FC Orenburg                             -3.6624      1.658     -2.209      0.027      -6.913      -0.412
FC Paços de Ferreira                    -3.2056      0.831     -3.856      0.000      -4.835      -1.576
FC Porto                                -3.2486      0.810     -4.010      0.000      -4.837      -1.661
FC Pro Vercelli 1892                    -3.1352      1.661     -1.888      0.059      -6.390       0.120
FC Red Bull Salzburg                    -3.7966      0.819     -4.634      0.000      -5.403      -2.191
FC Rostov                               -4.1187      1.002     -4.112      0.000      -6.082      -2.155
FC Rot-Weiß Erfurt                      -3.3808      1.662     -2.034      0.042      -6.638      -0.123
FC Schalke 04                           -3.6744      0.800     -4.595      0.000      -5.242      -2.107
FC Seoul                                -3.0701      0.815     -3.768      0.000      -4.667      -1.473
FC Sion                                 -3.6503      0.804     -4.541      0.000      -5.226      -2.075
FC Sochaux-Montbéliard                  -3.3899      0.812     -4.175      0.000      -4.981      -1.799
FC St. Gallen                           -3.2960      0.872     -3.779      0.000      -5.006      -1.586
FC St. Pauli                            -3.4230      0.820     -4.175      0.000      -5.030      -1.816
FC Thun                                 -3.4767      1.000     -3.476      0.001      -5.437      -1.516
FC Tokyo                                -3.2540      0.825     -3.944      0.000      -4.871      -1.637
FC Tosno                                -3.6199      1.003     -3.608      0.000      -5.586      -1.653
FC Twente                               -3.1810      0.819     -3.882      0.000      -4.787      -1.575
FC Ufa                                  -3.2913      1.285     -2.561      0.010      -5.810      -0.772
FC Ural Yekaterinburg                   -3.7041      0.922     -4.016      0.000      -5.512      -1.896
FC Utrecht                              -3.5994      0.802     -4.487      0.000      -5.172      -2.027
FC Vaduz                                -3.2676      0.949     -3.442      0.001      -5.129      -1.407
FC Viitorul                             -3.3430      0.826     -4.047      0.000      -4.962      -1.724
FC Voluntari                            -3.1644      0.901     -3.514      0.000      -4.930      -1.399
FC Würzburger Kickers                   -3.2861      1.011     -3.249      0.001      -5.269      -1.304
FC Zürich                               -3.4460      0.834     -4.133      0.000      -5.080      -1.812
FCSB (Steaua)                           -3.5635      0.832     -4.282      0.000      -5.195      -1.932
FK Austria Wien                         -3.5366      0.823     -4.296      0.000      -5.150      -1.923
FK Bodø/Glimt                           -3.2199      0.829     -3.885      0.000      -4.845      -1.595
FK Haugesund                            -3.1853      0.919     -3.465      0.001      -4.987      -1.383
FSV Zwickau                             -3.0968      0.890     -3.480      0.001      -4.841      -1.352
Falkenbergs FF                          -3.2562      0.936     -3.480      0.001      -5.090      -1.422
Famalicão                               -3.6865      0.805     -4.577      0.000      -5.265      -2.108
Farense                                 -3.4869      0.839     -4.157      0.000      -5.131      -1.843
Fatih Karagümrük S.K.                   -3.9187      0.815     -4.806      0.000      -5.517      -2.320
Fenerbahçe SK                           -5.3323      0.802     -6.652      0.000      -6.904      -3.761
Feyenoord                               -2.5547      0.805     -3.174      0.002      -4.133      -0.977
Finn Harps                              -2.8000      0.852     -3.287      0.001      -4.470      -1.130
Fiorentina                              -4.1333      0.811     -5.098      0.000      -5.722      -2.544
Flamengo                                -3.9066      0.844     -4.630      0.000      -5.560      -2.253
Fleetwood Town                          -3.2276      0.844     -3.823      0.000      -4.883      -1.573
Fluminense                              -4.1595      0.846     -4.919      0.000      -5.817      -2.502
Foggia                                  -3.2473      1.134     -2.863      0.004      -5.471      -1.024
Football Bourg En Bresse Peronnas 01    -3.4759      1.653     -2.103      0.035      -6.716      -0.236
Forest Green Rovers                     -3.3324      0.816     -4.085      0.000      -4.931      -1.733
Fortaleza                               -4.4173      0.902     -4.897      0.000      -6.185      -2.649
Fortuna Düsseldorf                      -3.7083      0.806     -4.599      0.000      -5.289      -2.128
Fortuna Sittard                         -3.3283      0.827     -4.024      0.000      -4.949      -1.707
Frosinone                               -3.4095      0.905     -3.769      0.000      -5.183      -1.636
Fulham                                  -3.9496      0.798     -4.949      0.000      -5.514      -2.385
GD Chaves                               -3.8094      0.995     -3.830      0.000      -5.759      -1.860
GFC Ajaccio                             -3.2818      1.000     -3.283      0.001      -5.241      -1.322
GIF Sundsvall                           -3.1509      1.650     -1.910      0.056      -6.385       0.083
Galatasaray SK                          -4.5803      0.799     -5.729      0.000      -6.147      -3.013
Galway United                           -2.5591      1.639     -1.562      0.118      -5.771       0.653
Gamba Osaka                             -3.3571      0.809     -4.151      0.000      -4.942      -1.772
Gangwon FC                              -3.1944      0.850     -3.759      0.000      -4.860      -1.529
Gaz Metan Mediaş                        -3.2247      0.990     -3.256      0.001      -5.166      -1.283
Gazişehir Gaziantep F.K.                -3.7307      0.819     -4.555      0.000      -5.336      -2.125
Genoa                                   -2.3296      0.802     -2.904      0.004      -3.902      -0.757
Gençlerbirliği SK                       -3.9123      0.819     -4.778      0.000      -5.517      -2.307
Getafe CF                               -3.9305      0.799     -4.921      0.000      -5.496      -2.365
Gil Vicente FC                          -3.8248      0.817     -4.681      0.000      -5.426      -2.223
Gillingham                              -3.2804      0.833     -3.937      0.000      -4.914      -1.647
Gimnasia y Esgrima La Plata             -3.3803      0.848     -3.987      0.000      -5.042      -1.718
Gimnàstic de Tarragona                  -3.4678      1.052     -3.297      0.001      -5.529      -1.406
Girona FC                               -3.4641      0.794     -4.361      0.000      -5.021      -1.907
Go Ahead Eagles                         -3.2187      1.649     -1.952      0.051      -6.450       0.013
Godoy Cruz                              -3.2177      0.846     -3.803      0.000      -4.876      -1.559
Goiás                                   -3.6664      0.958     -3.828      0.000      -5.544      -1.789
Granada CF                              -3.8056      0.812     -4.688      0.000      -5.397      -2.214
Grasshopper Club Zürich                 -3.1995      1.133     -2.825      0.005      -5.419      -0.980
Grenoble Foot 38                        -3.5058      0.844     -4.156      0.000      -5.159      -1.852
Grimsby Town                            -2.9677      0.798     -3.719      0.000      -4.532      -1.404
Grêmio                                  -4.0353      0.862     -4.683      0.000      -5.724      -2.346
Guabirá                                 -3.5725      1.044     -3.421      0.001      -5.619      -1.526
Guadalajara                             -4.3094      0.796     -5.414      0.000      -5.870      -2.749
Guaireña FC                             -4.0233      1.277     -3.151      0.002      -6.526      -1.521
Guangzhou Evergrande Taobao FC          -2.6900      0.821     -3.276      0.001      -4.300      -1.081
Guangzhou R&amp;F FC                    -2.8655      0.841     -3.407      0.001      -4.514      -1.217
Guayaquil City                          -3.9744      0.992     -4.007      0.000      -5.919      -2.030
GwangJu FC                              -3.2901      0.922     -3.567      0.000      -5.098      -1.482
Gyeongnam FC                            -2.9066      1.052     -2.762      0.006      -4.969      -0.844
Górnik Zabrze                           -3.1945      0.866     -3.690      0.000      -4.891      -1.498
Göztepe SK                              -3.8569      0.804     -4.797      0.000      -5.433      -2.281
HJK Helsinki                            -3.2880      0.810     -4.059      0.000      -4.876      -1.700
Hallescher FC                           -3.2232      0.825     -3.907      0.000      -4.840      -1.606
Hamburger SV                            -3.7222      0.801     -4.644      0.000      -5.293      -2.151
Hamilton Academical FC                  -3.1464      0.824     -3.819      0.000      -4.761      -1.532
Hammarby IF                             -3.1576      0.837     -3.774      0.000      -4.798      -1.518
Hannover 96                             -3.7812      0.801     -4.719      0.000      -5.352      -2.211
Harrogate Town                          -3.0253      0.836     -3.617      0.000      -4.665      -1.386
Hartlepool United                       -2.9285      1.650     -1.775      0.076      -6.162       0.305
Hatayspor                               -3.4228      0.847     -4.039      0.000      -5.084      -1.762
Heart of Midlothian                     -3.7615      0.924     -4.069      0.000      -5.573      -1.950
Hebei China Fortune FC                  -2.9402      0.831     -3.539      0.000      -4.569      -1.312
Hellas Verona                           -2.7373      0.801     -3.417      0.001      -4.308      -1.167
Helsingborgs IF                         -2.8449      0.858     -3.317      0.001      -4.526      -1.164
Henan Jianye FC                         -3.2435      0.861     -3.769      0.000      -4.930      -1.557
Heracles Almelo                         -3.3845      0.820     -4.130      0.000      -4.991      -1.778
Hertha BSC                              -3.6106      0.803     -4.494      0.000      -5.185      -2.036
Hibernian                               -3.5407      0.817     -4.336      0.000      -5.141      -1.940
Hobro IK                                -2.7982      1.135     -2.465      0.014      -5.023      -0.573
Hokkaido Consadole Sapporo              -3.2096      0.835     -3.845      0.000      -4.846      -1.573
Holstein Kiel                           -3.7160      0.820     -4.533      0.000      -5.323      -2.109
Houston Dynamo                          -3.2048      0.799     -4.009      0.000      -4.772      -1.638
Huddersfield Town                       -3.8657      0.794     -4.867      0.000      -5.423      -2.309
Hull City                               -3.5428      0.793     -4.469      0.000      -5.097      -1.989
IF Brommapojkarna                       -3.4418      1.651     -2.085      0.037      -6.678      -0.205
IF Elfsborg                             -3.1785      0.845     -3.762      0.000      -4.834      -1.522
IFK Göteborg                            -2.7657      0.847     -3.264      0.001      -4.427      -1.105
IFK Norrköping                          -3.2244      0.823     -3.916      0.000      -4.838      -1.611
IK Sirius                               -3.0327      0.881     -3.444      0.001      -4.759      -1.306
IK Start                                -3.2666      1.009     -3.238      0.001      -5.244      -1.289
Incheon United FC                       -3.0788      0.841     -3.660      0.000      -4.728      -1.430
Independiente                           -3.4929      0.799     -4.373      0.000      -5.059      -1.927
Independiente Medellín                  -2.9573      0.895     -3.306      0.001      -4.711      -1.204
Independiente Santa Fe                  -4.1032      0.897     -4.572      0.000      -5.862      -2.344
Independiente del Valle                 -3.8868      0.875     -4.443      0.000      -5.602      -2.172
Inter                                   -3.7414      0.810     -4.617      0.000      -5.330      -2.153
Inter Miami                             -3.1306      0.816     -3.838      0.000      -4.729      -1.532
Internacional                           -4.1119      0.836     -4.921      0.000      -5.750      -2.474
Inverness Caledonian Thistle            -3.0713      1.661     -1.850      0.064      -6.326       0.184
Ipswich Town                            -3.3449      0.807     -4.147      0.000      -4.926      -1.764
Jagiellonia Białystok                   -3.2879      0.845     -3.889      0.000      -4.945      -1.631
Jaguares de Chiapas                     -3.1899      1.650     -1.934      0.053      -6.423       0.044
Jeju United FC                          -3.1892      1.132     -2.817      0.005      -5.409      -0.970
Jeonbuk Hyundai Motors                  -3.2204      0.823     -3.915      0.000      -4.833      -1.608
Jeonnam Dragons                         -3.4392      1.129     -3.047      0.002      -5.652      -1.227
Jiangsu Suning FC                       -3.3697      0.940     -3.585      0.000      -5.212      -1.527
Jorge Wilstermann                       -3.4962      0.872     -4.008      0.000      -5.206      -1.787
Junior FC                               -3.1202      0.822     -3.796      0.000      -4.731      -1.509
Juventus                                -1.2627      0.813     -1.553      0.120      -2.856       0.331
Jönköpings Södra IF                     -3.3246      1.129     -2.944      0.003      -5.538      -1.111
Júbilo Iwata                            -3.1478      1.047     -3.006      0.003      -5.200      -1.095
KAA Gent                                -3.7675      0.813     -4.632      0.000      -5.362      -2.173
KAS Eupen                               -3.4069      0.836     -4.075      0.000      -5.046      -1.768
KFC Uerdingen 05                        -3.2741      0.836     -3.915      0.000      -4.913      -1.635
KRC Genk                                -3.2002      0.831     -3.851      0.000      -4.829      -1.571
KSV Cercle Brugge                       -3.2842      0.823     -3.989      0.000      -4.898      -1.670
KV Kortrijk                             -3.4519      0.836     -4.128      0.000      -5.091      -1.813
KV Mechelen                             -3.4597      0.805     -4.296      0.000      -5.038      -1.881
KV Oostende                             -3.5623      0.900     -3.959      0.000      -5.326      -1.799
Kaizer Chiefs                           -3.5869      0.821     -4.367      0.000      -5.197      -1.977
Kalmar FF                               -3.2459      0.880     -3.687      0.000      -4.972      -1.520
Karlsruher SC                           -3.3882      0.812     -4.172      0.000      -4.980      -1.796
Kashima Antlers                         -3.2796      0.822     -3.990      0.000      -4.891      -1.668
Kashiwa Reysol                          -3.2496      0.860     -3.780      0.000      -4.935      -1.565
Kasimpaşa SK                            -3.6369      0.810     -4.492      0.000      -5.224      -2.050
Kawasaki Frontale                       -3.3924      0.830     -4.085      0.000      -5.020      -1.765
Kayserispor                             -3.7076      0.815     -4.550      0.000      -5.305      -2.110
Kilmarnock                              -3.2698      0.817     -4.001      0.000      -4.872      -1.668
Korona Kielce                           -2.9892      0.962     -3.106      0.002      -4.875      -1.103
Kristiansund BK                         -3.0417      0.848     -3.587      0.000      -4.704      -1.380
Krylya Sovetov Samara                   -3.3588      1.666     -2.016      0.044      -6.624      -0.093
LA Galaxy                               -3.0789      0.792     -3.886      0.000      -4.632      -1.526
LASK Linz                               -3.7955      0.836     -4.539      0.000      -5.435      -2.156
LDU Quito                               -3.7102      0.813     -4.562      0.000      -5.305      -2.116
LKS Lodz                                -3.1374      1.651     -1.900      0.057      -6.373       0.099
LOSC Lille                              -4.4877      0.813     -5.521      0.000      -6.081      -2.894
La Berrichonne de Châteauroux           -3.2697      0.813     -4.022      0.000      -4.863      -1.676
La Equidad                              -3.6984      0.883     -4.188      0.000      -5.429      -1.967
Latina                                  -2.5681      1.652     -1.554      0.120      -5.807       0.670
Lazio                                   -3.2463      0.801     -4.055      0.000      -4.816      -1.677
Le Havre AC                             -3.4493      0.809     -4.263      0.000      -5.035      -1.863
Lecce                                   -3.2579      0.811     -4.017      0.000      -4.847      -1.668
Lech Poznań                             -3.3953      0.809     -4.198      0.000      -4.981      -1.810
Lechia Gdańsk                           -3.2888      0.830     -3.960      0.000      -4.917      -1.661
Leeds United                            -5.3762      0.801     -6.711      0.000      -6.946      -3.806
Legia Warszawa                          -3.4111      0.807     -4.225      0.000      -4.994      -1.828
Leicester City                          -5.0572      0.803     -6.296      0.000      -6.632      -3.483
Levante UD                              -4.6466      0.795     -5.843      0.000      -6.205      -3.088
Leyton Orient                           -3.1646      0.813     -3.892      0.000      -4.758      -1.571
Lillestrøm SK                           -3.3156      1.277     -2.597      0.009      -5.818      -0.813
Limerick FC                             -2.8240      1.647     -1.715      0.086      -6.052       0.404
Lincoln City                            -3.3953      0.809     -4.198      0.000      -4.980      -1.810
Liverpool                               -3.5787      0.801     -4.466      0.000      -5.149      -2.008
Liverpool Fútbol Club                   -3.7173      0.947     -3.926      0.000      -5.573      -1.861
Livingston FC                           -3.1608      0.855     -3.699      0.000      -4.836      -1.486
Livorno                                 -3.2988      0.941     -3.507      0.000      -5.142      -1.455
Llaneros de Guanare                     -3.2137      1.644     -1.954      0.051      -6.437       0.009
Lobos BUAP                              -2.7783      1.044     -2.661      0.008      -4.825      -0.731
Lokomotiv Moscow                        -4.2860      0.803     -5.339      0.000      -5.860      -2.712
Longford Town                           -2.6640      1.277     -2.086      0.037      -5.167      -0.161
Lorca FC                                -3.2603      1.129     -2.887      0.004      -5.474      -1.046
Los Angeles FC                          -2.9392      0.808     -3.637      0.000      -4.523      -1.355
Luton Town                              -3.6369      0.805     -4.518      0.000      -5.215      -2.059
Lyngby BK                               -3.1763      0.851     -3.734      0.000      -4.843      -1.509
MKE Ankaragücü                          -3.8846      0.822     -4.728      0.000      -5.495      -2.274
MSV Duisburg                            -3.1000      0.833     -3.723      0.000      -4.732      -1.468
Macarthur FC                            -2.7824      0.820     -3.393      0.001      -4.390      -1.175
Macará                                  -3.5370      1.646     -2.149      0.032      -6.763      -0.311
Macclesfield Town                       -3.1386      0.998     -3.146      0.002      -5.094      -1.183
Malmö FF                                -3.2949      0.845     -3.897      0.000      -4.952      -1.638
Manchester City                         -5.0437      0.805     -6.262      0.000      -6.622      -3.465
Manchester United                       -6.1184      0.803     -7.622      0.000      -7.692      -4.545
Mansfield Town                          -3.3106      0.808     -4.096      0.000      -4.895      -1.727
Matsumoto Yamaga                        -3.0921      1.125     -2.749      0.006      -5.297      -0.887
Mazatlán FC                             -3.4004      0.811     -4.191      0.000      -4.991      -1.810
Medipol Başakşehir FK                   -4.3292      0.798     -5.424      0.000      -5.894      -2.765
Melbourne City FC                       -3.0719      0.831     -3.695      0.000      -4.701      -1.442
Melbourne Victory                       -3.1034      0.802     -3.871      0.000      -4.675      -1.532
Melgar FBC                              -3.5711      0.853     -4.185      0.000      -5.244      -1.899
Metropolitanos FC                       -3.8295      0.921     -4.159      0.000      -5.634      -2.025
Middlesbrough                           -3.5589      0.796     -4.470      0.000      -5.120      -1.998
Miedź Legnica                           -3.3364      1.136     -2.937      0.003      -5.563      -1.109
Milan                                   -2.2876      0.811     -2.822      0.005      -3.876      -0.699
Millonarios FC                          -3.1689      0.898     -3.530      0.000      -4.929      -1.409
Millwall                                -3.6144      0.801     -4.511      0.000      -5.185      -2.044
Milton Keynes Dons                      -3.2514      0.807     -4.029      0.000      -4.833      -1.669
Minnesota United FC                     -3.0926      0.803     -3.853      0.000      -4.666      -1.519
Mjällby AIF                             -2.8479      1.000     -2.848      0.004      -4.808      -0.888
Mjøndalen IF                            -3.0350      0.872     -3.479      0.001      -4.745      -1.325
Molde FK                                -3.3670      0.845     -3.984      0.000      -5.024      -1.710
Monarcas Morelia                        -3.3679      1.126     -2.991      0.003      -5.575      -1.161
Monterrey                               -4.0565      0.795     -5.103      0.000      -5.615      -2.498
Montevideo City Torque                  -4.2200      0.860     -4.910      0.000      -5.905      -2.535
Montpellier HSC                         -4.2531      0.811     -5.246      0.000      -5.842      -2.664
Montreal Impact                         -3.0527      0.834     -3.660      0.000      -4.688      -1.418
Morecambe                               -3.0089      0.803     -3.747      0.000      -4.583      -1.435
Moreirense FC                           -3.8695      0.835     -4.637      0.000      -5.505      -2.234
Motherwell                              -3.1949      0.822     -3.886      0.000      -4.806      -1.583
Málaga CF                               -3.5919      0.810     -4.434      0.000      -5.180      -2.004
NAC Breda                               -3.5761      1.143     -3.129      0.002      -5.816      -1.336
Nacional Asunción                       -3.5447      0.995     -3.562      0.000      -5.495      -1.594
Nacional Potosí                         -3.6475      1.124     -3.245      0.001      -5.851      -1.445
Nacional de Montevideo                  -3.9374      0.800     -4.920      0.000      -5.506      -2.369
Nagoya Grampus                          -3.0821      0.823     -3.747      0.000      -4.695      -1.470
Napoli                                  -1.6034      0.818     -1.961      0.050      -3.206      -0.000
Nashville SC                            -3.0709      0.822     -3.736      0.000      -4.682      -1.460
Neuchâtel Xamax                         -2.9267      1.049     -2.789      0.005      -4.984      -0.870
New England Revolution                  -3.1511      0.800     -3.938      0.000      -4.720      -1.582
New York City FC                        -3.4012      0.801     -4.247      0.000      -4.971      -1.832
New York Red Bulls                      -3.3697      0.806     -4.179      0.000      -4.950      -1.789
Newcastle Jets                          -3.0064      0.864     -3.481      0.001      -4.699      -1.313
Newcastle United                        -4.7941      0.796     -6.021      0.000      -6.355      -3.233
Newell's Old Boys                       -3.3587      0.803     -4.182      0.000      -4.933      -1.785
Newport County                          -3.0646      0.793     -3.865      0.000      -4.619      -1.511
Northampton Town                        -3.2136      0.814     -3.946      0.000      -4.810      -1.617
Norwich City                            -3.6528      0.803     -4.548      0.000      -5.227      -2.079
Nottingham Forest                       -4.3576      0.800     -5.448      0.000      -5.925      -2.790
Notts County                            -3.1627      1.049     -3.014      0.003      -5.220      -1.106
Novara                                  -3.2756      1.132     -2.893      0.004      -5.495      -1.056
Nîmes Olympique                         -4.2386      0.808     -5.249      0.000      -5.821      -2.656
OGC Nice                                -2.4779      0.828     -2.991      0.003      -4.102      -0.854
Oceânico FC                             -3.2453      1.046     -3.103      0.002      -5.295      -1.196
Odds BK                                 -3.1654      0.824     -3.843      0.000      -4.780      -1.551
Odense Boldklub                         -3.2180      0.827     -3.893      0.000      -4.838      -1.598
Ohod Club                               -3.0818      1.053     -2.927      0.003      -5.145      -1.018
Oita Trinita                            -3.2540      0.836     -3.892      0.000      -4.893      -1.615
Oldham Athletic                         -3.2155      0.807     -3.983      0.000      -4.798      -1.633
Olimpia Asunción                        -3.7302      0.814     -4.582      0.000      -5.326      -2.135
Olympiacos CFP                          -3.8442      0.809     -4.750      0.000      -5.431      -2.258
Olympique Lyonnais                      -4.7758      0.804     -5.943      0.000      -6.351      -3.201
Olympique de Marseille                  -3.6164      0.794     -4.556      0.000      -5.172      -2.061
Once Caldas                             -3.6731      1.281     -2.868      0.004      -6.183      -1.163
Oriente Petrolero                       -3.1838      1.274     -2.498      0.012      -5.682      -0.686
Orlando City SC                         -3.1762      0.803     -3.954      0.000      -4.751      -1.602
Orlando Pirates                         -3.5241      0.819     -4.303      0.000      -5.129      -1.919
Os Belenenses                           -3.9670      0.809     -4.902      0.000      -5.553      -2.381
Osmanlıspor                             -4.0927      1.284     -3.187      0.001      -6.610      -1.575
Oud-Heverlee Leuven                     -3.3097      0.826     -4.005      0.000      -4.929      -1.690
Oxford United                           -3.2794      0.806     -4.069      0.000      -4.859      -1.700
PAOK                                    -4.1177      0.805     -5.113      0.000      -5.696      -2.539
PEC Zwolle                              -3.4047      0.808     -4.213      0.000      -4.989      -1.821
PFC CSKA Moscow                         -3.9287      0.809     -4.855      0.000      -5.515      -2.342
PSV                                     -2.0596      0.801     -2.571      0.010      -3.630      -0.490
Pachuca                                 -3.5908      0.810     -4.435      0.000      -5.178      -2.004
Padova                                  -3.3726      1.284     -2.627      0.009      -5.889      -0.856
Palermo                                 -4.1907      1.660     -2.525      0.012      -7.444      -0.937
Palmeiras                               -4.7884      0.869     -5.511      0.000      -6.492      -3.085
Panathinaikos FC                        -3.9797      0.802     -4.964      0.000      -5.551      -2.408
Paris FC                                -3.6591      0.795     -4.601      0.000      -5.218      -2.100
Paris Saint-Germain                     -2.2716      0.805     -2.821      0.005      -3.850      -0.693
Parma                                   -3.8571      0.799     -4.825      0.000      -5.424      -2.290
Partick Thistle FC                      -3.1003      1.284     -2.415      0.016      -5.617      -0.584
Patriotas Boyacá FC                     -3.4182      1.661     -2.058      0.040      -6.673      -0.163
Patronato                               -3.4399      0.870     -3.953      0.000      -5.145      -1.734
Pau FC                                  -2.9924      0.835     -3.584      0.000      -4.629      -1.356
Perth Glory                             -3.0100      0.851     -3.537      0.000      -4.678      -1.342
Perugia                                 -3.3935      0.922     -3.681      0.000      -5.200      -1.587
Pescara                                 -3.1894      0.963     -3.313      0.001      -5.076      -1.302
Peterborough United                     -3.4560      0.808     -4.276      0.000      -5.040      -1.872
Peñarol                                 -3.6246      0.804     -4.509      0.000      -5.200      -2.049
Philadelphia Union                      -3.3499      0.811     -4.130      0.000      -4.940      -1.760
Piast Gliwice                           -3.2798      0.840     -3.905      0.000      -4.926      -1.634
Pisa                                    -3.3008      0.902     -3.658      0.000      -5.069      -1.532
Plymouth Argyle                         -3.3434      0.823     -4.060      0.000      -4.958      -1.729
Podbeskidzie Bielsko-Biała              -3.1547      0.967     -3.263      0.001      -5.050      -1.260
Pogoń Szczecin                          -3.4023      0.841     -4.047      0.000      -5.050      -1.755
Pohang Steelers                         -3.1570      0.833     -3.788      0.000      -4.791      -1.523
Politehnica Iaşi                        -3.1723      0.958     -3.310      0.001      -5.051      -1.294
Pordenone                               -3.5081      1.285     -2.730      0.006      -6.027      -0.990
Port Vale                               -3.1202      0.802     -3.892      0.000      -4.692      -1.549
Portimonense SC                         -3.7038      0.811     -4.569      0.000      -5.293      -2.115
Portland Timbers                        -3.2450      0.808     -4.016      0.000      -4.829      -1.661
Portsmouth                              -3.3687      0.805     -4.184      0.000      -4.947      -1.791
Preston North End                       -3.8721      0.810     -4.782      0.000      -5.459      -2.285
Puebla FC                               -3.2340      0.801     -4.037      0.000      -4.804      -1.664
Qingdao Huanghai F.C.                   -2.7123      0.842     -3.222      0.001      -4.363      -1.062
Queens Park Rangers                     -3.5815      0.800     -4.477      0.000      -5.149      -2.014
Querétaro                               -3.3257      0.821     -4.051      0.000      -4.935      -1.717
RB Bragantino                           -4.6771      0.852     -5.487      0.000      -6.348      -3.006
RB Leipzig                              -2.0868      0.813     -2.568      0.010      -3.680      -0.494
RC Celta                                -3.9931      0.797     -5.013      0.000      -5.555      -2.432
RC Strasbourg Alsace                    -4.2066      0.804     -5.234      0.000      -5.782      -2.631
RCD Espanyol                            -2.9118      0.798     -3.650      0.000      -4.476      -1.348
RCD Mallorca                            -2.8719      0.801     -3.586      0.000      -4.441      -1.302
RKC Waalwijk                            -3.2709      0.818     -3.997      0.000      -4.875      -1.667
RSC Anderlecht                          -3.2711      0.802     -4.077      0.000      -4.844      -1.698
Racing Club                             -3.2153      0.799     -4.024      0.000      -4.781      -1.649
Racing Club de Lens                     -3.9226      0.792     -4.951      0.000      -5.476      -2.370
Racing Santander                        -3.4008      1.052     -3.232      0.001      -5.464      -1.338
Raków Częstochowa                       -3.2804      0.835     -3.929      0.000      -4.917      -1.644
Randers FC                              -3.2708      0.824     -3.969      0.000      -4.886      -1.655
Rangers FC                              -4.7633      0.808     -5.895      0.000      -6.347      -3.179
Ranheim Fotball                         -3.0079      1.290     -2.332      0.020      -5.536      -0.479
Rayo Vallecano                          -3.3971      0.802     -4.238      0.000      -4.968      -1.826
Reading                                 -3.7675      0.800     -4.707      0.000      -5.336      -2.199
Real Betis                              -4.5629      0.796     -5.730      0.000      -6.124      -3.002
Real Madrid                             -9.5553      0.803    -11.896      0.000     -11.130      -7.981
Real Oviedo                             -3.2788      0.800     -4.096      0.000      -4.848      -1.710
Real Salt Lake                          -3.2072      0.810     -3.959      0.000      -4.795      -1.619
Real Sociedad                           -5.0161      0.804     -6.238      0.000      -6.592      -3.440
Real Sporting de Gijón                  -3.5601      0.806     -4.416      0.000      -5.140      -1.980
Real Valladolid CF                      -4.0731      0.809     -5.034      0.000      -5.659      -2.487
Real Zaragoza                           -3.3908      0.794     -4.271      0.000      -4.947      -1.835
Red Star FC                             -2.8751      1.138     -2.527      0.012      -5.105      -0.645
Rentistas                               -3.5786      0.884     -4.047      0.000      -5.312      -1.845
Rio Ave FC                              -3.9157      0.837     -4.680      0.000      -5.556      -2.276
Rionegro Águilas                        -3.1600      0.960     -3.292      0.001      -5.042      -1.278
River Plate                             -2.2764      0.812     -2.805      0.005      -3.867      -0.686
River Plate Asunción                    -3.4216      0.934     -3.664      0.000      -5.252      -1.591
River Plate Montevideo                  -3.7779      1.128     -3.348      0.001      -5.990      -1.566
Rochdale                                -3.2391      0.817     -3.965      0.000      -4.840      -1.638
Roda JC Kerkrade                        -2.7712      1.647     -1.683      0.092      -5.999       0.456
Rodez Aveyron Football                  -3.2780      0.836     -3.923      0.000      -4.916      -1.640
Roma                                    -3.5094      0.800     -4.388      0.000      -5.077      -1.942
Rosario Central                         -3.5793      0.815     -4.389      0.000      -5.178      -1.981
Rosenborg BK                            -3.2565      0.841     -3.870      0.000      -4.906      -1.607
Ross County FC                          -3.1749      0.840     -3.780      0.000      -4.821      -1.529
Rotherham United                        -3.7930      0.812     -4.673      0.000      -5.384      -2.202
Royal Antwerp FC                        -3.2631      0.831     -3.926      0.000      -4.892      -1.634
Royal Excel Mouscron                    -3.1075      0.813     -3.824      0.000      -4.700      -1.515
Rubin Kazan                             -4.4940      1.016     -4.423      0.000      -6.486      -2.502
Ruch Chorzów                            -2.6566      1.645     -1.615      0.106      -5.881       0.568
SC Braga                                -4.3253      0.832     -5.198      0.000      -5.956      -2.694
SC Fortuna Köln                         -3.1157      1.653     -1.885      0.059      -6.356       0.124
SC Freiburg                             -3.7685      0.809     -4.659      0.000      -5.354      -2.183
SC Heerenveen                           -3.2985      0.803     -4.110      0.000      -4.872      -1.725
SC Paderborn 07                         -3.5566      0.807     -4.406      0.000      -5.139      -1.974
SC Preußen Münster                      -3.4068      1.053     -3.235      0.001      -5.471      -1.343
SC Verl                                 -3.1376      0.872     -3.598      0.000      -4.847      -1.428
SCR Altach                              -3.4437      0.863     -3.989      0.000      -5.136      -1.752
SD Aucas                                -3.0477      0.998     -3.055      0.002      -5.003      -1.092
SD Eibar                                -3.9286      0.802     -4.898      0.000      -5.501      -2.356
SD Huesca                               -3.2550      0.805     -4.046      0.000      -4.832      -1.678
SD Ponferradina                         -3.2778      0.809     -4.052      0.000      -4.863      -1.692
SG Dynamo Dresden                       -3.4337      0.846     -4.058      0.000      -5.092      -1.775
SG Sonnenhof Großaspach                 -3.2593      1.278     -2.550      0.011      -5.764      -0.754
SK Brann                                -3.3141      0.854     -3.879      0.000      -4.989      -1.640
SK Rapid Wien                           -3.8749      0.827     -4.684      0.000      -5.497      -2.253
SK Slavia Praha                         -4.2675      0.812     -5.253      0.000      -5.860      -2.675
SK Sturm Graz                           -3.5910      0.820     -4.380      0.000      -5.198      -1.984
SKA Khabarovsk                          -3.8097      1.143     -3.334      0.001      -6.050      -1.570
SKN St. Pölten                          -3.3292      0.843     -3.950      0.000      -4.981      -1.677
SL Benfica                              -4.2055      0.811     -5.185      0.000      -5.795      -2.616
SPAL                                    -3.6216      0.810     -4.473      0.000      -5.209      -2.034
SSV Jahn Regensburg                     -3.4886      0.855     -4.081      0.000      -5.164      -1.813
SV Darmstadt 98                         -3.5938      0.799     -4.499      0.000      -5.160      -2.028
SV Mattersburg                          -3.2746      1.279     -2.561      0.010      -5.781      -0.768
SV Meppen                               -3.1166      0.853     -3.654      0.000      -4.789      -1.445
SV Ried                                 -3.2903      0.912     -3.608      0.000      -5.078      -1.503
SV Sandhausen                           -3.2463      0.824     -3.940      0.000      -4.862      -1.631
SV Waldhof Mannheim                     -3.2465      0.823     -3.947      0.000      -4.859      -1.634
SV Wehen Wiesbaden                      -3.2311      0.826     -3.913      0.000      -4.850      -1.613
SV Werder Bremen                        -4.2125      0.803     -5.243      0.000      -5.787      -2.638
SV Zulte-Waregem                        -3.6411      0.817     -4.459      0.000      -5.242      -2.041
Sagan Tosu                              -3.3370      0.905     -3.689      0.000      -5.110      -1.564
Salford City                            -3.1319      0.812     -3.856      0.000      -4.724      -1.540
Sampdoria                               -3.4274      0.810     -4.234      0.000      -5.014      -1.841
San Jose Earthquakes                    -3.2336      0.805     -4.018      0.000      -4.811      -1.656
San Lorenzo de Almagro                  -3.5459      0.812     -4.369      0.000      -5.137      -1.955
San Luis de Quillota                    -2.8117      1.644     -1.710      0.087      -6.034       0.411
San Martin de Tucumán                   -3.5729      1.123     -3.182      0.001      -5.774      -1.372
San Martín de San Juan                  -3.1537      1.277     -2.470      0.014      -5.657      -0.651
Sandefjord Fotball                      -2.9548      0.914     -3.233      0.001      -4.746      -1.163
Sanfrecce Hiroshima                     -3.4014      0.824     -4.129      0.000      -5.016      -1.787
Sangju Sangmu FC                        -2.9627      0.871     -3.403      0.001      -4.669      -1.256
Santa Clara                             -4.0189      0.842     -4.771      0.000      -5.670      -2.368
Santos                                  -4.3145      0.853     -5.058      0.000      -5.986      -2.643
Santos Laguna                           -3.8096      0.798     -4.772      0.000      -5.374      -2.245
Sarpsborg 08 FF                         -3.1317      0.880     -3.559      0.000      -4.856      -1.407
Sassuolo                                -3.8179      0.804     -4.749      0.000      -5.394      -2.242
Scunthorpe United                       -3.2860      0.832     -3.951      0.000      -4.916      -1.656
Seattle Sounders FC                     -2.8947      0.809     -3.577      0.000      -4.481      -1.309
Seongnam FC                             -3.0613      0.875     -3.501      0.000      -4.775      -1.347
Sepsi OSK                               -3.2782      0.877     -3.738      0.000      -4.997      -1.559
Servette FC                             -3.5291      0.874     -4.038      0.000      -5.242      -1.816
Sevilla FC                              -4.7916      0.803     -5.964      0.000      -6.366      -3.217
Shakhtar Donetsk                        -4.0312      0.800     -5.040      0.000      -5.599      -2.464
Shamrock Rovers                         -3.0161      0.862     -3.500      0.000      -4.705      -1.327
Shandong Luneng TaiShan FC              -3.5242      0.830     -4.247      0.000      -5.151      -1.898
Shanghai Greenland Shenhua FC           -3.3806      0.847     -3.990      0.000      -5.041      -1.720
Shanghai SIPG FC                        -2.5005      0.821     -3.047      0.002      -4.109      -0.892
Sheffield United                        -4.5049      0.806     -5.591      0.000      -6.084      -2.925
Sheffield Wednesday                     -3.8793      0.809     -4.794      0.000      -5.465      -2.293
Shelbourne FC                           -2.3638      1.268     -1.864      0.062      -4.850       0.122
Shenzhen FC                             -2.9529      0.838     -3.523      0.000      -4.596      -1.310
Shijiazhuang Ever Bright F.C.           -3.0439      0.915     -3.327      0.001      -4.837      -1.250
Shimizu S-Pulse                         -3.1384      0.829     -3.786      0.000      -4.763      -1.514
Shonan Bellmare                         -3.1528      0.951     -3.314      0.001      -5.018      -1.288
Shrewsbury                              -3.3690      0.821     -4.103      0.000      -4.979      -1.759
Silkeborg IF                            -2.9404      1.659     -1.773      0.076      -6.192       0.311
Sint-Truidense VV                       -3.3524      0.805     -4.162      0.000      -4.931      -1.774
Sivasspor                               -3.8903      0.830     -4.685      0.000      -5.518      -2.263
Sligo Rovers                            -2.8316      0.819     -3.457      0.001      -4.437      -1.226
Sol de América                          -3.4167      0.950     -3.598      0.000      -5.278      -1.555
Southampton                             -4.4475      0.804     -5.535      0.000      -6.023      -2.872
Southend United                         -3.1677      0.812     -3.900      0.000      -4.760      -1.576
SpVgg Greuther Fürth                    -3.6244      0.806     -4.499      0.000      -5.203      -2.045
SpVgg Unterhaching                      -3.1389      0.835     -3.759      0.000      -4.775      -1.502
Sparta Praha                            -4.1777      0.806     -5.181      0.000      -5.758      -2.597
Sparta Rotterdam                        -3.3464      0.838     -3.993      0.000      -4.989      -1.704
Spartak Moscow                          -4.0769      0.808     -5.043      0.000      -5.661      -2.492
Spezia                                  -3.3984      0.798     -4.257      0.000      -4.963      -1.834
Sport Huancayo                          -3.2260      0.876     -3.682      0.000      -4.943      -1.509
Sporting CP                             -2.3379      0.798     -2.931      0.003      -3.901      -0.774
Sporting Club de Bastia                 -3.5193      1.658     -2.122      0.034      -6.769      -0.269
Sporting Cristal                        -4.0321      0.809     -4.981      0.000      -5.619      -2.446
Sporting Kansas City                    -3.2703      0.813     -4.021      0.000      -4.864      -1.676
Sporting Lokeren                        -3.6103      1.288     -2.804      0.005      -6.135      -1.086
Sporting de Charleroi                   -3.4000      0.811     -4.191      0.000      -4.990      -1.810
Sportivo Luqueño                        -3.5138      1.273     -2.760      0.006      -6.009      -1.018
St. Johnstone FC                        -3.2345      0.824     -3.927      0.000      -4.849      -1.620
St. Mirren                              -3.2861      0.821     -4.001      0.000      -4.896      -1.676
St. Patrick's Athletic                  -3.1645      0.858     -3.687      0.000      -4.847      -1.482
Stabæk Fotball                          -3.2750      0.852     -3.846      0.000      -4.944      -1.606
Stade Brestois 29                       -3.8347      0.802     -4.780      0.000      -5.407      -2.262
Stade Lavallois Mayenne FC              -2.7620      1.654     -1.670      0.095      -6.005       0.480
Stade Malherbe Caen                     -3.6236      0.816     -4.440      0.000      -5.223      -2.024
Stade Rennais FC                        -4.8391      0.816     -5.929      0.000      -6.439      -3.239
Stade de Reims                          -4.5748      0.808     -5.663      0.000      -6.158      -2.991
Stal Mielec                             -2.9407      0.893     -3.292      0.001      -4.692      -1.190
Standard de Liège                       -3.5786      0.810     -4.419      0.000      -5.166      -1.991
Stevenage                               -3.0482      0.798     -3.821      0.000      -4.612      -1.485
Stoke City                              -4.0104      0.801     -5.005      0.000      -5.581      -2.440
Strømsgodset IF                         -3.2607      0.838     -3.892      0.000      -4.903      -1.619
Sunderland                              -3.4103      0.797     -4.280      0.000      -4.972      -1.849
Suwon Samsung Bluewings                 -3.2630      0.913     -3.576      0.000      -5.052      -1.474
Swansea City                            -3.7321      0.798     -4.675      0.000      -5.297      -2.167
Swindon Town                            -3.1598      0.808     -3.912      0.000      -4.743      -1.576
Sydney FC                               -3.1674      0.841     -3.765      0.000      -4.817      -1.518
São Paulo                               -4.2989      0.870     -4.943      0.000      -6.004      -2.594
SønderjyskE                             -3.2482      0.823     -3.948      0.000      -4.861      -1.635
TSG 1899 Hoffenheim                     -3.5213      0.810     -4.345      0.000      -5.110      -1.933
TSV 1860 München                        -3.1203      0.794     -3.931      0.000      -4.676      -1.564
TSV Hartberg                            -3.2438      0.887     -3.656      0.000      -4.983      -1.505
Terek Grozny                            -3.8552      1.051     -3.669      0.000      -5.915      -1.796
The Strongest                           -4.0623      0.938     -4.330      0.000      -5.901      -2.223
Tianjin TEDA FC                         -2.5993      0.874     -2.973      0.003      -4.313      -0.885
Tiburones Rojos de Veracruz             -2.8770      0.872     -3.298      0.001      -4.587      -1.167
Tigres U.A.N.L.                         -4.5303      0.803     -5.639      0.000      -6.105      -2.956
Torino                                  -3.9409      0.807     -4.882      0.000      -5.523      -2.359
Toronto FC                              -3.0713      0.822     -3.735      0.000      -4.683      -1.459
Tottenham Hotspur                       -4.4013      0.799     -5.506      0.000      -5.968      -2.835
Toulouse Football Club                  -3.5117      0.797     -4.405      0.000      -5.074      -1.949
Tours FC                                -3.6060      1.134     -3.180      0.001      -5.829      -1.383
Trabzonspor                             -4.4137      0.798     -5.534      0.000      -5.977      -2.850
Tranmere Rovers                         -2.9836      0.805     -3.705      0.000      -4.562      -1.405
Trapani                                 -3.1527      1.001     -3.148      0.002      -5.116      -1.190
Tromsø IL                               -3.0185      1.137     -2.654      0.008      -5.248      -0.790
Türkgücü München                        -3.0886      0.821     -3.760      0.000      -4.699      -1.479
U.N.A.M.                                -3.6445      0.793     -4.594      0.000      -5.199      -2.090
UCD AFC                                 -2.6564      1.273     -2.086      0.037      -5.152      -0.161
UD Almería                              -2.9555      0.810     -3.647      0.000      -4.544      -1.367
UD Las Palmas                           -3.4987      0.800     -4.376      0.000      -5.066      -1.932
UD Logroñés                             -3.1315      0.818     -3.829      0.000      -4.735      -1.528
US Cremonese                            -3.1504      0.973     -3.238      0.001      -5.058      -1.243
US Orléans Loiret Football              -3.6130      1.283     -2.815      0.005      -6.129      -1.097
US Salernitana 1919                     -3.3930      0.869     -3.905      0.000      -5.096      -1.690
USL Dunkerque                           -3.2595      0.870     -3.745      0.000      -4.966      -1.553
UTA Arad                                -3.1735      0.963     -3.295      0.001      -5.062      -1.286
Udinese                                 -3.2700      0.805     -4.060      0.000      -4.849      -1.691
Ulsan Hyundai FC                        -3.1596      0.843     -3.750      0.000      -4.811      -1.508
Universidad Católica                    -3.2862      0.795     -4.132      0.000      -4.845      -1.727
Universidad Católica del Ecuador        -3.5204      0.994     -3.542      0.000      -5.469      -1.572
Universidad Técnica de Cajamarca        -3.6963      0.865     -4.274      0.000      -5.391      -2.001
Universidad de Chile                    -3.4745      0.881     -3.943      0.000      -5.202      -1.747
Universitario de Deportes               -3.9076      0.842     -4.641      0.000      -5.558      -2.257
Universitatea Craiova                   -3.3972      0.873     -3.892      0.000      -5.108      -1.686
Unión Española                          -3.7975      1.283     -2.959      0.003      -6.313      -1.282
Unión La Calera                         -3.1882      0.827     -3.853      0.000      -4.810      -1.566
Unión Magdalena                         -3.2708      1.282     -2.552      0.011      -5.783      -0.759
Unión de Santa Fe                       -3.4490      0.825     -4.181      0.000      -5.066      -1.832
Urawa Red Diamonds                      -3.1714      0.839     -3.779      0.000      -4.817      -1.526
V-Varen Nagasaki                        -3.1987      1.643     -1.947      0.052      -6.419       0.022
VVV-Venlo                               -3.2458      0.821     -3.953      0.000      -4.855      -1.636
Valencia CF                             -4.3472      0.792     -5.488      0.000      -5.900      -2.795
Valenciennes FC                         -3.5498      0.831     -4.270      0.000      -5.179      -1.920
Vancouver Whitecaps FC                  -3.2769      0.805     -4.071      0.000      -4.855      -1.699
Varbergs BoIS                           -3.1314      0.931     -3.362      0.001      -4.957      -1.306
Vasco da Gama                           -4.1122      1.037     -3.966      0.000      -6.145      -2.080
Vegalta Sendai                          -3.2185      0.875     -3.678      0.000      -4.934      -1.503
Vejle Boldklub                          -3.2796      0.853     -3.843      0.000      -4.953      -1.607
Venezia FC                              -3.3644      0.878     -3.833      0.000      -5.085      -1.644
VfB Lübeck                              -3.0520      0.855     -3.571      0.000      -4.727      -1.377
VfB Stuttgart                           -4.0502      0.808     -5.015      0.000      -5.633      -2.467
VfL Bochum 1848                         -3.6517      0.818     -4.464      0.000      -5.255      -2.048
VfL Osnabrück                           -3.2243      0.808     -3.989      0.000      -4.808      -1.640
VfL Wolfsburg                           -3.8577      0.807     -4.779      0.000      -5.440      -2.276
VfR Aalen                               -3.6746      1.651     -2.226      0.026      -6.910      -0.439
Vicenza                                 -2.9643      1.656     -1.790      0.073      -6.209       0.281
Viking FK                               -3.2736      0.866     -3.779      0.000      -4.972      -1.576
Viktoria Köln                           -3.2342      0.832     -3.887      0.000      -4.865      -1.603
Viktoria Plzeň                          -3.9619      0.835     -4.745      0.000      -5.599      -2.325
Villarreal CF                           -4.8361      0.798     -6.058      0.000      -6.401      -3.271
Virtus Entella                          -3.2025      1.280     -2.502      0.012      -5.712      -0.693
Vissel Kobe                             -3.1914      0.794     -4.019      0.000      -4.748      -1.635
Vitesse                                 -3.2726      0.816     -4.009      0.000      -4.873      -1.672
Vitória Guimarães                       -3.8279      0.803     -4.767      0.000      -5.402      -2.254
Vitória de Setúbal                      -3.9123      1.135     -3.448      0.001      -6.136      -1.688
Vålerenga Fotball                       -3.3215      0.838     -3.962      0.000      -4.965      -1.678
Vélez Sarsfield                         -3.5165      0.799     -4.401      0.000      -5.083      -1.950
WSG Tirol                               -3.3381      0.866     -3.853      0.000      -5.036      -1.640
Waasland-Beveren                        -3.3499      0.803     -4.172      0.000      -4.924      -1.776
Walsall                                 -3.1981      0.805     -3.974      0.000      -4.776      -1.621
Warta Poznań                            -3.0993      0.877     -3.534      0.000      -4.818      -1.380
Waterford FC                            -2.7988      0.853     -3.281      0.001      -4.471      -1.127
Watford                                 -4.1688      0.802     -5.198      0.000      -5.741      -2.597
Wellington Phoenix                      -3.1089      0.833     -3.732      0.000      -4.742      -1.476
West Bromwich Albion                    -4.3461      0.804     -5.407      0.000      -5.922      -2.771
West Ham United                         -4.2305      0.798     -5.305      0.000      -5.794      -2.667
Western Sydney Wanderers                -3.0308      0.821     -3.689      0.000      -4.641      -1.421
Western United FC                       -2.9505      0.835     -3.534      0.000      -4.587      -1.314
Wigan Athletic                          -3.3077      0.808     -4.095      0.000      -4.891      -1.724
Willem II                               -3.3977      0.807     -4.209      0.000      -4.980      -1.815
Wisła Kraków                            -3.3627      0.826     -4.070      0.000      -4.982      -1.743
Wisła Płock                             -3.1481      0.861     -3.656      0.000      -4.836      -1.460
Wolfsberger AC                          -3.4590      0.842     -4.107      0.000      -5.110      -1.808
Wolverhampton Wanderers                 -4.2621      0.798     -5.343      0.000      -5.826      -2.699
Wuhan Zall                              -3.1692      0.886     -3.579      0.000      -4.905      -1.433
Wycombe Wanderers                       -3.3045      0.796     -4.152      0.000      -4.865      -1.744
Yeni Malatyaspor                        -3.7825      0.835     -4.531      0.000      -5.419      -2.146
Yeovil Town                             -3.5228      1.276     -2.761      0.006      -6.024      -1.022
Yokohama F. Marinos                     -3.2547      0.815     -3.995      0.000      -4.852      -1.658
Yokohama FC                             -3.0890      0.994     -3.109      0.002      -5.036      -1.142
Zagłębie Lubin                          -3.2527      0.865     -3.758      0.000      -4.949      -1.556
Zamora FC                               -2.7145      1.040     -2.610      0.009      -4.753      -0.676
Zenit St. Petersburg                    -4.5640      0.920     -4.962      0.000      -6.367      -2.761
Çaykur Rizespor                         -3.6585      0.820     -4.460      0.000      -5.266      -2.051
Örebro SK                               -3.1363      0.965     -3.251      0.001      -5.027      -1.245
Östersunds FK                           -3.1286      0.820     -3.815      0.000      -4.736      -1.521
Śląsk Wrocław                           -3.1426      0.891     -3.527      0.000      -4.889      -1.396
==============================================================================
Omnibus:                    22393.625   Durbin-Watson:                   1.292
Prob(Omnibus):                  0.000   Jarque-Bera (JB):         19076753.308
Skew:                           8.595   Prob(JB):                         0.00
Kurtosis:                     175.329   Cond. No.                     1.69e+17
==============================================================================

Notes:
[1] Standard Errors assume that the covariance matrix of the errors is correctly specified.
[2] The smallest eigenvalue is 1.87e-24. This might indicate that there are
strong multicollinearity problems or that the design matrix is singular.
#Run Cross Validation
​
lm = LinearRegression()
kf = KFold(n_splits=10, shuffle=True, random_state = 100)
cross_val_score(lm, X1, y1, cv=kf, scoring='r2')
​
print(round(np.mean(cross_val_score(lm, X, y, cv=kf, scoring='r2')),3))
0.96
Linear Regression
#set up the model with log value
​
X1= players.loc[:,['Overall','Age','Weight','Height','Growth','Release_Clause',]]
y1= players.loc[:,"Value"]
​
yl = np.log1p(y1)
​
player_model1 = sm.OLS(yl, X1, data=players)
​
results1 = player_model1.fit()
​
results1.summary()
OLS Regression Results
Dep. Variable:	Value	R-squared (uncentered):	0.960
Model:	OLS	Adj. R-squared (uncentered):	0.960
Method:	Least Squares	F-statistic:	6.054e+04
Date:	Mon, 31 May 2021	Prob (F-statistic):	0.00
Time:	17:40:51	Log-Likelihood:	-704.86
No. Observations:	15265	AIC:	1422.
Df Residuals:	15259	BIC:	1468.
Df Model:	6		
Covariance Type:	nonrobust		
coef	std err	t	P>|t|	[0.025	0.975]
Overall	0.0852	0.000	206.703	0.000	0.084	0.086
Age	-0.0612	0.001	-77.954	0.000	-0.063	-0.060
Weight	0.0106	0.000	25.555	0.000	0.010	0.011
Height	-0.0222	0.000	-81.721	0.000	-0.023	-0.022
Growth	-0.0108	0.001	-15.584	0.000	-0.012	-0.009
Release_Clause	0.0180	0.000	110.059	0.000	0.018	0.018
Omnibus:	2811.576	Durbin-Watson:	1.575
Prob(Omnibus):	0.000	Jarque-Bera (JB):	77532.647
Skew:	-0.029	Prob(JB):	0.00
Kurtosis:	14.041	Cond. No.	101.


Notes:
[1] R² is computed without centering (uncentered) since the model does not contain a constant.
[2] Standard Errors assume that the covariance matrix of the errors is correctly specified.
#what coefficients our regression model has chosen
regressor = LinearRegression()
regressor.fit(X1,yl)
coeff_df = pd.DataFrame(regressor.coef_, X1.columns, columns=['Coefficient'])  
coeff_df.sort_values("Coefficient",ascending=False)
Coefficient
Overall	0.096843
Release_Clause	0.015943
Growth	0.005246
Height	0.000251
Weight	-0.001860
Age	-0.047942
#Prediction on all data and calculate difference between tha actual value and predicted value
#ye=np.exp(yl)
y_pred = regressor.predict(X1)
df = pd.DataFrame({'Name':players.Name,'Actual': yl, 'Predicted': (y_pred)})
df['Actual_n'] = np.expm1(df['Actual'])
df['Predicted_n'] = np.expm1(df['Predicted'])
​
#df_under = round(df.sort_values('Difference_n').set_index('Name').head(10),2)
#df_over = round(df.sort_values('Difference_n').set_index('Name').tail(10),2)
df
Name	Actual	Predicted	Actual_n	Predicted_n
0	20 PC	0.392042	0.601308	0.48	0.824504
1	Adama Traoré	2.995732	2.599785	19.00	12.460838
2	R. Gosens	3.725693	3.514739	40.50	32.607148
3	N. Kanté	4.369448	5.078847	78.00	159.588751
4	N. Vlašić	3.555348	3.269917	34.00	25.309157
...	...	...	...	...	...
17745	19 D. Depetris	1.029619	1.015358	1.80	1.760352
17746	20 Carlos Castro	0.451076	0.653568	0.57	0.922388
17747	J. Silva	0.741937	0.772234	1.10	1.164596
17748	18 J. García Sancho	0.350657	0.645424	0.42	0.906795
17749	J. Cristaldo	0.955511	0.970090	1.60	1.638182
15265 rows × 5 columns

df['predict']=(regressor.predict(X1))
df['resid']= (yl-df.predict)
with sns.axes_style('white'):
    plot = df.plot(
        kind='scatter', x='predict', y='resid', alpha=0.5, figsize=(10,6))
*c* argument looks like a single numeric RGB or RGBA sequence, which should be avoided as value-mapping will have precedence in case its length matches with *x* & *y*.  Please use the *color* keyword-argument or provide a 2-D array with a single row if you intend to specify the same RGB or RGBA value for all points.

Linear Regression Assumptions
Assumption 1: Detecting correlation between residuals and observations
sns.heatmap(X1.corr())
<AxesSubplot:>

# Assumption 2: multicollinearity test according to Condition Number
#set up the model with log value

X1= players.loc[:,['Overall','Age','Weight','Height','Growth','Release_Clause',]]
y1= players.loc[:,"Value"]

yl = np.log1p(y1)

player_model1 = sm.OLS(yl, X1, data=players)

results1 = player_model1.fit()

results1.summary()
#set up the model with log value
​
X1= players.loc[:,['Overall','Age','Weight','Height','Growth','Release_Clause',]]
y1= players.loc[:,"Value"]
​
yl = np.log1p(y1)
​
player_model1 = sm.OLS(yl, X1, data=players)
​
results1 = player_model1.fit()
​
results1.summary()
OLS Regression Results
Dep. Variable:	Value	R-squared (uncentered):	0.960
Model:	OLS	Adj. R-squared (uncentered):	0.960
Method:	Least Squares	F-statistic:	6.054e+04
Date:	Mon, 31 May 2021	Prob (F-statistic):	0.00
Time:	17:40:52	Log-Likelihood:	-704.86
No. Observations:	15265	AIC:	1422.
Df Residuals:	15259	BIC:	1468.
Df Model:	6		
Covariance Type:	nonrobust		
coef	std err	t	P>|t|	[0.025	0.975]
Overall	0.0852	0.000	206.703	0.000	0.084	0.086
Age	-0.0612	0.001	-77.954	0.000	-0.063	-0.060
Weight	0.0106	0.000	25.555	0.000	0.010	0.011
Height	-0.0222	0.000	-81.721	0.000	-0.023	-0.022
Growth	-0.0108	0.001	-15.584	0.000	-0.012	-0.009
Release_Clause	0.0180	0.000	110.059	0.000	0.018	0.018
Omnibus:	2811.576	Durbin-Watson:	1.575
Prob(Omnibus):	0.000	Jarque-Bera (JB):	77532.647
Skew:	-0.029	Prob(JB):	0.00
Kurtosis:	14.041	Cond. No.	101.


Notes:
[1] R² is computed without centering (uncentered) since the model does not contain a constant.
[2] Standard Errors assume that the covariance matrix of the errors is correctly specified.
Assumption 3: regression is linear in parameters and correctly specified
​
# Regression Fit
plt.figure(figsize=(10,6),dpi=150),
lr = LinearRegression()
fit = lr.fit(X1,yl);
pred = lr.predict(X1)
plt.scatter(pred,yl)
plt.title("Regression Fit")
plt.show()

# Normal Q-Q Plot
plt.figure(figsize=(10,6),dpi=150),
stats.probplot(df['resid'], dist="norm", plot=plt)
plt.title("Normal Q-Q plot")
plt.show()

Assumption 4: residuals should be normally distributed with zero mean
# Plot your predicted values on the x-axis, and your residuals on the y-axis
​
player_model = sm.OLS(yl, X1, data=players)
​
resultsl = player_model.fit()
​
plt.figure(figsize=(10,6),dpi=150),
plt.style.use('default')
plt.scatter(resultsl.predict(), resultsl.resid);
plt.title("Residual Plot")
plt.ylabel("Residuals")
plt.xlabel("Prediction")
plt.show()

Assumption 5: Homoscedasticity test for residuals
# create histogram
plt.figure(figsize=(10,6),dpi=150),
​
y1.hist();
2
# note the positive skew
2

# quick reg plot
plt.figure(figsize=(10,6),dpi=150),
​
​
plt.scatter(X1.Overall,y1)
plt.scatter(X1.Overall,df.predict);

plt.figure(figsize=(10,6),dpi=150),
​
​
np.log1p(y1).hist();

Final Model
s
#set up the 4 models we're choosing from:
​
X1= players.loc[:,['Overall','Age','Int_Reputation','Growth','Release_Clause',]]
y1= players.loc[:,"Value"]
​
yl = np.log1p(y1)
​
X_train, X_test, y_train, y_test = train_test_split(X1,yl,test_size=0.2, random_state=10)
​
X_train, X_val, y_train, y_val = train_test_split(X1,yl, test_size=.25, random_state=10)
​
​
lm = LinearRegression()
​
#Feature scaling for train, val, and test so that we can run our ridge model on each
scaler = StandardScaler()
​
X_train_scaled = scaler.fit_transform(X_train.values)
X_val_scaled = scaler.transform(X_val.values)
X_test_scaled = scaler.transform(X_test.values)
​
lm_reg = Ridge(alpha=0.05, normalize=True)
​
lm_lasso = Lasso(alpha=0.05, normalize=True)
​
#Feature transforms for train, val, and test so that we can run our poly model on each
poly = PolynomialFeatures(degree=2) 
​
X1_poly = poly.fit_transform(X.values)
X_train_poly = poly.fit_transform(X_train.values)
X_val_poly = poly.transform(X_val.values)
X_test_poly = poly.transform(X_test.values)
​
lm_poly = LinearRegression()
​
lm.fit(X_train, y_train)
print(f'Linear Regression for all data R^2: {lm.score(X1, yl):.6f}')
print(f'Linear Regression for test data R^2: {lm.score(X_test, y_test):.6f}')
print(f'Linear Regression for validation data R^2: {lm.score(X_val, y_val):.6f}')
print("")
​
lm_reg.fit(X_train_scaled, y_train)
print(f'Ridge Regression for test data R^2: {lm_reg.score(X_test_scaled, y_test):.6f}')
print(f'Ridge Regression for validation data R^2: {lm_reg.score(X_val_scaled, y_val):.6f}')
print("")
​
​
lm_lasso.fit(X_train,y_train)
print(f'Lasso Regression for test data R^2: {lm_lasso.score(X_test, y_test):.6f}')
print(f'Lasso Regression for validation data R^2: {lm_lasso.score(X_val, y_val):.6f}')
print("")
​
lm_poly.fit(X_train_poly, y_train)
print(f'Degree 2 polynomial regression for test data R^2: {lm_poly.score(X_test_poly, y_test):.6f}')
print(f'Degree 2 polynomial regression for validation data R^2: {lm_poly.score(X_val_poly, y_val):.6f}')
Linear Regression for all data R^2: 0.917038
Linear Regression for test data R^2: 0.909776
Linear Regression for validation data R^2: 0.913701

Ridge Regression for test data R^2: 0.905726
Ridge Regression for validation data R^2: 0.909566

Lasso Regression for 
